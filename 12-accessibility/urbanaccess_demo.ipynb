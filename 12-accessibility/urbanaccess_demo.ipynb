{
 "cells": [
  {
   "cell_type": "markdown",
   "metadata": {
    "collapsed": true
   },
   "source": [
    "# CP255: Using Pandana and UrbanAccess to Measure Multi-Modal Accessibility with Pedestrian and Transit Networks"
   ]
  },
  {
   "cell_type": "markdown",
   "metadata": {},
   "source": [
    "Created by Sam Blanchard (blanchard@urbansim.com) (11/6/18)\n",
    "\n",
    "This notebook provides a brief overview of the basic functionality of Pandana and UrbanAccess.\n",
    "\n",
    "Topics that will be covered are the structure of Pandana graph networks, the acquisition of General Transit Feed Specification (GTFS) and OpenStreetMap (OSM) street network data, and network analysis using nearest feature and cumulative accessibility queries on pedestrian and transit Pandana networks."
   ]
  },
  {
   "cell_type": "markdown",
   "metadata": {},
   "source": [
    "** Pandana**  \n",
    "\n",
    "https://github.com/UDST/pandana\n",
    "\n",
    "Pandana is a Python and C++ network analysis tool that can compute network accessibility using: 1) shortest path queries between ODs for any number of nodes within a search radius; and 2) aggregation queries using a cumulative opportunities accessibility method.  \n",
    "\n",
    "A variety of statistics and can be used including sum, average, standard deviation, and count along with a number of distance decay functions such as linear and exponential. Pandana requires: 1) a set of OD node coordinates (e.g. based on addresses or Census block centroids) for which accessibility will be computed between and can include variables of interest such as socioeconomic data or business establishments that can be queried or aggregated; and 2) a network of nodes and weighted edges used for network routing. The OD nodes are connected to the nearest node in the graph network.\n",
    "\n",
    "Pandana calculates the shortest path (e.g. lowest cost path) between ODs over a hierarchical network using the contraction hierarchies algorithm.\n",
    "\n",
    "`Fletcher Foti and Paul Waddell. 2014. \"A Generalized Computational Framework for Accessibility: From the Pedestrian to the Metropolitan Scale`"
   ]
  },
  {
   "cell_type": "markdown",
   "metadata": {},
   "source": [
    "** UrbanAccess**\n",
    "\n",
    "https://github.com/UDST/urbanaccess\n",
    "\n",
    "UrbanAccess is a Python General Transit Feed Specification (GTFS) data acquisition, processing, and Pandana network creation tool designed to be used in tandem with Pandana for accessibility queries. UrbanAccess includes tools: 1) to connect and search GTFS data APIs; 2) validate GTFS data; 3) create individual agency or metropolitan scale transit networks; 4) compute headways; 5) penalize network impedance by transit mode.\n",
    "\n",
    "`Samuel D. Blanchard and Paul Waddell, 2017, \"UrbanAccess: Generalized Methodology for Measuring Regional Accessibility with an Integrated Pedestrian and Transit Network\" Transportation Research Record: Journal of the Transportation Research Board, 2653: 35–44.`"
   ]
  },
  {
   "cell_type": "markdown",
   "metadata": {},
   "source": [
    "** Notes ** \n",
    "    \n",
    "- GTFS feeds and OSM data are constantly updated. The data in this notebook may change over time which may result in slight differences in results.\n",
    "- This notebook uses Pandana v0.4.1 and UrbanAccess v0.2.0"
   ]
  },
  {
   "cell_type": "markdown",
   "metadata": {},
   "source": [
    "## Installation:"
   ]
  },
  {
   "cell_type": "code",
   "execution_count": null,
   "metadata": {},
   "outputs": [],
   "source": [
    "!pip install pandana==0.4.1\n",
    "!pip install urbanaccess==0.2.0"
   ]
  },
  {
   "cell_type": "code",
   "execution_count": null,
   "metadata": {},
   "outputs": [],
   "source": [
    "import os\n",
    "import pandas as pd\n",
    "import numpy as np\n",
    "\n",
    "import pandana as pdna\n",
    "from pandana.loaders import osm\n",
    "from pandana.utils import reindex\n",
    "\n",
    "import urbanaccess as ua\n",
    "from urbanaccess.config import settings\n",
    "from urbanaccess.gtfsfeeds import feeds\n",
    "from urbanaccess import gtfsfeeds\n",
    "from urbanaccess.gtfs.gtfsfeeds_dataframe import gtfsfeeds_dfs\n",
    "from urbanaccess.network import ua_network, load_network\n",
    "\n",
    "import matplotlib.pyplot as plt\n",
    "import matplotlib\n",
    "from mpl_toolkits.basemap import Basemap\n",
    "\n",
    "# Note: pyproj v1.9.5.1 Windows builds has a issue where the pyproj_datadir cannot be found.\n",
    "# Suggest downgrading if possible otherwise you must edit the package to give it your env Library\\\\share path\n",
    "\n",
    "# Note: tables v3.4.4 for py36 on Windows is missing the conda dependency snappy and will fail if snappy is not installed\n",
    "\n",
    "%matplotlib inline"
   ]
  },
  {
   "cell_type": "code",
   "execution_count": null,
   "metadata": {},
   "outputs": [],
   "source": [
    "# For Pandana <= v0.3.0 set number of unique Pandana networks that will be generated in this session. \n",
    "# For versions > v0.4.0 this is not required.\n",
    "# pdna.network.reserve_num_graphs(5)"
   ]
  },
  {
   "cell_type": "code",
   "execution_count": null,
   "metadata": {},
   "outputs": [],
   "source": [
    "# Pandana currently uses depreciated parameters in matplotlib, this hides the warning until its fixed\n",
    "import warnings\n",
    "import matplotlib.cbook\n",
    "warnings.filterwarnings(\"ignore\",category=matplotlib.cbook.mplDeprecation)"
   ]
  },
  {
   "cell_type": "code",
   "execution_count": null,
   "metadata": {},
   "outputs": [],
   "source": [
    "data_dir = 'data'"
   ]
  },
  {
   "cell_type": "markdown",
   "metadata": {},
   "source": [
    "# #1 Pandana network basics"
   ]
  },
  {
   "cell_type": "markdown",
   "metadata": {},
   "source": [
    "## Nodes"
   ]
  },
  {
   "cell_type": "markdown",
   "metadata": {},
   "source": [
    "Pandana nodes consist of a unique \"id\" with spatial coordinates (latitude and longitude). Nodes are the vertices of a graph network representing street intersections."
   ]
  },
  {
   "cell_type": "code",
   "execution_count": null,
   "metadata": {},
   "outputs": [],
   "source": [
    "nodes = pd.DataFrame({'id':[1,2,3,4],\n",
    "                      'x':[-122.302578,-122.177008,-122.181374,-122.184170],\n",
    "                      'y':[37.560184,37.481747,37.483689,37.484536]})\n",
    "nodes"
   ]
  },
  {
   "cell_type": "markdown",
   "metadata": {},
   "source": [
    "Plot the nodes"
   ]
  },
  {
   "cell_type": "code",
   "execution_count": null,
   "metadata": {},
   "outputs": [],
   "source": [
    "nodes.plot(x='x',y='y',kind='scatter')"
   ]
  },
  {
   "cell_type": "markdown",
   "metadata": {},
   "source": [
    "## Edges"
   ]
  },
  {
   "cell_type": "markdown",
   "metadata": {},
   "source": [
    "Pandana edges consist of a \"from\" node id and \"to\" node id column which is used to denote direction and an impedance column or weight column representing a friction factor for travel between the two nodes, in this case distance in meters, but this can also be travel time or a utility value. Edges are the connections between nodes representing streets and pathways."
   ]
  },
  {
   "cell_type": "code",
   "execution_count": null,
   "metadata": {},
   "outputs": [],
   "source": [
    "edges = pd.DataFrame({'from':[1,2,3],\n",
    "                      'to':[2,3,4],\n",
    "                      'distance_m':[3000,6000,8000]})\n",
    "edges"
   ]
  },
  {
   "cell_type": "markdown",
   "metadata": {},
   "source": [
    "Pandana edges can be either \"one way\" or \"two way\". Lets convert the one way edge table above to a two way edge table"
   ]
  },
  {
   "cell_type": "code",
   "execution_count": null,
   "metadata": {},
   "outputs": [],
   "source": [
    "edges = edges.append(edges.rename(inplace=False,columns={'from':'to','to':'from'})).reset_index(drop=True)\n",
    "edges"
   ]
  },
  {
   "cell_type": "markdown",
   "metadata": {},
   "source": [
    "# #2  Using UrbanAccess and Pandana to analyze transit+pedestrian networks"
   ]
  },
  {
   "cell_type": "markdown",
   "metadata": {},
   "source": [
    "# UrbanAccess"
   ]
  },
  {
   "cell_type": "markdown",
   "metadata": {},
   "source": [
    "## The feeds object"
   ]
  },
  {
   "cell_type": "markdown",
   "metadata": {},
   "source": [
    "The GTFS `feeds` object is a global `urbanaccess_gtfsfeeds` object that allows you to save and manage information needed to download multiple GTFS feeds. This object is a dictionary of the names of GTFS feeds or agencies and the URLs to use to download the corresponding feeds."
   ]
  },
  {
   "cell_type": "code",
   "execution_count": null,
   "metadata": {},
   "outputs": [],
   "source": [
    "feeds.to_dict()"
   ]
  },
  {
   "cell_type": "markdown",
   "metadata": {},
   "source": [
    "### Searching for GTFS feeds"
   ]
  },
  {
   "cell_type": "markdown",
   "metadata": {},
   "source": [
    "You can use the search function to find feeds on the GTFS Data Exchange (Note: the GTFS Data Exchange is no longer being maintained as of Summer 2016 so feeds here may be out of date)"
   ]
  },
  {
   "cell_type": "markdown",
   "metadata": {},
   "source": [
    "Let's search for feeds for transit agencies in the GTFS Data Exchange that we know serve Oakland, CA: \n",
    "\n",
    "1) Bay Area Rapid Transit District (BART) which runs the metro rail service and \n",
    "\n",
    "2) AC Transit which runs bus services.\n",
    "\n",
    "Let's start by finding the feed for the Bay Area Rapid Transit District (BART) by using the search term: `Bay Area Rapid Transit`"
   ]
  },
  {
   "cell_type": "code",
   "execution_count": null,
   "metadata": {},
   "outputs": [],
   "source": [
    "gtfsfeeds.search(search_text='Bay Area Rapid Transit',\n",
    "                 search_field=None,\n",
    "                 match='contains')"
   ]
  },
  {
   "cell_type": "markdown",
   "metadata": {},
   "source": [
    "Now that we see what can be found on the GTFS Data Exchange. Let's run this again but this time let's add the feed from your search to the feed download list"
   ]
  },
  {
   "cell_type": "code",
   "execution_count": null,
   "metadata": {},
   "outputs": [],
   "source": [
    "gtfsfeeds.search(search_text='Bay Area Rapid Transit',\n",
    "                 search_field=None,\n",
    "                 match='contains',\n",
    "                 add_feed=True)"
   ]
  },
  {
   "cell_type": "markdown",
   "metadata": {},
   "source": [
    "If you know of a GTFS feed located elsewhere or one that is more up to date, you can add additional feeds located at custom URLs by adding a dictionary with the key as the name of the service/agency and the value as the URL."
   ]
  },
  {
   "cell_type": "markdown",
   "metadata": {},
   "source": [
    "Let's do this for AC Transit which also operates in Oakland, CA.\n",
    "\n",
    "The link to their feed is here: http://www.actransit.org/planning-focus/data-resource-center/ and let's get the latest version as of Fall 2018"
   ]
  },
  {
   "cell_type": "code",
   "execution_count": null,
   "metadata": {},
   "outputs": [],
   "source": [
    "feeds.add_feed(add_dict={'ac transit': 'http://www.actransit.org/wp-content/uploads/GTFSFall18.zip'})"
   ]
  },
  {
   "cell_type": "markdown",
   "metadata": {},
   "source": [
    "Note the two GTFS feeds now in your feeds object ready to download"
   ]
  },
  {
   "cell_type": "code",
   "execution_count": null,
   "metadata": {},
   "outputs": [],
   "source": [
    "feeds.to_dict()"
   ]
  },
  {
   "cell_type": "markdown",
   "metadata": {},
   "source": [
    "# Downloading GTFS data"
   ]
  },
  {
   "cell_type": "markdown",
   "metadata": {},
   "source": [
    "Use the download function to download all the feeds in your feeds object at once. If no parameters are specified the existing feeds object will be used to acquire the data.\n",
    "\n",
    "By default, your data will be downloaded into the directory of this notebook in the folder: `data`"
   ]
  },
  {
   "cell_type": "code",
   "execution_count": null,
   "metadata": {},
   "outputs": [],
   "source": [
    "gtfsfeeds.download()"
   ]
  },
  {
   "cell_type": "markdown",
   "metadata": {},
   "source": [
    "For the purposes of this demo, the data had already been downloaded using the command above."
   ]
  },
  {
   "cell_type": "markdown",
   "metadata": {},
   "source": [
    "# Load GTFS data into an UrbanAccess transit data object"
   ]
  },
  {
   "cell_type": "markdown",
   "metadata": {},
   "source": [
    "Now that we have downloaded our data let's load our individual GTFS feeds (currently a series of text files stored on disk) into a combined network of Pandas DataFrames.\n",
    "\n",
    "- You can specify one feed or multiple feeds that are inside a root folder using the `gtfsfeed_path` parameter. If you want to aggregate multiple transit networks together, all the GTFS feeds you want to aggregate must be inside of a single root folder.\n",
    "- Turn on `validation` and set a bounding box with the `remove_stops_outsidebbox` parameter turned on to ensure all your GTFS feed data are within a specified area.\n",
    "\n",
    "Let's specify a bounding box of coordinates for the City of Oakland to subset the GTFS data to. You can generate a bounding box by going to http://boundingbox.klokantech.com/ and selecting the CSV format which should be: `(-122.355881,37.632226,-122.114775,37.884725)`"
   ]
  },
  {
   "cell_type": "code",
   "execution_count": null,
   "metadata": {
    "scrolled": false
   },
   "outputs": [],
   "source": [
    "validation = True\n",
    "verbose = True\n",
    "# bbox for City of Oakland\n",
    "bbox = (-122.355881,37.632226,-122.114775,37.884725)\n",
    "remove_stops_outsidebbox = True\n",
    "append_definitions = True\n",
    "\n",
    "loaded_feeds = ua.gtfs.load.gtfsfeed_to_df(gtfsfeed_path=None,\n",
    "                                           validation=validation,\n",
    "                                           verbose=verbose,\n",
    "                                           bbox=bbox,\n",
    "                                           remove_stops_outsidebbox=remove_stops_outsidebbox,\n",
    "                                           append_definitions=append_definitions)"
   ]
  },
  {
   "cell_type": "markdown",
   "metadata": {},
   "source": [
    "### The transit data object"
   ]
  },
  {
   "cell_type": "markdown",
   "metadata": {},
   "source": [
    "The output is a global `urbanaccess_gtfs_df` object that can be accessed with the specified variable `loaded_feeds`. This object holds all the individual GTFS feed files aggregated together with each GTFS feed file type in separate Pandas DataFrames to represent all the loaded transit feeds in a metropolitan area. "
   ]
  },
  {
   "cell_type": "code",
   "execution_count": null,
   "metadata": {},
   "outputs": [],
   "source": [
    "loaded_feeds.stops.head()"
   ]
  },
  {
   "cell_type": "markdown",
   "metadata": {},
   "source": [
    "Note the two transit services we have aggregated into one regional table"
   ]
  },
  {
   "cell_type": "code",
   "execution_count": null,
   "metadata": {},
   "outputs": [],
   "source": [
    "loaded_feeds.stops.unique_agency_id.unique()"
   ]
  },
  {
   "cell_type": "markdown",
   "metadata": {},
   "source": [
    "Quickly view the transit stop locations"
   ]
  },
  {
   "cell_type": "code",
   "execution_count": null,
   "metadata": {},
   "outputs": [],
   "source": [
    "loaded_feeds.stops.plot(kind='scatter', x='stop_lon', y='stop_lat', s=0.1)"
   ]
  },
  {
   "cell_type": "code",
   "execution_count": null,
   "metadata": {},
   "outputs": [],
   "source": [
    "loaded_feeds.routes.head()"
   ]
  },
  {
   "cell_type": "code",
   "execution_count": null,
   "metadata": {},
   "outputs": [],
   "source": [
    "loaded_feeds.stop_times.head()"
   ]
  },
  {
   "cell_type": "code",
   "execution_count": null,
   "metadata": {},
   "outputs": [],
   "source": [
    "loaded_feeds.trips.head()"
   ]
  },
  {
   "cell_type": "code",
   "execution_count": null,
   "metadata": {},
   "outputs": [],
   "source": [
    "loaded_feeds.calendar.head()"
   ]
  },
  {
   "cell_type": "markdown",
   "metadata": {},
   "source": [
    "# Create a transit network"
   ]
  },
  {
   "cell_type": "markdown",
   "metadata": {},
   "source": [
    "Now that we have loaded and standardized our GTFS data, let's create a travel time weighted graph from the GTFS feeds we have loaded."
   ]
  },
  {
   "cell_type": "markdown",
   "metadata": {},
   "source": [
    "Create a network for weekday `monday` service between 7 am and 10 am (`['07:00:00', '08:00:00']`) to represent travel times during the AM Peak period.\n",
    "\n",
    "Assumptions: We are using the service ids in the `calendar` file to subset the day of week, however if your feed uses the `calendar_dates` file and not the `calendar` file then you can use the `calendar_dates_lookup` parameter. This is not required for AC Transit and BART."
   ]
  },
  {
   "cell_type": "code",
   "execution_count": null,
   "metadata": {},
   "outputs": [],
   "source": [
    "ua.gtfs.network.create_transit_net(gtfsfeeds_dfs=loaded_feeds,\n",
    "                                   day='monday',\n",
    "                                   timerange=['07:00:00', '08:00:00'],\n",
    "                                   calendar_dates_lookup=None)"
   ]
  },
  {
   "cell_type": "markdown",
   "metadata": {},
   "source": [
    "### The UrbanAccess network object"
   ]
  },
  {
   "cell_type": "markdown",
   "metadata": {},
   "source": [
    "The output is a global `urbanaccess_network` object. This object holds the resulting graph comprised of nodes and edges for the processed GTFS network data for services operating at the day and time you specified inside of `transit_edges` and `transit_nodes`."
   ]
  },
  {
   "cell_type": "markdown",
   "metadata": {},
   "source": [
    "Let's set the global network object to a variable called `urbanaccess_net` that we can then inspect:"
   ]
  },
  {
   "cell_type": "code",
   "execution_count": null,
   "metadata": {},
   "outputs": [],
   "source": [
    "urbanaccess_net = ua.network.ua_network"
   ]
  },
  {
   "cell_type": "code",
   "execution_count": null,
   "metadata": {},
   "outputs": [],
   "source": [
    "urbanaccess_net.transit_edges.head()"
   ]
  },
  {
   "cell_type": "code",
   "execution_count": null,
   "metadata": {},
   "outputs": [],
   "source": [
    "urbanaccess_net.transit_nodes.head()"
   ]
  },
  {
   "cell_type": "code",
   "execution_count": null,
   "metadata": {},
   "outputs": [],
   "source": [
    "urbanaccess_net.transit_nodes.plot(kind='scatter', x='x', y='y', s=0.1)"
   ]
  },
  {
   "cell_type": "markdown",
   "metadata": {},
   "source": [
    "# Download OSM data"
   ]
  },
  {
   "cell_type": "markdown",
   "metadata": {
    "collapsed": true
   },
   "source": [
    "Now let's download OpenStreetMap (OSM) pedestrian street network data to produce a graph network of nodes and edges for Oakland, CA. We will use the same bounding box as before."
   ]
  },
  {
   "cell_type": "code",
   "execution_count": null,
   "metadata": {
    "scrolled": true
   },
   "outputs": [],
   "source": [
    "# nodes, edges = ua.osm.load.ua_network_from_bbox(bbox=bbox,\n",
    "#                                                 remove_lcn=True)"
   ]
  },
  {
   "cell_type": "markdown",
   "metadata": {},
   "source": [
    "Let's load previously saved data from step above"
   ]
  },
  {
   "cell_type": "code",
   "execution_count": null,
   "metadata": {
    "scrolled": true
   },
   "outputs": [],
   "source": [
    "h5file = os.path.join(data_dir, 'osm_walk_2way_oakland.h5')\n",
    "nodes = pd.HDFStore(h5file).nodes\n",
    "edges = pd.HDFStore(h5file).edges"
   ]
  },
  {
   "cell_type": "markdown",
   "metadata": {},
   "source": [
    "Inspect the nodes and edges, note the initial distance based weight in meters."
   ]
  },
  {
   "cell_type": "code",
   "execution_count": null,
   "metadata": {},
   "outputs": [],
   "source": [
    "nodes.head()"
   ]
  },
  {
   "cell_type": "code",
   "execution_count": null,
   "metadata": {},
   "outputs": [],
   "source": [
    "edges.head()"
   ]
  },
  {
   "cell_type": "markdown",
   "metadata": {},
   "source": [
    "# Create a pedestrian network"
   ]
  },
  {
   "cell_type": "markdown",
   "metadata": {
    "collapsed": true
   },
   "source": [
    "Now that we have our pedestrian network data let's create a travel time weighted graph from the pedestrian network we have loaded and add it to our existing UrbanAccess network object. We will assume a pedestrian travels on average at 3 mph.\n",
    "\n",
    "The resulting weighted network will be added to your UrbanAccess network object inside `osm_nodes` and `osm_edges`"
   ]
  },
  {
   "cell_type": "code",
   "execution_count": null,
   "metadata": {},
   "outputs": [],
   "source": [
    "ua.osm.network.create_osm_net(osm_edges=edges,\n",
    "                              osm_nodes=nodes,\n",
    "                              travel_speed_mph=3)"
   ]
  },
  {
   "cell_type": "markdown",
   "metadata": {},
   "source": [
    "Let's inspect the results which we can access inside of the existing `urbanaccess_net` variable:"
   ]
  },
  {
   "cell_type": "code",
   "execution_count": null,
   "metadata": {},
   "outputs": [],
   "source": [
    "urbanaccess_net.osm_nodes.head()"
   ]
  },
  {
   "cell_type": "code",
   "execution_count": null,
   "metadata": {},
   "outputs": [],
   "source": [
    "urbanaccess_net.osm_edges.head()"
   ]
  },
  {
   "cell_type": "code",
   "execution_count": null,
   "metadata": {},
   "outputs": [],
   "source": [
    "urbanaccess_net.osm_nodes.plot(kind='scatter', x='x', y='y', s=0.1)"
   ]
  },
  {
   "cell_type": "markdown",
   "metadata": {},
   "source": [
    "# Create an integrated transit and pedestrian network"
   ]
  },
  {
   "cell_type": "markdown",
   "metadata": {},
   "source": [
    "Now let's integrate the two networks together. The resulting graph will be added to your existing UrbanAccess network object. After running this step, your network will be ready to be used with Pandana.\n",
    "\n",
    "The resulting integrated network will be added to your UrbanAccess network object inside `net_nodes` and `net_edges`"
   ]
  },
  {
   "cell_type": "code",
   "execution_count": null,
   "metadata": {},
   "outputs": [],
   "source": [
    "ua.network.integrate_network(urbanaccess_network=urbanaccess_net,\n",
    "                             headways=False)"
   ]
  },
  {
   "cell_type": "markdown",
   "metadata": {},
   "source": [
    "Let's inspect the results which we can access inside of the existing `urbanaccess_net` variable:"
   ]
  },
  {
   "cell_type": "code",
   "execution_count": null,
   "metadata": {},
   "outputs": [],
   "source": [
    "urbanaccess_net.net_nodes.head()"
   ]
  },
  {
   "cell_type": "code",
   "execution_count": null,
   "metadata": {},
   "outputs": [],
   "source": [
    "urbanaccess_net.net_edges.head()"
   ]
  },
  {
   "cell_type": "code",
   "execution_count": null,
   "metadata": {},
   "outputs": [],
   "source": [
    "urbanaccess_net.net_edges[urbanaccess_net.net_edges['net_type'] == 'transit'].head()"
   ]
  },
  {
   "cell_type": "markdown",
   "metadata": {
    "collapsed": true
   },
   "source": [
    "# Save the network to disk"
   ]
  },
  {
   "cell_type": "markdown",
   "metadata": {},
   "source": [
    "You can save the final processed integrated network `net_nodes` and `net_edges` to disk inside of a HDF5 file. By default the file will be saved to the directory of this notebook in the folder `data`"
   ]
  },
  {
   "cell_type": "code",
   "execution_count": null,
   "metadata": {},
   "outputs": [],
   "source": [
    "ua.network.save_network(urbanaccess_network=urbanaccess_net,\n",
    "                        filename='final_net.h5',\n",
    "                        overwrite_key = True)"
   ]
  },
  {
   "cell_type": "markdown",
   "metadata": {
    "collapsed": true
   },
   "source": [
    "# Load saved network from disk"
   ]
  },
  {
   "cell_type": "markdown",
   "metadata": {},
   "source": [
    "You can load an existing processed integrated network HDF5 file from disk into a UrbanAccess network object."
   ]
  },
  {
   "cell_type": "code",
   "execution_count": null,
   "metadata": {},
   "outputs": [],
   "source": [
    "urbanaccess_net = ua.network.load_network(filename='final_net.h5')"
   ]
  },
  {
   "cell_type": "markdown",
   "metadata": {
    "collapsed": true
   },
   "source": [
    "# Visualize the network"
   ]
  },
  {
   "cell_type": "markdown",
   "metadata": {},
   "source": [
    "You can visualize the network you just created using basic UrbanAccess plot functions"
   ]
  },
  {
   "cell_type": "markdown",
   "metadata": {
    "collapsed": true
   },
   "source": [
    "### Integrated network"
   ]
  },
  {
   "cell_type": "code",
   "execution_count": null,
   "metadata": {},
   "outputs": [],
   "source": [
    "ua.plot.plot_net(nodes=urbanaccess_net.net_nodes,\n",
    "                 edges=urbanaccess_net.net_edges,\n",
    "                 bbox=bbox,\n",
    "                 fig_height=30, margin=0.02,\n",
    "                 edge_color='#999999', edge_linewidth=1, edge_alpha=1,\n",
    "                 node_color='black', node_size=1.1, node_alpha=1, node_edgecolor='none', node_zorder=3, nodes_only=False)"
   ]
  },
  {
   "cell_type": "markdown",
   "metadata": {
    "collapsed": true
   },
   "source": [
    "### Integrated network by travel time"
   ]
  },
  {
   "cell_type": "markdown",
   "metadata": {},
   "source": [
    "Use the `col_colors` function to color edges by travel time. In this case the darker red the higher the travel times."
   ]
  },
  {
   "cell_type": "markdown",
   "metadata": {},
   "source": [
    "Note the ability to see AC Transit's major bus arterial routes (in darker red) and transfer locations and BART rail network (rail stations are visible by the multiple bus connections at certain junctions in the network most visible in downtown Oakland at 19th, 12th Street, and Lake Merritt stations and Fruitvale and Coliseum stations) with the underlying pedestrian network. Downtown Oakland is located near the white cutout in the northeast middle section of the network which represents Lake Merritt."
   ]
  },
  {
   "cell_type": "code",
   "execution_count": null,
   "metadata": {},
   "outputs": [],
   "source": [
    "edgecolor = ua.plot.col_colors(df=urbanaccess_net.net_edges, col='weight', cmap='gist_heat_r', num_bins=5)\n",
    "ua.plot.plot_net(nodes=urbanaccess_net.net_nodes,\n",
    "                 edges=urbanaccess_net.net_edges,\n",
    "                 bbox=bbox,\n",
    "                 fig_height=30, margin=0.02,\n",
    "                 edge_color=edgecolor, edge_linewidth=1, edge_alpha=0.7,\n",
    "                 node_color='black', node_size=0, node_alpha=1, node_edgecolor='none', node_zorder=3, nodes_only=False)"
   ]
  },
  {
   "cell_type": "markdown",
   "metadata": {},
   "source": [
    "Let's zoom in closer to downtown Oakland using a new smaller extent bbox. Note the bus routes on the major arterials and the BART routes from station to station."
   ]
  },
  {
   "cell_type": "code",
   "execution_count": null,
   "metadata": {},
   "outputs": [],
   "source": [
    "edgecolor = ua.plot.col_colors(df=urbanaccess_net.net_edges, col='weight', cmap='gist_heat_r', num_bins=5)\n",
    "ua.plot.plot_net(nodes=urbanaccess_net.net_nodes,\n",
    "                 edges=urbanaccess_net.net_edges,\n",
    "                 bbox=(-122.282295, 37.795, -122.258434, 37.816022),\n",
    "                 fig_height=30, margin=0.02,\n",
    "                 edge_color=edgecolor, edge_linewidth=1, edge_alpha=0.7,\n",
    "                 node_color='black', node_size=0, node_alpha=1, node_edgecolor='none', node_zorder=3, nodes_only=False)"
   ]
  },
  {
   "cell_type": "markdown",
   "metadata": {
    "collapsed": true
   },
   "source": [
    "### Transit network"
   ]
  },
  {
   "cell_type": "markdown",
   "metadata": {},
   "source": [
    "You can also slice the network by network type"
   ]
  },
  {
   "cell_type": "code",
   "execution_count": null,
   "metadata": {},
   "outputs": [],
   "source": [
    "ua.plot.plot_net(nodes=urbanaccess_net.net_nodes,\n",
    "                 edges=urbanaccess_net.net_edges[urbanaccess_net.net_edges['net_type']=='transit'],\n",
    "                 bbox=None,\n",
    "                 fig_height=30, margin=0.02,\n",
    "                 edge_color='#999999', edge_linewidth=1, edge_alpha=1,\n",
    "                 node_color='black', node_size=0, node_alpha=1, node_edgecolor='none', node_zorder=3, nodes_only=False)"
   ]
  },
  {
   "cell_type": "markdown",
   "metadata": {
    "collapsed": true
   },
   "source": [
    "### Pedestrian network"
   ]
  },
  {
   "cell_type": "code",
   "execution_count": null,
   "metadata": {
    "scrolled": false
   },
   "outputs": [],
   "source": [
    "ua.plot.plot_net(nodes=urbanaccess_net.net_nodes,\n",
    "                 edges=urbanaccess_net.net_edges[urbanaccess_net.net_edges['net_type']=='walk'],\n",
    "                 bbox=None,\n",
    "                 fig_height=30, margin=0.02,\n",
    "                 edge_color='#999999', edge_linewidth=1, edge_alpha=1,\n",
    "                 node_color='black', node_size=0, node_alpha=1, node_edgecolor='none', node_zorder=3, nodes_only=False)"
   ]
  },
  {
   "cell_type": "markdown",
   "metadata": {},
   "source": [
    "You can slice the network using any attribute in edges. In this case let's examine bridges in the walk network."
   ]
  },
  {
   "cell_type": "code",
   "execution_count": null,
   "metadata": {
    "scrolled": false
   },
   "outputs": [],
   "source": [
    "ua.plot.plot_net(nodes=urbanaccess_net.net_nodes,\n",
    "                 edges=urbanaccess_net.net_edges[(urbanaccess_net.net_edges['net_type']=='walk') & \n",
    "                                                 (urbanaccess_net.net_edges['bridge']=='yes')],\n",
    "                 bbox=None,\n",
    "                 fig_height=30, margin=0.02,\n",
    "                 edge_color='red', edge_linewidth=2, edge_alpha=1,\n",
    "                 node_color='black', node_size=0, node_alpha=1, node_edgecolor='none', node_zorder=3, nodes_only=False)"
   ]
  },
  {
   "cell_type": "markdown",
   "metadata": {},
   "source": [
    "Search for other attributes of interest:"
   ]
  },
  {
   "cell_type": "code",
   "execution_count": null,
   "metadata": {},
   "outputs": [],
   "source": [
    "urbanaccess_net.net_edges.columns"
   ]
  },
  {
   "cell_type": "code",
   "execution_count": null,
   "metadata": {},
   "outputs": [],
   "source": [
    "urbanaccess_net.net_edges['highway'].unique()"
   ]
  },
  {
   "cell_type": "markdown",
   "metadata": {},
   "source": [
    "In this case let's examine all explicitly pedestrian network elements:"
   ]
  },
  {
   "cell_type": "code",
   "execution_count": null,
   "metadata": {},
   "outputs": [],
   "source": [
    "ua.plot.plot_net(nodes=urbanaccess_net.net_nodes,\n",
    "                 edges=urbanaccess_net.net_edges[(urbanaccess_net.net_edges['net_type']=='walk') & \n",
    "                                                 (urbanaccess_net.net_edges['highway'].isin(['cycleway',\n",
    "                                                                                             'footway',\n",
    "                                                                                             'steps',\n",
    "                                                                                             'path', \n",
    "                                                                                             'pedestrian']))],\n",
    "                 bbox=None,\n",
    "                 fig_height=30, margin=0.02,\n",
    "                 edge_color='#999999', edge_linewidth=1, edge_alpha=1,\n",
    "                 node_color='black', node_size=0, node_alpha=1, node_edgecolor='none', node_zorder=3, nodes_only=False)"
   ]
  },
  {
   "cell_type": "markdown",
   "metadata": {
    "collapsed": true
   },
   "source": [
    "### Transit network: AC Transit Route 51A"
   ]
  },
  {
   "cell_type": "markdown",
   "metadata": {},
   "source": [
    "Let's do the same with the transit network. In this case let's examine one route for AC Transit route 51A."
   ]
  },
  {
   "cell_type": "markdown",
   "metadata": {},
   "source": [
    "Looking at what routes are in the network for 51A we see route id: `51A_ac_transit`"
   ]
  },
  {
   "cell_type": "code",
   "execution_count": null,
   "metadata": {},
   "outputs": [],
   "source": [
    "urbanaccess_net.net_edges['unique_route_id'].unique()"
   ]
  },
  {
   "cell_type": "code",
   "execution_count": null,
   "metadata": {},
   "outputs": [],
   "source": [
    "ua.plot.plot_net(nodes=urbanaccess_net.net_nodes,\n",
    "                 edges=urbanaccess_net.net_edges[urbanaccess_net.net_edges['unique_route_id']=='51A_ac_transit'],\n",
    "                 bbox=bbox,\n",
    "                 fig_height=30, margin=0.02,\n",
    "                 edge_color='#999999', edge_linewidth=1, edge_alpha=1,\n",
    "                 node_color='black', node_size=25, node_alpha=1, node_edgecolor='none', node_zorder=3, nodes_only=False)"
   ]
  },
  {
   "cell_type": "markdown",
   "metadata": {
    "collapsed": true
   },
   "source": [
    "### Transit network: BART network"
   ]
  },
  {
   "cell_type": "markdown",
   "metadata": {},
   "source": [
    "We can also slice the data by agency. In this case let's view all BART routes and make the station nodes larger on our plot.\n",
    "\n",
    "Looking at what agencies are in the network for BART we see agency id: `bay_area_rapid_transit`"
   ]
  },
  {
   "cell_type": "code",
   "execution_count": null,
   "metadata": {},
   "outputs": [],
   "source": [
    "urbanaccess_net.net_edges['unique_agency_id'].unique()"
   ]
  },
  {
   "cell_type": "code",
   "execution_count": null,
   "metadata": {},
   "outputs": [],
   "source": [
    "ua.plot.plot_net(nodes=urbanaccess_net.net_nodes,\n",
    "                 edges=urbanaccess_net.net_edges[urbanaccess_net.net_edges['unique_agency_id']=='bay_area_rapid_transit'],\n",
    "                 bbox=bbox,\n",
    "                 fig_height=30, margin=0.02,\n",
    "                 edge_color='#999999', edge_linewidth=1, edge_alpha=1,\n",
    "                 node_color='black', node_size=100, node_alpha=1, node_edgecolor='none', node_zorder=3, nodes_only=False)"
   ]
  },
  {
   "cell_type": "markdown",
   "metadata": {
    "collapsed": true
   },
   "source": [
    "# Add average headways to network travel time"
   ]
  },
  {
   "cell_type": "markdown",
   "metadata": {
    "collapsed": true
   },
   "source": [
    "### Calculate route stop level headways"
   ]
  },
  {
   "cell_type": "markdown",
   "metadata": {},
   "source": [
    "The network we have generated so far only contains pure travel times. UrbanAccess allows for the calculation of and addition of route stop level average headways to the network. This is used as a proxy for passenger wait times at stops and stations. The route stop level average headway are added to the pedestrian to transit connector edges."
   ]
  },
  {
   "cell_type": "markdown",
   "metadata": {
    "collapsed": true
   },
   "source": [
    "Let's calculate headways for the same AM Peak time period. Statistics on route stop level headways will be added to your GTFS transit data object inside of `headways`"
   ]
  },
  {
   "cell_type": "code",
   "execution_count": null,
   "metadata": {},
   "outputs": [],
   "source": [
    "ua.gtfs.headways.headways(gtfsfeeds_df=loaded_feeds,\n",
    "                          headway_timerange=['07:00:00','08:00:00'])"
   ]
  },
  {
   "cell_type": "code",
   "execution_count": null,
   "metadata": {},
   "outputs": [],
   "source": [
    "loaded_feeds.headways.head()"
   ]
  },
  {
   "cell_type": "markdown",
   "metadata": {
    "collapsed": true
   },
   "source": [
    "### Add the route stop level average headways to your integrated network"
   ]
  },
  {
   "cell_type": "markdown",
   "metadata": {},
   "source": [
    "Now that headways have been calculated and added to your GTFS transit feed object, you can use them to generate a new integrated network that incorporates the headways within the pedestrian to transit connector edge travel times."
   ]
  },
  {
   "cell_type": "code",
   "execution_count": null,
   "metadata": {},
   "outputs": [],
   "source": [
    "ua.network.integrate_network(urbanaccess_network=urbanaccess_net,\n",
    "                             headways=True,\n",
    "                             urbanaccess_gtfsfeeds_df=loaded_feeds,\n",
    "                             headway_statistic='mean')"
   ]
  },
  {
   "cell_type": "markdown",
   "metadata": {},
   "source": [
    "### Integrated network by travel time with average headways"
   ]
  },
  {
   "cell_type": "code",
   "execution_count": null,
   "metadata": {},
   "outputs": [],
   "source": [
    "edgecolor = ua.plot.col_colors(df=urbanaccess_net.net_edges, col='weight', cmap='gist_heat_r', num_bins=5)\n",
    "ua.plot.plot_net(nodes=urbanaccess_net.net_nodes,\n",
    "                 edges=urbanaccess_net.net_edges,\n",
    "                 bbox=bbox,\n",
    "                 fig_height=30, margin=0.02,\n",
    "                 edge_color=edgecolor, edge_linewidth=1, edge_alpha=0.7,\n",
    "                 node_color='black', node_size=0, node_alpha=1, node_edgecolor='none', node_zorder=3, nodes_only=False)"
   ]
  },
  {
   "cell_type": "markdown",
   "metadata": {
    "collapsed": true
   },
   "source": [
    "# Using an UrbanAccess network with Pandana"
   ]
  },
  {
   "cell_type": "markdown",
   "metadata": {
    "collapsed": true
   },
   "source": [
    "Pandana (Pandas Network Analysis) is a tool to compute network accessibility metrics.\n",
    "\n",
    "Now that we have an integrated transit and pedestrian network that has been formatted for use with Pandana, we can now use Pandana right away to compute accessibility metrics.\n",
    "\n",
    "There are a couple of things to remember about UrbanAccess and Pandana:\n",
    "- UrbanAccess generates by default a one way network. One way means there is an explicit edge for each direction in the edge table. Where applicable, it is important to set any Pandana `two_way` parameters to `False` (they are `True` by default) to indicate that the network is a one way network.\n",
    "- As of Pandana v0.4.1, `node ids` and `from` and `to` columns in your network must be integer type and not string. UrbanAccess automatically generates both string and integer types so use the `from_int` and `to_int` columns in edges and the index in nodes `id_int`.\n",
    "- UrbanAccess by default will generate edge weights that represent travel time in units of minutes.\n",
    "\n",
    "For more on Pandana see the:\n",
    "\n",
    "**Pandana repo:** https://github.com/UDST/pandana \n",
    "\n",
    "**Pandana documentation:** http://udst.github.io/pandana/"
   ]
  },
  {
   "cell_type": "markdown",
   "metadata": {
    "collapsed": true
   },
   "source": [
    "## Load Census block data"
   ]
  },
  {
   "cell_type": "markdown",
   "metadata": {},
   "source": [
    "Let's load 2010 Census block data for the 9 county Bay Area. Note: These data have been processed from original Census and LEHD data."
   ]
  },
  {
   "cell_type": "code",
   "execution_count": null,
   "metadata": {
    "scrolled": true
   },
   "outputs": [],
   "source": [
    "h5file = os.path.join(data_dir, 'bay_area_demo_data.h5')\n",
    "blocks = pd.read_hdf(h5file,'blocks')\n",
    "# remove blocks that contain all water\n",
    "blocks = blocks[blocks['square_meters_land'] != 0]\n",
    "print ('Total number of blocks: {:,}'.format(len(blocks)))\n",
    "blocks.head()"
   ]
  },
  {
   "cell_type": "markdown",
   "metadata": {},
   "source": [
    "Let's subset the Census data to just be the bounding box for Oakland"
   ]
  },
  {
   "cell_type": "code",
   "execution_count": null,
   "metadata": {},
   "outputs": [],
   "source": [
    "lng_max, lat_min, lng_min, lat_max = bbox\n",
    "outside_bbox = blocks.loc[~(((lng_max < blocks[\"x\"]) & (blocks[\"x\"] < lng_min)) & ((lat_min < blocks[\"y\"]) & (blocks[\"y\"] < lat_max)))]\n",
    "blocks_subset = blocks.drop(outside_bbox.index)\n",
    "print ('Total number of subset blocks: {:,}'.format(len(blocks_subset)))"
   ]
  },
  {
   "cell_type": "code",
   "execution_count": null,
   "metadata": {
    "scrolled": false
   },
   "outputs": [],
   "source": [
    "blocks_subset.plot(kind='scatter', x='x', y='y', s=0.1)"
   ]
  },
  {
   "cell_type": "markdown",
   "metadata": {},
   "source": [
    "## Initialize the Transit+Pedestrian Pandana network"
   ]
  },
  {
   "cell_type": "markdown",
   "metadata": {},
   "source": [
    "Let's initialize our Pandana network object using our transit and pedestrian network we created. Note: the `from_int` and `to_int` as well as the `twoway=False` denoting this is a explicit one way network."
   ]
  },
  {
   "cell_type": "code",
   "execution_count": null,
   "metadata": {},
   "outputs": [],
   "source": [
    "%%time\n",
    "transit_ped_net = pdna.Network(urbanaccess_net.net_nodes[\"x\"],\n",
    "                               urbanaccess_net.net_nodes[\"y\"],\n",
    "                               urbanaccess_net.net_edges[\"from_int\"],\n",
    "                               urbanaccess_net.net_edges[\"to_int\"],\n",
    "                               urbanaccess_net.net_edges[[\"weight\"]], \n",
    "                               twoway=False)"
   ]
  },
  {
   "cell_type": "markdown",
   "metadata": {},
   "source": [
    "Now let's attach the node ids of the network to our blocks"
   ]
  },
  {
   "cell_type": "code",
   "execution_count": null,
   "metadata": {},
   "outputs": [],
   "source": [
    "blocks_subset['node_id_transit'] = transit_ped_net.get_node_ids(blocks_subset['x'], blocks_subset['y'])"
   ]
  },
  {
   "cell_type": "markdown",
   "metadata": {},
   "source": [
    "### Calculate cumulative accessibility"
   ]
  },
  {
   "cell_type": "markdown",
   "metadata": {},
   "source": [
    "Now let's compute an accessibility metric, in this case a cumulative accessibility metric."
   ]
  },
  {
   "cell_type": "markdown",
   "metadata": {},
   "source": [
    "Let's set the block variables we want to use as our accessibly metric on the Pandana network. In this case let's use `jobs`"
   ]
  },
  {
   "cell_type": "code",
   "execution_count": null,
   "metadata": {},
   "outputs": [],
   "source": [
    "transit_ped_net.set(blocks_subset.node_id_transit, variable = blocks_subset.jobs, name='jobs')"
   ]
  },
  {
   "cell_type": "markdown",
   "metadata": {},
   "source": [
    "Now let's run an cumulative accessibility query using our network and the jobs variable for three different travel time thresholds: 15, 30, 45 minutes."
   ]
  },
  {
   "cell_type": "markdown",
   "metadata": {},
   "source": [
    "Note: Depending on network size, radius threshold, computer processing power, and whether or not you are using multiple cores the compute process may take some time."
   ]
  },
  {
   "cell_type": "code",
   "execution_count": null,
   "metadata": {},
   "outputs": [],
   "source": [
    "%%time\n",
    "jobs_45 = transit_ped_net.aggregate(45, type='sum', decay='linear', name='jobs')\n",
    "jobs_30 = transit_ped_net.aggregate(30, type='sum', decay='linear', name='jobs')\n",
    "jobs_15 = transit_ped_net.aggregate(15, type='sum', decay='linear', name='jobs')"
   ]
  },
  {
   "cell_type": "markdown",
   "metadata": {},
   "source": [
    "Quickly visualize the accessibility query results. As expected, note that a travel time of 15 minutes results in a lower number of jobs accessible at each network node."
   ]
  },
  {
   "cell_type": "code",
   "execution_count": null,
   "metadata": {},
   "outputs": [],
   "source": [
    "print (jobs_45.head())\n",
    "print (jobs_30.head())\n",
    "print (jobs_15.head())"
   ]
  },
  {
   "cell_type": "code",
   "execution_count": null,
   "metadata": {
    "scrolled": true
   },
   "outputs": [],
   "source": [
    "results = pd.DataFrame({'jobs_45':reindex(jobs_45, blocks_subset.node_id_transit),\n",
    "                        'jobs_30':reindex(jobs_30, blocks_subset.node_id_transit),\n",
    "                        'jobs_15':reindex(jobs_15, blocks_subset.node_id_transit)})\n",
    "results.head()"
   ]
  },
  {
   "cell_type": "code",
   "execution_count": null,
   "metadata": {},
   "outputs": [],
   "source": [
    "results.describe()"
   ]
  },
  {
   "cell_type": "markdown",
   "metadata": {},
   "source": [
    "### Jobs accessible within 15 minutes"
   ]
  },
  {
   "cell_type": "markdown",
   "metadata": {},
   "source": [
    "Note how the radius of the number of jobs accessible expands as the time threshold increases where high accessibility is indicated in dark red. You can easily see downtown Oakland has the highest accessibility due to a convergence of transit routes and because downtown is where the majority of jobs in the area are located. Other high accessibility areas are visible elsewhere directly adjacent to BART metro rail stations of West Oakland, Fruitvale, and Coliseum and AC Transit bus routes on the main arterial road corridors."
   ]
  },
  {
   "cell_type": "code",
   "execution_count": null,
   "metadata": {},
   "outputs": [],
   "source": [
    "%%time\n",
    "transit_ped_net.plot(jobs_15, \n",
    "                    plot_type='scatter',\n",
    "                    fig_kwargs={'figsize':[20,20]},\n",
    "                    bmap_kwargs={'epsg':'26943','resolution':'h'},\n",
    "                    plot_kwargs={'cmap':'gist_heat_r','s':4,'edgecolor':'none'})"
   ]
  },
  {
   "cell_type": "markdown",
   "metadata": {},
   "source": [
    "### Jobs accessible within 30 minutes"
   ]
  },
  {
   "cell_type": "code",
   "execution_count": null,
   "metadata": {},
   "outputs": [],
   "source": [
    "%%time\n",
    "transit_ped_net.plot(jobs_30, \n",
    "                    plot_type='scatter',\n",
    "                    fig_kwargs={'figsize':[20,20]},\n",
    "                    bmap_kwargs={'epsg':'26943','resolution':'h'},\n",
    "                    plot_kwargs={'cmap':'gist_heat_r','s':4,'edgecolor':'none'})"
   ]
  },
  {
   "cell_type": "markdown",
   "metadata": {},
   "source": [
    "### Jobs accessible within 45 minutes"
   ]
  },
  {
   "cell_type": "code",
   "execution_count": null,
   "metadata": {},
   "outputs": [],
   "source": [
    "%%time\n",
    "transit_ped_net.plot(jobs_45, \n",
    "                    plot_type='scatter',\n",
    "                    fig_kwargs={'figsize':[20,20]},\n",
    "                    bmap_kwargs={'epsg':'26943','resolution':'h'},\n",
    "                    plot_kwargs={'cmap':'gist_heat_r','s':4,'edgecolor':'none'})"
   ]
  },
  {
   "cell_type": "markdown",
   "metadata": {},
   "source": [
    "### Calculate nearest features using POIs"
   ]
  },
  {
   "cell_type": "markdown",
   "metadata": {},
   "source": [
    "Now let's compute another accessibility metric, in this case a nearest feature query."
   ]
  },
  {
   "cell_type": "markdown",
   "metadata": {},
   "source": [
    "Load preprocessed POI data representing hospitals (via CA OSHPD: https://www.oshpd.ca.gov/documents/HWDD/GIS/HealthcareFacilities201210.zip) and protected areas in California (via GreenInfo Network: http://www.atlas.ca.gov/download.html#/casil/planning/Land_Ownership/CPAD/CPAD-2016b-December2016) and subset to our bounding box for Oakland. "
   ]
  },
  {
   "cell_type": "code",
   "execution_count": null,
   "metadata": {
    "scrolled": true
   },
   "outputs": [],
   "source": [
    "parks = pd.read_csv(os.path.join(data_dir, 'CPAD_2016_Units.csv') ,encoding='utf-8',index_col=0)\n",
    "hospitals = pd.read_csv(os.path.join(data_dir, 'OSHPD_2012.csv'),encoding='utf-8',index_col=0)\n",
    "print('Loaded {:,} parks and {:,} hospitals'.format(len(parks),len(hospitals)))"
   ]
  },
  {
   "cell_type": "code",
   "execution_count": null,
   "metadata": {
    "scrolled": true
   },
   "outputs": [],
   "source": [
    "outside_bbox = parks.loc[~(((lng_max < parks[\"x\"]) & (parks[\"x\"] < lng_min)) & ((lat_min < parks[\"y\"]) & (parks[\"y\"] < lat_max)))]\n",
    "parks_subset = parks.drop(outside_bbox.index)\n",
    "parks_subset = parks_subset[parks_subset['ACCESS_TYP'] == 'Open Access']\n",
    "print ('Total number of subset parks: {:,}'.format(len(parks_subset)))\n",
    "\n",
    "outside_bbox = hospitals.loc[~(((lng_max < hospitals[\"x\"]) & (hospitals[\"x\"] < lng_min)) & ((lat_min < hospitals[\"y\"]) & (hospitals[\"y\"] < lat_max)))]\n",
    "hospitals_subset = hospitals.drop(outside_bbox.index)\n",
    "hospitals_subset = hospitals_subset[hospitals_subset['TYPE'] == 'Hospital']\n",
    "hospitals_subset = hospitals_subset[hospitals_subset['FAC_STATUS'] == 'Open']\n",
    "print ('Total number of subset hospitals: {:,}'.format(len(hospitals_subset)))"
   ]
  },
  {
   "cell_type": "code",
   "execution_count": null,
   "metadata": {
    "scrolled": false
   },
   "outputs": [],
   "source": [
    "hospitals_subset.head()"
   ]
  },
  {
   "cell_type": "code",
   "execution_count": null,
   "metadata": {},
   "outputs": [],
   "source": [
    "hospitals_subset.plot(kind='scatter', x='x', y='y', s=5)"
   ]
  },
  {
   "cell_type": "code",
   "execution_count": null,
   "metadata": {},
   "outputs": [],
   "source": [
    "parks_subset.head()"
   ]
  },
  {
   "cell_type": "code",
   "execution_count": null,
   "metadata": {},
   "outputs": [],
   "source": [
    "parks_subset.plot(kind='scatter', x='x', y='y', s=2)"
   ]
  },
  {
   "cell_type": "markdown",
   "metadata": {},
   "source": [
    "In Pandana v0.4.0, we can set the POIs on to the network. "
   ]
  },
  {
   "cell_type": "code",
   "execution_count": null,
   "metadata": {},
   "outputs": [],
   "source": [
    "# If using Pandana v0.3.0, we must first initialize the POIs and parameters we want to use in the analysis \n",
    "# and then set the POIs on to the network. \n",
    "# transit_ped_net.init_pois(num_categories=2, max_dist=45, max_pois=2)"
   ]
  },
  {
   "cell_type": "code",
   "execution_count": null,
   "metadata": {
    "scrolled": false
   },
   "outputs": [],
   "source": [
    "transit_ped_net.set_pois(category=\"parks\", x_col=parks_subset['x'], y_col=parks_subset['y'], maxdist=45, maxitems=2)\n",
    "transit_ped_net.set_pois(category=\"hospitals\", x_col=hospitals_subset['x'], y_col=hospitals_subset['y'], maxdist=45, maxitems=2)"
   ]
  },
  {
   "cell_type": "markdown",
   "metadata": {},
   "source": [
    "Now let's run a nearest feature query using our network and the two POI categories to calculate the distance from each network node to the 2 nearest parks and hospitals up to 30 minutes of travel time. Anything past 30 minutes will be given a value of 0."
   ]
  },
  {
   "cell_type": "markdown",
   "metadata": {},
   "source": [
    "Note: Depending on network size, radius, computer processing power, and whether or not you are using multiple cores the compute process may take some time."
   ]
  },
  {
   "cell_type": "code",
   "execution_count": null,
   "metadata": {},
   "outputs": [],
   "source": [
    "%%time\n",
    "nearest_parks = transit_ped_net.nearest_pois(distance=30, category=\"parks\", \n",
    "                                             num_pois=2,max_distance=0, include_poi_ids=True)\n",
    "nearest_hospitals = transit_ped_net.nearest_pois(distance=30, category=\"hospitals\", \n",
    "                                                 num_pois=2,max_distance=0,  include_poi_ids=True)"
   ]
  },
  {
   "cell_type": "markdown",
   "metadata": {},
   "source": [
    "Quickly view the results"
   ]
  },
  {
   "cell_type": "code",
   "execution_count": null,
   "metadata": {},
   "outputs": [],
   "source": [
    "nearest_hospitals[nearest_hospitals[1]>0].head()"
   ]
  },
  {
   "cell_type": "code",
   "execution_count": null,
   "metadata": {},
   "outputs": [],
   "source": [
    "hospitals_subset[hospitals_subset.index == 7421]"
   ]
  },
  {
   "cell_type": "code",
   "execution_count": null,
   "metadata": {},
   "outputs": [],
   "source": [
    "nearest_hospitals[1].describe()"
   ]
  },
  {
   "cell_type": "code",
   "execution_count": null,
   "metadata": {},
   "outputs": [],
   "source": [
    "nearest_parks[nearest_parks[1]>0].head()"
   ]
  },
  {
   "cell_type": "code",
   "execution_count": null,
   "metadata": {},
   "outputs": [],
   "source": [
    "parks_subset[parks_subset.index == 5658]"
   ]
  },
  {
   "cell_type": "code",
   "execution_count": null,
   "metadata": {
    "scrolled": false
   },
   "outputs": [],
   "source": [
    "nearest_parks[1].describe()"
   ]
  },
  {
   "cell_type": "markdown",
   "metadata": {},
   "source": [
    "### Accessibility to hospitals within 30 minutes"
   ]
  },
  {
   "cell_type": "markdown",
   "metadata": {},
   "source": [
    "Now let's plot the results"
   ]
  },
  {
   "cell_type": "markdown",
   "metadata": {},
   "source": [
    "You can see nodes that are closer to hospitals are colored bright yellow and ones further away are dark red. Ones that are not within the 30 minute travel time are not displayed and are white."
   ]
  },
  {
   "cell_type": "code",
   "execution_count": null,
   "metadata": {
    "scrolled": false
   },
   "outputs": [],
   "source": [
    "%%time\n",
    "transit_ped_net.plot(nearest_hospitals[1], \n",
    "                    plot_type='scatter',\n",
    "                    fig_kwargs={'figsize':[20,20]},\n",
    "                    bmap_kwargs={'epsg':'26943','resolution':'h'},\n",
    "                    plot_kwargs={'cmap':'gist_heat_r','s':6,'edgecolor':'none'})"
   ]
  },
  {
   "cell_type": "markdown",
   "metadata": {},
   "source": [
    "### Accessibility to parks within 30 minutes"
   ]
  },
  {
   "cell_type": "markdown",
   "metadata": {},
   "source": [
    "You can see nodes that are closer to parks are colored bright yellow and ones further away are dark red. Ones that are not within the 30 minute travel time are not displayed and are white."
   ]
  },
  {
   "cell_type": "code",
   "execution_count": null,
   "metadata": {
    "scrolled": false
   },
   "outputs": [],
   "source": [
    "%%time\n",
    "transit_ped_net.plot(nearest_parks[1], \n",
    "                    plot_type='scatter',\n",
    "                    fig_kwargs={'figsize':[20,20]},\n",
    "                    bmap_kwargs={'epsg':'26943','resolution':'h'},\n",
    "                    plot_kwargs={'cmap':'gist_heat_r','s':6,'edgecolor':'none'})"
   ]
  },
  {
   "cell_type": "markdown",
   "metadata": {},
   "source": [
    "# #3  Examples of a simple analysis"
   ]
  },
  {
   "cell_type": "markdown",
   "metadata": {},
   "source": [
    "## Difference in access by mode"
   ]
  },
  {
   "cell_type": "code",
   "execution_count": null,
   "metadata": {
    "scrolled": true
   },
   "outputs": [],
   "source": [
    "results_transit = results.copy()\n",
    "\n",
    "h5file = os.path.join(data_dir, 'osm_walk_2way_oakland.h5')\n",
    "osm_walk_nodes = pd.HDFStore(h5file).nodes\n",
    "osm_walk_edges = pd.HDFStore(h5file).edges\n",
    "print ('Loaded {} nodes {} edges'.format(str(len(osm_walk_nodes)), str(len(osm_walk_edges))))\n",
    "\n",
    "SPEED_MPH = 3\n",
    "osm_walk_edges['travel_time_min'] = (osm_walk_edges['distance']/1609.34) / SPEED_MPH * 60\n",
    "print ('Converted edge weight')\n",
    "\n",
    "walk_net = pdna.Network(osm_walk_nodes[\"x\"], \n",
    "                   osm_walk_nodes[\"y\"], \n",
    "                   osm_walk_edges[\"from\"], \n",
    "                   osm_walk_edges[\"to\"],\n",
    "                   osm_walk_edges[[\"travel_time_min\"]],twoway=True)\n",
    "\n",
    "blocks['node_id'] = walk_net.get_node_ids(blocks['x'], blocks['y'])\n",
    "walk_net.set(blocks.node_id, variable = blocks.jobs, name='jobs')\n",
    "walk_jobs_30 = walk_net.aggregate(30, \n",
    "                              type='sum', \n",
    "                              decay='linear', \n",
    "                              name = 'jobs')\n",
    "print ('Aggregation completed')\n",
    "\n",
    "results_walk = pd.DataFrame({'walk_jobs_30':reindex(walk_jobs_30, blocks.node_id)})\n",
    "results_combined = results_transit.join(results_walk, how='left', sort=False)\n",
    "results_combined = results_combined.join(blocks[['x','y']], how='left', sort=False)\n",
    "results_combined['access_diff'] = results_combined['walk_jobs_30']-results_combined['jobs_30']\n",
    "results_combined[['access_diff']].tail()"
   ]
  },
  {
   "cell_type": "code",
   "execution_count": null,
   "metadata": {},
   "outputs": [],
   "source": [
    "results_combined[results_combined['access_diff'] < 100000].hist(column='access_diff', bins=30)"
   ]
  },
  {
   "cell_type": "markdown",
   "metadata": {},
   "source": [
    "## Relationship between access and other variables"
   ]
  },
  {
   "cell_type": "markdown",
   "metadata": {},
   "source": [
    "You can combine census data with accessibility metrics in order to investigate patterns of low or high access neighborhoods and socioeconomics.\n",
    "\n",
    "Lets see what the relationship is between average household income and transit accessibility (using a 30 min travel time)"
   ]
  },
  {
   "cell_type": "code",
   "execution_count": null,
   "metadata": {},
   "outputs": [],
   "source": [
    "results_combined = results_transit.join(blocks, how='left', sort=False)\n",
    "results_combined_subset = results_combined[results_combined['income']<200000]\n",
    "results_combined_subset.plot.scatter(x='jobs_30',y='income',s=2)"
   ]
  },
  {
   "cell_type": "code",
   "execution_count": null,
   "metadata": {},
   "outputs": [],
   "source": []
  }
 ],
 "metadata": {
  "kernelspec": {
   "display_name": "Python 3",
   "language": "python",
   "name": "python3"
  },
  "language_info": {
   "codemirror_mode": {
    "name": "ipython",
    "version": 3
   },
   "file_extension": ".py",
   "mimetype": "text/x-python",
   "name": "python",
   "nbconvert_exporter": "python",
   "pygments_lexer": "ipython3",
   "version": "3.7.0"
  }
 },
 "nbformat": 4,
 "nbformat_minor": 1
}
