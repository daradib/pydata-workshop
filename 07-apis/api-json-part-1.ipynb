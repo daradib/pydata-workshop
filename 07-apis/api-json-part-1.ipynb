{
 "cells": [
  {
   "cell_type": "markdown",
   "metadata": {},
   "source": [
    "## Understanding JSON structured data"
   ]
  },
  {
   "cell_type": "markdown",
   "metadata": {},
   "source": [
    "Using APIs on the web typically involves dealing with JSON formatted results, so let's start with that. \n",
    "\n",
    "### What is JSON?\n",
    "\n",
    "* **JSON**: JavaScript Object Notation is a very standard semi-structured file format used to store nested data.\n",
    "\n",
    "```javascript\n",
    "{\n",
    "    \"field1\": \"value1\",\n",
    "    \"field2\": [\"list\", \"of\", \"values\"],\n",
    "    \"myfield3\": {\"is_recursive\": true, \"a null value\": null}\n",
    "}\n",
    "```\n",
    "\n",
    "A few key points:\n",
    "* JSON is a recursive or hierarchical format in that JSON fields can also contain JSON objects\n",
    "* JSON closely matches Python Dictionaries:\n",
    "```python\n",
    "d = {\n",
    "    \"field1\": \"value1\",\n",
    "    \"field2\": [\"list\", \"of\", \"values\"],\n",
    "    \"myfield3\": {\"is_recursive\": True, \"a null value\": None}\n",
    "}\n",
    "print(d['myfield3'])\n",
    "```"
   ]
  },
  {
   "cell_type": "markdown",
   "metadata": {},
   "source": [
    "\n",
    "\n",
    "## Introduction to Accessing Data via APIs and Processing JSON Formatted Results\n",
    "\n",
    "Let's get some street tree data from the San Francisco Open Data Portal and use it to practice with APIs."
   ]
  },
  {
   "cell_type": "code",
   "execution_count": 45,
   "metadata": {},
   "outputs": [],
   "source": [
    "%matplotlib inline\n",
    "\n",
    "import pandas as pd\n",
    "\n",
    "import json      # library for working with JSON-formatted text strings\n",
    "import requests  # library for accessing content from web URLs\n",
    "\n",
    "import pprint    # library for cleanly printing Python data structures\n",
    "pp = pprint.PrettyPrinter()"
   ]
  },
  {
   "cell_type": "markdown",
   "metadata": {},
   "source": [
    "First get familiar with the API endpoint from the portal documentation:\n",
    "https://data.sfgov.org/City-Infrastructure/Tree-Caretakers-in-San-Francisco/frdy-nem6\n",
    "\n",
    "Under Export / SODA (Socrata Open Data API) we can see the API endpoint url, and the columns available."
   ]
  },
  {
   "cell_type": "code",
   "execution_count": 8,
   "metadata": {},
   "outputs": [],
   "source": [
    "# download data\n",
    "endpoint_url = \"https://data.sfgov.org/resource/frdy-nem6.json\"\n",
    "response = requests.get(endpoint_url)\n",
    "results = response.text"
   ]
  },
  {
   "cell_type": "code",
   "execution_count": 12,
   "metadata": {},
   "outputs": [
    {
     "name": "stdout",
     "output_type": "stream",
     "text": [
      "[ {\n",
      "  \"siteorder\" : \"1\",\n",
      "  \"xcoord\" : \"6016267.25355\",\n",
      "  \"location\" : {\n",
      "    \"latitude\" : \"37.7363616200932\",\n",
      "    \"human_address\" : \"{\\\"address\\\": \\\"\\\", \\\"city\\\": \\\"\\\", \\\"state\\\": \\\"\\\", \\\"zip\\\": \\\"\\\"}\",\n",
      "    \"needs_recoding\" : false,\n",
      "    \"longitude\" : \"-122.38620200123\"\n",
      "  },\n",
      "  \"qlegalstatus\" : \"DPW Maintained\",\n",
      "  \"ycoord\" : \"2096084.36716\",\n",
      "  \"planttype\" : \"Tree\",\n",
      "  \"dbh\" : \"16\",\n",
      "  \"qaddress\" : \"9 Young Ct\",\n",
      "  \"latitude\" : \"37.7363616200932\",\n",
      "  \"qcaretaker\" : \"Private\",\n",
      "  \"qsiteinfo\" : \"Sidewalk: \n",
      "<class 'str'>\n"
     ]
    }
   ],
   "source": [
    "# print the first 500 characters to see a sample of the data\n",
    "print(results[:500])\n",
    "\n",
    "print(type(results))"
   ]
  },
  {
   "cell_type": "code",
   "execution_count": 21,
   "metadata": {
    "scrolled": true
   },
   "outputs": [
    {
     "name": "stdout",
     "output_type": "stream",
     "text": [
      "[{'siteorder': '1', 'xcoord': '6016267.25355', 'location': {'latitude': '37.7363616200932', 'human_address': '{\"address\": \"\", \"city\": \"\", \"state\": \"\", \"zip\": \"\"}', 'needs_recoding': False, 'longitude': '-122.38620200123'}, 'qlegalstatus': 'DPW Maintained', 'ycoord': '2096084.36716', 'planttype': 'Tree', 'dbh': '16', 'qaddress': '9 Young Ct', 'latitude': '37.7363616200932', 'qcaretaker': 'Private', 'qsiteinfo': 'Sidewalk: Curb side : Cutout', 'longitude': '-122.38620200123', 'qspecies': 'Pyrus calleryana :: Ornamental Pear', 'plotsize': 'Width 3ft', 'treeid': '196949'}, {'siteorder': '1', 'xcoord': '5993354.86667', 'location': {'latitude': '37.738391538344', 'human_address': '{\"address\": \"\", \"city\": \"\", \"state\": \"\", \"zip\": \"\"}', 'needs_recoding': False, 'longitude': '-122.465506999949'}, 'qlegalstatus': 'DPW Maintained', 'ycoord': '2097295.22775', 'planttype': 'Tree', 'dbh': '2', 'qaddress': '9 Yerba Buena Ave', 'latitude': '37.738391538344', 'qcaretaker': 'Private', 'qsiteinfo': 'Sidewalk: Curb side : Yard', 'longitude': '-122.465506999949', 'qspecies': 'Acer rubrum :: Red Maple', 'plotsize': 'Width 4ft', 'treeid': '203422'}, {'siteorder': '1', 'xcoord': '5993642.27748', 'location': {'latitude': '37.7377517864641', 'human_address': '{\"address\": \"\", \"city\": \"\", \"state\": \"\", \"zip\": \"\"}', 'needs_recoding': False, 'longitude': '-122.46449593033'}, 'plantdate': '2016-02-24T00:00:00.000', 'qlegalstatus': 'Significant Tree', 'ycoord': '2097056.19499', 'planttype': 'Tree', 'dbh': '3', 'qaddress': '9x Yerba Buena Ave', 'latitude': '37.7377517864641', 'qcaretaker': 'Private', 'permitnotes': 'Permit Number 776557', 'qsiteinfo': 'Sidewalk: Curb side : Cutout', 'longitude': '-122.46449593033', 'qspecies': 'Acer rubrum :: Red Maple', 'treeid': '115737'}]\n",
      "<class 'list'>\n"
     ]
    }
   ],
   "source": [
    "# parse the string into a Python dictionary (loads = \"load string\")\n",
    "data = json.loads(results)\n",
    "print(data[:3])\n",
    "print(type(data))\n"
   ]
  },
  {
   "cell_type": "markdown",
   "metadata": {},
   "source": [
    "Note that using print to see the first three items in the results list is very hard to read since it has no structured formatting.  To solve this, you can use Pretty Print:"
   ]
  },
  {
   "cell_type": "code",
   "execution_count": 23,
   "metadata": {
    "scrolled": true
   },
   "outputs": [
    {
     "name": "stdout",
     "output_type": "stream",
     "text": [
      "[{'dbh': '16',\n",
      "  'latitude': '37.7363616200932',\n",
      "  'location': {'human_address': '{\"address\": \"\", \"city\": \"\", \"state\": \"\", '\n",
      "                                '\"zip\": \"\"}',\n",
      "               'latitude': '37.7363616200932',\n",
      "               'longitude': '-122.38620200123',\n",
      "               'needs_recoding': False},\n",
      "  'longitude': '-122.38620200123',\n",
      "  'planttype': 'Tree',\n",
      "  'plotsize': 'Width 3ft',\n",
      "  'qaddress': '9 Young Ct',\n",
      "  'qcaretaker': 'Private',\n",
      "  'qlegalstatus': 'DPW Maintained',\n",
      "  'qsiteinfo': 'Sidewalk: Curb side : Cutout',\n",
      "  'qspecies': 'Pyrus calleryana :: Ornamental Pear',\n",
      "  'siteorder': '1',\n",
      "  'treeid': '196949',\n",
      "  'xcoord': '6016267.25355',\n",
      "  'ycoord': '2096084.36716'},\n",
      " {'dbh': '2',\n",
      "  'latitude': '37.738391538344',\n",
      "  'location': {'human_address': '{\"address\": \"\", \"city\": \"\", \"state\": \"\", '\n",
      "                                '\"zip\": \"\"}',\n",
      "               'latitude': '37.738391538344',\n",
      "               'longitude': '-122.465506999949',\n",
      "               'needs_recoding': False},\n",
      "  'longitude': '-122.465506999949',\n",
      "  'planttype': 'Tree',\n",
      "  'plotsize': 'Width 4ft',\n",
      "  'qaddress': '9 Yerba Buena Ave',\n",
      "  'qcaretaker': 'Private',\n",
      "  'qlegalstatus': 'DPW Maintained',\n",
      "  'qsiteinfo': 'Sidewalk: Curb side : Yard',\n",
      "  'qspecies': 'Acer rubrum :: Red Maple',\n",
      "  'siteorder': '1',\n",
      "  'treeid': '203422',\n",
      "  'xcoord': '5993354.86667',\n",
      "  'ycoord': '2097295.22775'},\n",
      " {'dbh': '3',\n",
      "  'latitude': '37.7377517864641',\n",
      "  'location': {'human_address': '{\"address\": \"\", \"city\": \"\", \"state\": \"\", '\n",
      "                                '\"zip\": \"\"}',\n",
      "               'latitude': '37.7377517864641',\n",
      "               'longitude': '-122.46449593033',\n",
      "               'needs_recoding': False},\n",
      "  'longitude': '-122.46449593033',\n",
      "  'permitnotes': 'Permit Number 776557',\n",
      "  'plantdate': '2016-02-24T00:00:00.000',\n",
      "  'planttype': 'Tree',\n",
      "  'qaddress': '9x Yerba Buena Ave',\n",
      "  'qcaretaker': 'Private',\n",
      "  'qlegalstatus': 'Significant Tree',\n",
      "  'qsiteinfo': 'Sidewalk: Curb side : Cutout',\n",
      "  'qspecies': 'Acer rubrum :: Red Maple',\n",
      "  'siteorder': '1',\n",
      "  'treeid': '115737',\n",
      "  'xcoord': '5993642.27748',\n",
      "  'ycoord': '2097056.19499'}]\n"
     ]
    }
   ],
   "source": [
    "pp.pprint(data[:3])"
   ]
  },
  {
   "cell_type": "markdown",
   "metadata": {},
   "source": [
    "Now that we can see the structure of the data, let's explore how we can get data out of this into a Pandas dataframe to work with it more easily."
   ]
  },
  {
   "cell_type": "code",
   "execution_count": 25,
   "metadata": {
    "scrolled": false
   },
   "outputs": [
    {
     "data": {
      "text/html": [
       "<div>\n",
       "<style scoped>\n",
       "    .dataframe tbody tr th:only-of-type {\n",
       "        vertical-align: middle;\n",
       "    }\n",
       "\n",
       "    .dataframe tbody tr th {\n",
       "        vertical-align: top;\n",
       "    }\n",
       "\n",
       "    .dataframe thead th {\n",
       "        text-align: right;\n",
       "    }\n",
       "</style>\n",
       "<table border=\"1\" class=\"dataframe\">\n",
       "  <thead>\n",
       "    <tr style=\"text-align: right;\">\n",
       "      <th></th>\n",
       "      <th>permitnotes</th>\n",
       "      <th>qspecies</th>\n",
       "      <th>treeid</th>\n",
       "      <th>planttype</th>\n",
       "      <th>qcaretaker</th>\n",
       "    </tr>\n",
       "  </thead>\n",
       "  <tbody>\n",
       "    <tr>\n",
       "      <th>0</th>\n",
       "      <td>Permit Number 776557</td>\n",
       "      <td>Acer rubrum :: Red Maple</td>\n",
       "      <td>115737</td>\n",
       "      <td>Tree</td>\n",
       "      <td>Private</td>\n",
       "    </tr>\n",
       "    <tr>\n",
       "      <th>1</th>\n",
       "      <td>Permit Number 769765</td>\n",
       "      <td>Prunus serrulata 'Kwanzan' :: Kwanzan Flowerin...</td>\n",
       "      <td>102172</td>\n",
       "      <td>Tree</td>\n",
       "      <td>Private</td>\n",
       "    </tr>\n",
       "    <tr>\n",
       "      <th>2</th>\n",
       "      <td>Permit Number 769765</td>\n",
       "      <td>Prunus serrulata 'Kwanzan' :: Kwanzan Flowerin...</td>\n",
       "      <td>102171</td>\n",
       "      <td>Tree</td>\n",
       "      <td>Private</td>\n",
       "    </tr>\n",
       "    <tr>\n",
       "      <th>3</th>\n",
       "      <td>Permit Number 50252</td>\n",
       "      <td>Tristaniopsis laurina :: Swamp Myrtle</td>\n",
       "      <td>82730</td>\n",
       "      <td>Tree</td>\n",
       "      <td>Private</td>\n",
       "    </tr>\n",
       "    <tr>\n",
       "      <th>4</th>\n",
       "      <td>Permit Number 51916</td>\n",
       "      <td>Prunus cerasifera :: Cherry Plum</td>\n",
       "      <td>89325</td>\n",
       "      <td>Tree</td>\n",
       "      <td>Private</td>\n",
       "    </tr>\n",
       "  </tbody>\n",
       "</table>\n",
       "</div>"
      ],
      "text/plain": [
       "            permitnotes                                           qspecies  \\\n",
       "0  Permit Number 776557                           Acer rubrum :: Red Maple   \n",
       "1  Permit Number 769765  Prunus serrulata 'Kwanzan' :: Kwanzan Flowerin...   \n",
       "2  Permit Number 769765  Prunus serrulata 'Kwanzan' :: Kwanzan Flowerin...   \n",
       "3   Permit Number 50252              Tristaniopsis laurina :: Swamp Myrtle   \n",
       "4   Permit Number 51916                   Prunus cerasifera :: Cherry Plum   \n",
       "\n",
       "   treeid planttype qcaretaker  \n",
       "0  115737      Tree    Private  \n",
       "1  102172      Tree    Private  \n",
       "2  102171      Tree    Private  \n",
       "3   82730      Tree    Private  \n",
       "4   89325      Tree    Private  "
      ]
     },
     "execution_count": 25,
     "metadata": {},
     "output_type": "execute_result"
    }
   ],
   "source": [
    "# One general (but tedious) way to do it:\n",
    "\n",
    "dictionary = {'permitnotes': [d['permitnotes'] for d in data if \"permitnotes\" in d],\n",
    "              'qspecies': [d['qspecies'] for d in data if \"permitnotes\" in d],\n",
    "              'treeid': [d['treeid'] for d in data if \"permitnotes\" in d],\n",
    "             'planttype': [d['planttype'] for d in data if \"permitnotes\" in d],\n",
    "             'qcaretaker': [d['qcaretaker'] for d in data if \"permitnotes\" in d]}\n",
    "\n",
    "\n",
    "\n",
    "df = pd.DataFrame.from_dict(dictionary)\n",
    "df.head()"
   ]
  },
  {
   "cell_type": "markdown",
   "metadata": {},
   "source": [
    "In this particular case, the JSON data happens to be a list of simple dictionaries. That enables us to use a much simpler approach to convert it to a dataframe:"
   ]
  },
  {
   "cell_type": "code",
   "execution_count": 26,
   "metadata": {},
   "outputs": [
    {
     "data": {
      "text/html": [
       "<div>\n",
       "<style scoped>\n",
       "    .dataframe tbody tr th:only-of-type {\n",
       "        vertical-align: middle;\n",
       "    }\n",
       "\n",
       "    .dataframe tbody tr th {\n",
       "        vertical-align: top;\n",
       "    }\n",
       "\n",
       "    .dataframe thead th {\n",
       "        text-align: right;\n",
       "    }\n",
       "</style>\n",
       "<table border=\"1\" class=\"dataframe\">\n",
       "  <thead>\n",
       "    <tr style=\"text-align: right;\">\n",
       "      <th></th>\n",
       "      <th>siteorder</th>\n",
       "      <th>xcoord</th>\n",
       "      <th>location</th>\n",
       "      <th>qlegalstatus</th>\n",
       "      <th>ycoord</th>\n",
       "      <th>planttype</th>\n",
       "      <th>dbh</th>\n",
       "      <th>qaddress</th>\n",
       "      <th>latitude</th>\n",
       "      <th>qcaretaker</th>\n",
       "      <th>qsiteinfo</th>\n",
       "      <th>longitude</th>\n",
       "      <th>qspecies</th>\n",
       "      <th>plotsize</th>\n",
       "      <th>treeid</th>\n",
       "      <th>plantdate</th>\n",
       "      <th>permitnotes</th>\n",
       "      <th>qcareassistant</th>\n",
       "    </tr>\n",
       "  </thead>\n",
       "  <tbody>\n",
       "    <tr>\n",
       "      <th>0</th>\n",
       "      <td>1</td>\n",
       "      <td>6016267.25355</td>\n",
       "      <td>{'latitude': '37.7363616200932', 'human_addres...</td>\n",
       "      <td>DPW Maintained</td>\n",
       "      <td>2096084.36716</td>\n",
       "      <td>Tree</td>\n",
       "      <td>16</td>\n",
       "      <td>9 Young Ct</td>\n",
       "      <td>37.7363616200932</td>\n",
       "      <td>Private</td>\n",
       "      <td>Sidewalk: Curb side : Cutout</td>\n",
       "      <td>-122.38620200123</td>\n",
       "      <td>Pyrus calleryana :: Ornamental Pear</td>\n",
       "      <td>Width 3ft</td>\n",
       "      <td>196949</td>\n",
       "      <td>NaN</td>\n",
       "      <td>NaN</td>\n",
       "      <td>NaN</td>\n",
       "    </tr>\n",
       "    <tr>\n",
       "      <th>1</th>\n",
       "      <td>1</td>\n",
       "      <td>5993354.86667</td>\n",
       "      <td>{'latitude': '37.738391538344', 'human_address...</td>\n",
       "      <td>DPW Maintained</td>\n",
       "      <td>2097295.22775</td>\n",
       "      <td>Tree</td>\n",
       "      <td>2</td>\n",
       "      <td>9 Yerba Buena Ave</td>\n",
       "      <td>37.738391538344</td>\n",
       "      <td>Private</td>\n",
       "      <td>Sidewalk: Curb side : Yard</td>\n",
       "      <td>-122.465506999949</td>\n",
       "      <td>Acer rubrum :: Red Maple</td>\n",
       "      <td>Width 4ft</td>\n",
       "      <td>203422</td>\n",
       "      <td>NaN</td>\n",
       "      <td>NaN</td>\n",
       "      <td>NaN</td>\n",
       "    </tr>\n",
       "    <tr>\n",
       "      <th>2</th>\n",
       "      <td>1</td>\n",
       "      <td>5993642.27748</td>\n",
       "      <td>{'latitude': '37.7377517864641', 'human_addres...</td>\n",
       "      <td>Significant Tree</td>\n",
       "      <td>2097056.19499</td>\n",
       "      <td>Tree</td>\n",
       "      <td>3</td>\n",
       "      <td>9x Yerba Buena Ave</td>\n",
       "      <td>37.7377517864641</td>\n",
       "      <td>Private</td>\n",
       "      <td>Sidewalk: Curb side : Cutout</td>\n",
       "      <td>-122.46449593033</td>\n",
       "      <td>Acer rubrum :: Red Maple</td>\n",
       "      <td>NaN</td>\n",
       "      <td>115737</td>\n",
       "      <td>2016-02-24T00:00:00.000</td>\n",
       "      <td>Permit Number 776557</td>\n",
       "      <td>NaN</td>\n",
       "    </tr>\n",
       "    <tr>\n",
       "      <th>3</th>\n",
       "      <td>7</td>\n",
       "      <td>6018697.2048701</td>\n",
       "      <td>{'latitude': '37.7392189485182', 'human_addres...</td>\n",
       "      <td>DPW Maintained</td>\n",
       "      <td>2097076.1109207</td>\n",
       "      <td>Tree</td>\n",
       "      <td>12</td>\n",
       "      <td>9X Newhall St</td>\n",
       "      <td>37.7392189485182</td>\n",
       "      <td>DPW</td>\n",
       "      <td>Sidewalk: Curb side : Cutout</td>\n",
       "      <td>-122.377869364283</td>\n",
       "      <td>Eucalyptus nicholii :: Nichol's Willow-Leafed ...</td>\n",
       "      <td>3X3</td>\n",
       "      <td>16473</td>\n",
       "      <td>NaN</td>\n",
       "      <td>NaN</td>\n",
       "      <td>NaN</td>\n",
       "    </tr>\n",
       "    <tr>\n",
       "      <th>4</th>\n",
       "      <td>10</td>\n",
       "      <td>6018697.2048701</td>\n",
       "      <td>{'latitude': '37.7392189485182', 'human_addres...</td>\n",
       "      <td>Permitted Site</td>\n",
       "      <td>2097076.1109207</td>\n",
       "      <td>Tree</td>\n",
       "      <td>12</td>\n",
       "      <td>9X Newhall St</td>\n",
       "      <td>37.7392189485182</td>\n",
       "      <td>Private</td>\n",
       "      <td>Sidewalk: Curb side : Cutout</td>\n",
       "      <td>-122.377869364283</td>\n",
       "      <td>Eucalyptus nicholii :: Nichol's Willow-Leafed ...</td>\n",
       "      <td>3X3</td>\n",
       "      <td>16476</td>\n",
       "      <td>NaN</td>\n",
       "      <td>NaN</td>\n",
       "      <td>NaN</td>\n",
       "    </tr>\n",
       "  </tbody>\n",
       "</table>\n",
       "</div>"
      ],
      "text/plain": [
       "  siteorder           xcoord  \\\n",
       "0         1    6016267.25355   \n",
       "1         1    5993354.86667   \n",
       "2         1    5993642.27748   \n",
       "3         7  6018697.2048701   \n",
       "4        10  6018697.2048701   \n",
       "\n",
       "                                            location      qlegalstatus  \\\n",
       "0  {'latitude': '37.7363616200932', 'human_addres...    DPW Maintained   \n",
       "1  {'latitude': '37.738391538344', 'human_address...    DPW Maintained   \n",
       "2  {'latitude': '37.7377517864641', 'human_addres...  Significant Tree   \n",
       "3  {'latitude': '37.7392189485182', 'human_addres...    DPW Maintained   \n",
       "4  {'latitude': '37.7392189485182', 'human_addres...    Permitted Site   \n",
       "\n",
       "            ycoord planttype dbh            qaddress          latitude  \\\n",
       "0    2096084.36716      Tree  16          9 Young Ct  37.7363616200932   \n",
       "1    2097295.22775      Tree   2   9 Yerba Buena Ave   37.738391538344   \n",
       "2    2097056.19499      Tree   3  9x Yerba Buena Ave  37.7377517864641   \n",
       "3  2097076.1109207      Tree  12       9X Newhall St  37.7392189485182   \n",
       "4  2097076.1109207      Tree  12       9X Newhall St  37.7392189485182   \n",
       "\n",
       "  qcaretaker                     qsiteinfo          longitude  \\\n",
       "0    Private  Sidewalk: Curb side : Cutout   -122.38620200123   \n",
       "1    Private    Sidewalk: Curb side : Yard  -122.465506999949   \n",
       "2    Private  Sidewalk: Curb side : Cutout   -122.46449593033   \n",
       "3        DPW  Sidewalk: Curb side : Cutout  -122.377869364283   \n",
       "4    Private  Sidewalk: Curb side : Cutout  -122.377869364283   \n",
       "\n",
       "                                            qspecies   plotsize  treeid  \\\n",
       "0                Pyrus calleryana :: Ornamental Pear  Width 3ft  196949   \n",
       "1                           Acer rubrum :: Red Maple  Width 4ft  203422   \n",
       "2                           Acer rubrum :: Red Maple        NaN  115737   \n",
       "3  Eucalyptus nicholii :: Nichol's Willow-Leafed ...        3X3   16473   \n",
       "4  Eucalyptus nicholii :: Nichol's Willow-Leafed ...        3X3   16476   \n",
       "\n",
       "                 plantdate           permitnotes qcareassistant  \n",
       "0                      NaN                   NaN            NaN  \n",
       "1                      NaN                   NaN            NaN  \n",
       "2  2016-02-24T00:00:00.000  Permit Number 776557            NaN  \n",
       "3                      NaN                   NaN            NaN  \n",
       "4                      NaN                   NaN            NaN  "
      ]
     },
     "execution_count": 26,
     "metadata": {},
     "output_type": "execute_result"
    }
   ],
   "source": [
    "# Converting list of dicts to Pandas dataframe\n",
    "df2=pd.DataFrame.from_records(data)\n",
    "df2.head()"
   ]
  },
  {
   "cell_type": "markdown",
   "metadata": {},
   "source": [
    "### Police Stops in San Francisco\n",
    "\n",
    "Let's examine a second dataset from the San Francisco Open Data Portal for practice.  Police Stops."
   ]
  },
  {
   "cell_type": "markdown",
   "metadata": {},
   "source": [
    "Lets get a bit of practice on this.  Go to the City Open Data Portal and get the url for a JSON request for the Police Stops dataset.  Here is a shortcut to the dataset: https://data.sfgov.org/Public-Safety/Police-Department-Calls-for-Service/hz9m-tj6z\n",
    "\n",
    "Once you have it, review the notebook above and load this data, find the columns it contains, and convert it to a Pandas Dataframe.  I'll review this in the next video."
   ]
  },
  {
   "cell_type": "code",
   "execution_count": null,
   "metadata": {
    "scrolled": false
   },
   "outputs": [],
   "source": []
  }
 ],
 "metadata": {
  "kernelspec": {
   "display_name": "Python 3",
   "language": "python",
   "name": "python3"
  },
  "language_info": {
   "codemirror_mode": {
    "name": "ipython",
    "version": 3
   },
   "file_extension": ".py",
   "mimetype": "text/x-python",
   "name": "python",
   "nbconvert_exporter": "python",
   "pygments_lexer": "ipython3",
   "version": "3.8.3"
  }
 },
 "nbformat": 4,
 "nbformat_minor": 2
}
