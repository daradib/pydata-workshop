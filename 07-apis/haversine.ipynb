{
 "cells": [
  {
   "cell_type": "markdown",
   "id": "2ae34b2a",
   "metadata": {
    "slideshow": {
     "slide_type": "slide"
    }
   },
   "source": [
    "***\n",
    "# Haversine and Geographic Distance\n",
    "***"
   ]
  },
  {
   "cell_type": "markdown",
   "id": "5449e8ef",
   "metadata": {
    "slideshow": {
     "slide_type": "subslide"
    }
   },
   "source": [
    "Locations are often specified as latitude/longitude pairs.\n",
    "\n",
    "![coordinate_precision](https://imgs.xkcd.com/comics/coordinate_precision.png)"
   ]
  },
  {
   "cell_type": "markdown",
   "id": "bd5e4b10",
   "metadata": {
    "slideshow": {
     "slide_type": "subslide"
    }
   },
   "source": [
    "How can we calculate the distance between two geographic coordinates? The distance between lines of longitude (meridians) varies with latitude.\n",
    "\n",
    "![latitude and longitude](https://upload.wikimedia.org/wikipedia/commons/e/ef/FedStats_Lat_long.svg)"
   ]
  },
  {
   "cell_type": "markdown",
   "id": "d98e2d57",
   "metadata": {
    "slideshow": {
     "slide_type": "subslide"
    }
   },
   "source": [
    "A simple approximation is to calculate two-dimensional distance based on arc length ($S = r \\theta$) for latitude (ϕ) and longitude (λ) in radians.\n",
    "$$\n",
    "\\begin{aligned}\n",
    "r &= 6371 && \\text{average earth radius in km} \\\\\n",
    "\\Delta \\phi &= \\phi_2 - \\phi_1 && \\text{change in latitude} \\\\\n",
    "\\Delta \\lambda &= \\lambda_2 - \\lambda_1 && \\text{change in longitude} \\\\\n",
    "\\overline{\\phi} &= \\frac{\\phi_1 + \\phi_2}{2} && \\text{average latitude} \\\\\n",
    "d_x &= \\Delta \\lambda \\cos{\\overline{\\phi}} && \\text{E-W distance} \\\\\n",
    "d_y &= \\Delta \\phi && \\text{N-S distance} \\\\\n",
    "d &= r \\sqrt{d_x^2 + d_y^2}\n",
    "\\end{aligned}\n",
    "$$"
   ]
  },
  {
   "cell_type": "markdown",
   "id": "02586113",
   "metadata": {
    "slideshow": {
     "slide_type": "subslide"
    }
   },
   "source": [
    "![great-circle distance](https://timeandnavigation.si.edu/sites/default/files/multimedia-assets/300-si_fl_great_circle_fa.jpg)"
   ]
  },
  {
   "cell_type": "markdown",
   "id": "301a0978",
   "metadata": {
    "slideshow": {
     "slide_type": "subslide"
    }
   },
   "source": [
    "A better approximation is the great-circle distance on a sphere. The Earth is not a perfect sphere, but this approximation is accurate to within 1% and still fast to compute.\n",
    "$$\n",
    "\\scriptsize\n",
    "\\begin{aligned}\n",
    "d &= r\\arccos{(\\sin\\phi_1\\sin\\phi_2 + \\cos\\phi_1\\cos\\phi_2\\cos{\\Delta \\lambda})} % && \\text{spherical law of cosines}\n",
    "\\\\\n",
    "  &= 2r\\arcsin \\sqrt{\\sin^2\\left(\\frac{\\Delta\\phi}{2}\\right) + \\left(1 - \\sin^2\\left(\\frac{\\Delta\\phi}{2}\\right) - \\sin^2\\left(\\frac{\\phi_1 + \\phi_2}{2}\\right)\\right)\\cdot\\sin^2\\left(\\frac{\\Delta\\lambda}{2}\\right)} % && \\text{Haversine formula}\n",
    "\\end{aligned}\n",
    "$$"
   ]
  },
  {
   "cell_type": "markdown",
   "id": "17442a6e-a8e7-4947-aa80-9058ffd930c9",
   "metadata": {
    "slideshow": {
     "slide_type": "subslide"
    }
   },
   "source": [
    "GIS software (e.g., QGIS, PostGIS, GeoPandas) implement more accurate but slower solutions referencing the **WGS84** ellipsoid model of the Earth. [Vincenty's iterative inverse method](https://en.wikipedia.org/wiki/Vincenty%27s_formulae) is accurate to within 1 mm, ignoring elevation differences.\n",
    "\n",
    "Typically, GIS users instead **reproject** coordinates to an appropriate Cartesian plane for their geographic region, such as **[UTM zone 18N](https://en.wikipedia.org/wiki/Universal_Transverse_Mercator_coordinate_system)** or **[New York State Plane Long Island](https://en.wikipedia.org/wiki/State_Plane_Coordinate_System)**. Spatial indexes (bounding boxes) can also speed up subsequent lookups by limiting to computation to nearby coordinates."
   ]
  },
  {
   "cell_type": "markdown",
   "id": "6dbd537e",
   "metadata": {
    "slideshow": {
     "slide_type": "slide"
    }
   },
   "source": [
    "## Computation\n",
    "\n",
    "To evaluate several approaches for calculating distance, let's specify a reference location (`mylat`, `mylon`) corresponding to 433 Broadway. Then we'll create a pandas `DataFrame` containing 100,000 pairs of randomly-generated latitude/longitude coordinates to calculate the distance to."
   ]
  },
  {
   "cell_type": "code",
   "execution_count": 1,
   "id": "1a2f2e5e-b992-4c79-9af9-fca85d1437a9",
   "metadata": {
    "slideshow": {
     "slide_type": "subslide"
    }
   },
   "outputs": [
    {
     "data": {
      "text/html": [
       "<div>\n",
       "<style scoped>\n",
       "    .dataframe tbody tr th:only-of-type {\n",
       "        vertical-align: middle;\n",
       "    }\n",
       "\n",
       "    .dataframe tbody tr th {\n",
       "        vertical-align: top;\n",
       "    }\n",
       "\n",
       "    .dataframe thead th {\n",
       "        text-align: right;\n",
       "    }\n",
       "</style>\n",
       "<table border=\"1\" class=\"dataframe\">\n",
       "  <thead>\n",
       "    <tr style=\"text-align: right;\">\n",
       "      <th></th>\n",
       "      <th>lat</th>\n",
       "      <th>lon</th>\n",
       "    </tr>\n",
       "  </thead>\n",
       "  <tbody>\n",
       "    <tr>\n",
       "      <th>0</th>\n",
       "      <td>40.374540</td>\n",
       "      <td>-73.419221</td>\n",
       "    </tr>\n",
       "    <tr>\n",
       "      <th>1</th>\n",
       "      <td>40.950714</td>\n",
       "      <td>-73.473028</td>\n",
       "    </tr>\n",
       "    <tr>\n",
       "      <th>2</th>\n",
       "      <td>40.731994</td>\n",
       "      <td>-73.648963</td>\n",
       "    </tr>\n",
       "    <tr>\n",
       "      <th>3</th>\n",
       "      <td>40.598658</td>\n",
       "      <td>-73.506787</td>\n",
       "    </tr>\n",
       "    <tr>\n",
       "      <th>4</th>\n",
       "      <td>40.156019</td>\n",
       "      <td>-73.634903</td>\n",
       "    </tr>\n",
       "    <tr>\n",
       "      <th>...</th>\n",
       "      <td>...</td>\n",
       "      <td>...</td>\n",
       "    </tr>\n",
       "    <tr>\n",
       "      <th>99995</th>\n",
       "      <td>40.792305</td>\n",
       "      <td>-73.377850</td>\n",
       "    </tr>\n",
       "    <tr>\n",
       "      <th>99996</th>\n",
       "      <td>40.779253</td>\n",
       "      <td>-73.370779</td>\n",
       "    </tr>\n",
       "    <tr>\n",
       "      <th>99997</th>\n",
       "      <td>40.674453</td>\n",
       "      <td>-73.807796</td>\n",
       "    </tr>\n",
       "    <tr>\n",
       "      <th>99998</th>\n",
       "      <td>40.499447</td>\n",
       "      <td>-73.346917</td>\n",
       "    </tr>\n",
       "    <tr>\n",
       "      <th>99999</th>\n",
       "      <td>40.389908</td>\n",
       "      <td>-73.998440</td>\n",
       "    </tr>\n",
       "  </tbody>\n",
       "</table>\n",
       "<p>100000 rows × 2 columns</p>\n",
       "</div>"
      ],
      "text/plain": [
       "             lat        lon\n",
       "0      40.374540 -73.419221\n",
       "1      40.950714 -73.473028\n",
       "2      40.731994 -73.648963\n",
       "3      40.598658 -73.506787\n",
       "4      40.156019 -73.634903\n",
       "...          ...        ...\n",
       "99995  40.792305 -73.377850\n",
       "99996  40.779253 -73.370779\n",
       "99997  40.674453 -73.807796\n",
       "99998  40.499447 -73.346917\n",
       "99999  40.389908 -73.998440\n",
       "\n",
       "[100000 rows x 2 columns]"
      ]
     },
     "execution_count": 1,
     "metadata": {},
     "output_type": "execute_result"
    }
   ],
   "source": [
    "import math\n",
    "import numpy as np\n",
    "import pandas as pd\n",
    "\n",
    "R = 6371  # average earth radius in km\n",
    "mylat = 40.72018\n",
    "mylon = -74.00149\n",
    "np.random.seed(42)\n",
    "nrows = int(100e3)\n",
    "df = pd.DataFrame(\n",
    "    {\n",
    "        \"lat\": np.random.uniform(40, 41, nrows),\n",
    "        \"lon\": np.random.uniform(-74, -73, nrows),\n",
    "    }\n",
    ")\n",
    "df"
   ]
  },
  {
   "cell_type": "markdown",
   "id": "9c07f1e1",
   "metadata": {
    "slideshow": {
     "slide_type": "subslide"
    }
   },
   "source": [
    "### Iterative Approach\n",
    "\n",
    "We can iterate over each row to calculate Cartesian distance."
   ]
  },
  {
   "cell_type": "code",
   "execution_count": 2,
   "id": "fa554377-15eb-4792-837d-a43652734fa2",
   "metadata": {},
   "outputs": [
    {
     "name": "stdout",
     "output_type": "stream",
     "text": [
      "CPU times: user 3.58 s, sys: 2.78 ms, total: 3.58 s\n",
      "Wall time: 3.59 s\n"
     ]
    }
   ],
   "source": [
    "%%time\n",
    "distances = []\n",
    "for index, row in df.iterrows():\n",
    "    dx = (math.radians(row[\"lon\"]) - math.radians(mylon)) * math.cos(\n",
    "        math.radians((row[\"lat\"] + mylat) / 2)\n",
    "    )\n",
    "    dy = math.radians(row[\"lat\"]) - math.radians(mylat)\n",
    "    distances.append(R * math.sqrt(dx**2 + dy**2))\n",
    "df[\"dist_cartesian_slow\"] = distances"
   ]
  },
  {
   "cell_type": "markdown",
   "id": "9d12e30a",
   "metadata": {},
   "source": [
    "Iteration is slow. Avoid iteration with large data if possible."
   ]
  },
  {
   "cell_type": "markdown",
   "id": "8f596bd6",
   "metadata": {
    "slideshow": {
     "slide_type": "subslide"
    }
   },
   "source": [
    "### Functional Approach\n",
    "\n",
    "A better approach is to write a function and apply it row-wise with pandas. This is modular, easier to check for errors, and generally faster."
   ]
  },
  {
   "cell_type": "code",
   "execution_count": 3,
   "id": "f7a10b5e",
   "metadata": {
    "slideshow": {
     "slide_type": "-"
    }
   },
   "outputs": [],
   "source": [
    "def cartesian(lon1, lat1, lon2, lat2):\n",
    "    lon1, lat1, lon2, lat2 = map(math.radians, [lon1, lat1, lon2, lat2])\n",
    "    dx = R * (lon2 - lon1) * math.cos((lat1 + lat2) / 2)\n",
    "    dy = R * (lat2 - lat1)\n",
    "    return math.sqrt(dx**2 + dy**2)"
   ]
  },
  {
   "cell_type": "code",
   "execution_count": 4,
   "id": "8bfaaa00-41d2-43ed-8095-c6d2c7a45e1e",
   "metadata": {
    "slideshow": {
     "slide_type": "-"
    }
   },
   "outputs": [
    {
     "name": "stdout",
     "output_type": "stream",
     "text": [
      "CPU times: user 634 ms, sys: 19.8 ms, total: 654 ms\n",
      "Wall time: 654 ms\n"
     ]
    }
   ],
   "source": [
    "%%time\n",
    "df[\"dist_cartesian\"] = df[[\"lat\", \"lon\"]].apply(\n",
    "    lambda x: cartesian(x[1], x[0], mylon, mylat), axis=1\n",
    ")"
   ]
  },
  {
   "cell_type": "markdown",
   "id": "6643380c",
   "metadata": {
    "slideshow": {
     "slide_type": "subslide"
    }
   },
   "source": [
    "We can also use the haversine formula instead of a Cartesian approximation."
   ]
  },
  {
   "cell_type": "code",
   "execution_count": 5,
   "id": "7193e38f",
   "metadata": {},
   "outputs": [],
   "source": [
    "def haversine(lon1, lat1, lon2, lat2):\n",
    "    lon1, lat1, lon2, lat2 = map(math.radians, [lon1, lat1, lon2, lat2])\n",
    "    dlon = lon2 - lon1\n",
    "    dlat = lat2 - lat1\n",
    "    a = (\n",
    "        math.sin(dlat / 2) ** 2\n",
    "        + math.cos(lat1) * math.cos(lat2) * math.sin(dlon / 2) ** 2\n",
    "    )\n",
    "    return 2 * R * math.asin(math.sqrt(a))"
   ]
  },
  {
   "cell_type": "code",
   "execution_count": 6,
   "id": "c691c655",
   "metadata": {},
   "outputs": [
    {
     "name": "stdout",
     "output_type": "stream",
     "text": [
      "CPU times: user 684 ms, sys: 95 µs, total: 684 ms\n",
      "Wall time: 683 ms\n"
     ]
    }
   ],
   "source": [
    "%%time\n",
    "df[\"dist_haversine\"] = df[[\"lat\", \"lon\"]].apply(\n",
    "    lambda x: haversine(x[1], x[0], mylon, mylat), axis=1\n",
    ")"
   ]
  },
  {
   "cell_type": "markdown",
   "id": "be4c946a",
   "metadata": {},
   "source": [
    "Even though there is more math, the computation time doesn't change that much. Why?"
   ]
  },
  {
   "cell_type": "markdown",
   "id": "439cc308",
   "metadata": {
    "slideshow": {
     "slide_type": "subslide"
    }
   },
   "source": [
    "### Vectorization\n",
    "\n",
    "The NumPy/pandas approach is to **vectorize**, replacing scalar values with **arrays** and native Python math functions with their vector equivalents. This is much faster for larger data sets and generally preferred."
   ]
  },
  {
   "cell_type": "code",
   "execution_count": 7,
   "id": "4804c913",
   "metadata": {},
   "outputs": [],
   "source": [
    "def haversine_vec(lon1, lat1, lon2, lat2):\n",
    "    lon1, lat1, lon2, lat2 = map(np.radians, [lon1, lat1, lon2, lat2])\n",
    "    a = (\n",
    "        np.sin((lat2 - lat1) / 2) ** 2\n",
    "        + np.cos(lat1) * np.cos(lat2) * np.sin((lon2 - lon1) / 2) ** 2\n",
    "    )\n",
    "    return 2 * R * np.arcsin(np.sqrt(a))"
   ]
  },
  {
   "cell_type": "code",
   "execution_count": 8,
   "id": "630b7a44-57cb-4e14-a02c-05068cf337c1",
   "metadata": {},
   "outputs": [
    {
     "name": "stdout",
     "output_type": "stream",
     "text": [
      "CPU times: user 10.1 ms, sys: 3 µs, total: 10.2 ms\n",
      "Wall time: 11.9 ms\n"
     ]
    }
   ],
   "source": [
    "%%time\n",
    "df[\"dist_haversine_vec\"] = haversine_vec(df[\"lon\"], df[\"lat\"], mylon, mylat)"
   ]
  },
  {
   "cell_type": "markdown",
   "id": "513b7b7b",
   "metadata": {
    "slideshow": {
     "slide_type": "subslide"
    }
   },
   "source": [
    "### Compilation\n",
    "\n",
    "Another approach is to translate Python functions to optimized machine code with a just-in-time (JIT) compiler. This works with a subset of Python and NumPy code, including most loops and vectorized operations. The improvement is more drastic for loops, as vectorized operations are already pretty fast."
   ]
  },
  {
   "cell_type": "code",
   "execution_count": 9,
   "id": "03d38a9b-eaaa-4e01-a414-3497f6c5e56a",
   "metadata": {
    "slideshow": {
     "slide_type": "subslide"
    }
   },
   "outputs": [],
   "source": [
    "from numba import jit\n",
    "\n",
    "\n",
    "@jit\n",
    "def haversine_jit(lon1, lat1, lon2, lat2):\n",
    "    # numba expects items passed to map to be the same data type.\n",
    "    # lon1, lat1, lon2, lat2 = map(np.radians, [lon1, lat1, lon2, lat2])\n",
    "    lon1 = np.radians(lon1)\n",
    "    lat1 = np.radians(lat1)\n",
    "    lon2 = np.radians(lon2)\n",
    "    lat2 = np.radians(lat2)\n",
    "    a = (\n",
    "        np.sin((lat2 - lat1) / 2) ** 2\n",
    "        + np.cos(lat1) * np.cos(lat2) * np.sin((lon2 - lon1) / 2) ** 2\n",
    "    )\n",
    "    return 2 * R * np.arcsin(np.sqrt(a))"
   ]
  },
  {
   "cell_type": "code",
   "execution_count": 10,
   "id": "9d893442-c07c-4f8b-8dc9-d6fd56b2943e",
   "metadata": {},
   "outputs": [
    {
     "name": "stdout",
     "output_type": "stream",
     "text": [
      "2.88 ms ± 142 µs per loop (mean ± std. dev. of 7 runs, 1 loop each)\n"
     ]
    }
   ],
   "source": [
    "%%timeit\n",
    "df[\"dist_haversine_jit\"] = haversine_jit(\n",
    "    df[\"lon\"].to_numpy(), df[\"lat\"].to_numpy(), mylon, mylat\n",
    ")"
   ]
  },
  {
   "cell_type": "markdown",
   "id": "ab0de4b5",
   "metadata": {
    "slideshow": {
     "slide_type": "subslide"
    }
   },
   "source": [
    "### Don't Reinvent the Wheel\n",
    "\n",
    "The scientific Python ecosystem, including **NumPy**, **pandas**, and **SciPy**, often have many useful functions already written for us.\n",
    "\n",
    "**scikit-learn**, a popular machine-learning library, implements a haversine function that we can use instead of our own."
   ]
  },
  {
   "cell_type": "code",
   "execution_count": 11,
   "id": "6de6a9d9",
   "metadata": {},
   "outputs": [],
   "source": [
    "from sklearn.metrics.pairwise import haversine_distances"
   ]
  },
  {
   "cell_type": "code",
   "execution_count": 12,
   "id": "3a851e57-08c0-401c-987c-368da693b901",
   "metadata": {},
   "outputs": [
    {
     "name": "stdout",
     "output_type": "stream",
     "text": [
      "CPU times: user 14.7 ms, sys: 123 µs, total: 14.9 ms\n",
      "Wall time: 13.5 ms\n"
     ]
    }
   ],
   "source": [
    "%%time\n",
    "df[\"dist_haversine_sk\"] = R * haversine_distances(\n",
    "    np.radians(df[[\"lat\", \"lon\"]]), np.radians([[mylat, mylon]])\n",
    ")"
   ]
  },
  {
   "cell_type": "code",
   "execution_count": 13,
   "id": "a65edac8-9bd6-42ba-96eb-c5e29c2cee9a",
   "metadata": {
    "slideshow": {
     "slide_type": "subslide"
    }
   },
   "outputs": [
    {
     "data": {
      "text/html": [
       "<div>\n",
       "<style scoped>\n",
       "    .dataframe tbody tr th:only-of-type {\n",
       "        vertical-align: middle;\n",
       "    }\n",
       "\n",
       "    .dataframe tbody tr th {\n",
       "        vertical-align: top;\n",
       "    }\n",
       "\n",
       "    .dataframe thead th {\n",
       "        text-align: right;\n",
       "    }\n",
       "</style>\n",
       "<table border=\"1\" class=\"dataframe\">\n",
       "  <thead>\n",
       "    <tr style=\"text-align: right;\">\n",
       "      <th></th>\n",
       "      <th>lat</th>\n",
       "      <th>lon</th>\n",
       "      <th>dist_cartesian_slow</th>\n",
       "      <th>dist_cartesian</th>\n",
       "      <th>dist_haversine</th>\n",
       "      <th>dist_haversine_vec</th>\n",
       "      <th>dist_haversine_jit</th>\n",
       "      <th>dist_haversine_sk</th>\n",
       "    </tr>\n",
       "  </thead>\n",
       "  <tbody>\n",
       "    <tr>\n",
       "      <th>0</th>\n",
       "      <td>40.374540</td>\n",
       "      <td>-73.419221</td>\n",
       "      <td>62.430507</td>\n",
       "      <td>62.430507</td>\n",
       "      <td>62.430249</td>\n",
       "      <td>62.430249</td>\n",
       "      <td>62.430249</td>\n",
       "      <td>62.430249</td>\n",
       "    </tr>\n",
       "    <tr>\n",
       "      <th>1</th>\n",
       "      <td>40.950714</td>\n",
       "      <td>-73.473028</td>\n",
       "      <td>51.319731</td>\n",
       "      <td>51.319731</td>\n",
       "      <td>51.319588</td>\n",
       "      <td>51.319588</td>\n",
       "      <td>51.319588</td>\n",
       "      <td>51.319588</td>\n",
       "    </tr>\n",
       "    <tr>\n",
       "      <th>2</th>\n",
       "      <td>40.731994</td>\n",
       "      <td>-73.648963</td>\n",
       "      <td>29.735655</td>\n",
       "      <td>29.735655</td>\n",
       "      <td>29.735635</td>\n",
       "      <td>29.735635</td>\n",
       "      <td>29.735635</td>\n",
       "      <td>29.735635</td>\n",
       "    </tr>\n",
       "    <tr>\n",
       "      <th>3</th>\n",
       "      <td>40.598658</td>\n",
       "      <td>-73.506787</td>\n",
       "      <td>43.862439</td>\n",
       "      <td>43.862439</td>\n",
       "      <td>43.862362</td>\n",
       "      <td>43.862362</td>\n",
       "      <td>43.862362</td>\n",
       "      <td>43.862362</td>\n",
       "    </tr>\n",
       "    <tr>\n",
       "      <th>4</th>\n",
       "      <td>40.156019</td>\n",
       "      <td>-73.634903</td>\n",
       "      <td>69.984428</td>\n",
       "      <td>69.984428</td>\n",
       "      <td>69.984241</td>\n",
       "      <td>69.984241</td>\n",
       "      <td>69.984241</td>\n",
       "      <td>69.984241</td>\n",
       "    </tr>\n",
       "    <tr>\n",
       "      <th>...</th>\n",
       "      <td>...</td>\n",
       "      <td>...</td>\n",
       "      <td>...</td>\n",
       "      <td>...</td>\n",
       "      <td>...</td>\n",
       "      <td>...</td>\n",
       "      <td>...</td>\n",
       "      <td>...</td>\n",
       "    </tr>\n",
       "    <tr>\n",
       "      <th>99995</th>\n",
       "      <td>40.792305</td>\n",
       "      <td>-73.377850</td>\n",
       "      <td>53.137565</td>\n",
       "      <td>53.137565</td>\n",
       "      <td>53.137445</td>\n",
       "      <td>53.137445</td>\n",
       "      <td>53.137445</td>\n",
       "      <td>53.137445</td>\n",
       "    </tr>\n",
       "    <tr>\n",
       "      <th>99996</th>\n",
       "      <td>40.779253</td>\n",
       "      <td>-73.370779</td>\n",
       "      <td>53.534139</td>\n",
       "      <td>53.534139</td>\n",
       "      <td>53.534018</td>\n",
       "      <td>53.534018</td>\n",
       "      <td>53.534018</td>\n",
       "      <td>53.534018</td>\n",
       "    </tr>\n",
       "    <tr>\n",
       "      <th>99997</th>\n",
       "      <td>40.674453</td>\n",
       "      <td>-73.807796</td>\n",
       "      <td>17.102472</td>\n",
       "      <td>17.102472</td>\n",
       "      <td>17.102468</td>\n",
       "      <td>17.102468</td>\n",
       "      <td>17.102468</td>\n",
       "      <td>17.102468</td>\n",
       "    </tr>\n",
       "    <tr>\n",
       "      <th>99998</th>\n",
       "      <td>40.499447</td>\n",
       "      <td>-73.346917</td>\n",
       "      <td>60.461590</td>\n",
       "      <td>60.461590</td>\n",
       "      <td>60.461374</td>\n",
       "      <td>60.461374</td>\n",
       "      <td>60.461374</td>\n",
       "      <td>60.461374</td>\n",
       "    </tr>\n",
       "    <tr>\n",
       "      <th>99999</th>\n",
       "      <td>40.389908</td>\n",
       "      <td>-73.998440</td>\n",
       "      <td>36.725421</td>\n",
       "      <td>36.725421</td>\n",
       "      <td>36.725421</td>\n",
       "      <td>36.725421</td>\n",
       "      <td>36.725421</td>\n",
       "      <td>36.725421</td>\n",
       "    </tr>\n",
       "  </tbody>\n",
       "</table>\n",
       "<p>100000 rows × 8 columns</p>\n",
       "</div>"
      ],
      "text/plain": [
       "             lat        lon  dist_cartesian_slow  dist_cartesian  \\\n",
       "0      40.374540 -73.419221            62.430507       62.430507   \n",
       "1      40.950714 -73.473028            51.319731       51.319731   \n",
       "2      40.731994 -73.648963            29.735655       29.735655   \n",
       "3      40.598658 -73.506787            43.862439       43.862439   \n",
       "4      40.156019 -73.634903            69.984428       69.984428   \n",
       "...          ...        ...                  ...             ...   \n",
       "99995  40.792305 -73.377850            53.137565       53.137565   \n",
       "99996  40.779253 -73.370779            53.534139       53.534139   \n",
       "99997  40.674453 -73.807796            17.102472       17.102472   \n",
       "99998  40.499447 -73.346917            60.461590       60.461590   \n",
       "99999  40.389908 -73.998440            36.725421       36.725421   \n",
       "\n",
       "       dist_haversine  dist_haversine_vec  dist_haversine_jit  \\\n",
       "0           62.430249           62.430249           62.430249   \n",
       "1           51.319588           51.319588           51.319588   \n",
       "2           29.735635           29.735635           29.735635   \n",
       "3           43.862362           43.862362           43.862362   \n",
       "4           69.984241           69.984241           69.984241   \n",
       "...               ...                 ...                 ...   \n",
       "99995       53.137445           53.137445           53.137445   \n",
       "99996       53.534018           53.534018           53.534018   \n",
       "99997       17.102468           17.102468           17.102468   \n",
       "99998       60.461374           60.461374           60.461374   \n",
       "99999       36.725421           36.725421           36.725421   \n",
       "\n",
       "       dist_haversine_sk  \n",
       "0              62.430249  \n",
       "1              51.319588  \n",
       "2              29.735635  \n",
       "3              43.862362  \n",
       "4              69.984241  \n",
       "...                  ...  \n",
       "99995          53.137445  \n",
       "99996          53.534018  \n",
       "99997          17.102468  \n",
       "99998          60.461374  \n",
       "99999          36.725421  \n",
       "\n",
       "[100000 rows x 8 columns]"
      ]
     },
     "execution_count": 13,
     "metadata": {},
     "output_type": "execute_result"
    }
   ],
   "source": [
    "df"
   ]
  },
  {
   "cell_type": "code",
   "execution_count": 14,
   "id": "77d14aae-2045-40b7-a28f-af14acce460c",
   "metadata": {},
   "outputs": [],
   "source": [
    "# This will raise an exception (error) if the values are different.\n",
    "assert np.isclose(df[\"dist_cartesian_slow\"], df[\"dist_cartesian\"]).all()\n",
    "assert np.isclose(df[\"dist_haversine\"], df[\"dist_haversine_vec\"]).all()\n",
    "assert np.isclose(df[\"dist_haversine_vec\"], df[\"dist_haversine_jit\"]).all()\n",
    "assert np.isclose(df[\"dist_haversine\"], df[\"dist_haversine_sk\"]).all()"
   ]
  },
  {
   "cell_type": "markdown",
   "id": "03dfd14b",
   "metadata": {
    "slideshow": {
     "slide_type": "slide"
    }
   },
   "source": [
    "## Practical Example with Open Data\n",
    "\n",
    "Many government agencies provide data sets to the public, often as part of a request for public records (FOIL/FOIA) in \"machine-readable format\", through open data portals like [data.gov](https://data.gov/), or occasionally through **APIs**.\n",
    "\n",
    "Some of this data is even personally identifiable, such as tax parcels and voter records. Journalists, political campaigns, mapping providers, weather forecasters, and the real estate industry all build on top of government data. You can too!"
   ]
  },
  {
   "cell_type": "markdown",
   "id": "dbe0c608",
   "metadata": {
    "slideshow": {
     "slide_type": "subslide"
    }
   },
   "source": [
    "New York State and New York City both offer open data portals that contain data sets from their respective agencies:\n",
    "\n",
    " * [data.ny.gov](https://data.ny.gov/browse)\n",
    " * [data.cityofnewyork.us](https://data.cityofnewyork.us/browse)\n",
    "\n",
    "To access NYS/NYC data we can go through the web portals and export/download the data we need."
   ]
  },
  {
   "cell_type": "markdown",
   "id": "fce3616c",
   "metadata": {
    "slideshow": {
     "slide_type": "fragment"
    }
   },
   "source": [
    "Since the portals are powered by Socrata, we can also use the Socrata search engine [opendatanetwork.com](https://www.opendatanetwork.com/) to search for data sets or the Socrata Open Data API (SODA) to programmatically download data for us. `sodapy` is a Python library that implements a client for SODA."
   ]
  },
  {
   "cell_type": "markdown",
   "id": "23ae2276",
   "metadata": {
    "slideshow": {
     "slide_type": "subslide"
    }
   },
   "source": [
    "### 311 Noise Complaints\n",
    "\n",
    "![loud](https://imgs.xkcd.com/comics/loud_sex.png)\n",
    "\n",
    "New York City is a loud city. It also has laws. If you have a noisy neighbor, you can call 311 and the cops will _in theory_ show up. Let's find the closest noise complaints to us."
   ]
  },
  {
   "cell_type": "markdown",
   "id": "d48f7c13",
   "metadata": {
    "slideshow": {
     "slide_type": "subslide"
    }
   },
   "source": [
    "NYC Open Data has a dataset called [311 Noise Complaints](https://data.cityofnewyork.us/Social-Services/311-Noise-Complaints/p5f6-bkga). On that page, click API. You should see the following information which we will use below:\n",
    "\n",
    "> API Endpoint\n",
    ">\n",
    ">     https://data.cityofnewyork.us/resource/p5f6-bkga.json"
   ]
  },
  {
   "cell_type": "code",
   "execution_count": 15,
   "id": "97cb83b7",
   "metadata": {},
   "outputs": [
    {
     "name": "stderr",
     "output_type": "stream",
     "text": [
      "WARNING:root:Requests made without an app_token will be subject to strict throttling limits.\n"
     ]
    }
   ],
   "source": [
    "from sodapy import Socrata\n",
    "\n",
    "# Enter the information from the API endpoint above.\n",
    "client = Socrata(\"data.cityofnewyork.us\", app_token=None)\n",
    "results = client.get(\"p5f6-bkga\", where=\"created_date >= '2022-05-01'\", limit=10000)\n",
    "df = pd.DataFrame(results)"
   ]
  },
  {
   "cell_type": "markdown",
   "id": "f7628bd4",
   "metadata": {
    "slideshow": {
     "slide_type": "subslide"
    }
   },
   "source": [
    "We specified the date using the format `YYYY-MM-DD`, also known as **ISO 8601** format.\n",
    "\n",
    "This format is unambiguous for our international friends. More importantly for us, dates sort chronologically.\n",
    "\n",
    "![iso_8601](https://imgs.xkcd.com/comics/iso_8601.png)"
   ]
  },
  {
   "cell_type": "code",
   "execution_count": 16,
   "id": "7091cf49",
   "metadata": {
    "slideshow": {
     "slide_type": "subslide"
    }
   },
   "outputs": [
    {
     "data": {
      "text/html": [
       "<div>\n",
       "<style scoped>\n",
       "    .dataframe tbody tr th:only-of-type {\n",
       "        vertical-align: middle;\n",
       "    }\n",
       "\n",
       "    .dataframe tbody tr th {\n",
       "        vertical-align: top;\n",
       "    }\n",
       "\n",
       "    .dataframe thead th {\n",
       "        text-align: right;\n",
       "    }\n",
       "</style>\n",
       "<table border=\"1\" class=\"dataframe\">\n",
       "  <thead>\n",
       "    <tr style=\"text-align: right;\">\n",
       "      <th></th>\n",
       "      <th>descriptor</th>\n",
       "      <th>incident_zip</th>\n",
       "      <th>created_date</th>\n",
       "      <th>location</th>\n",
       "      <th>city</th>\n",
       "      <th>cross_street_2</th>\n",
       "      <th>closed_date</th>\n",
       "      <th>park_facility_name</th>\n",
       "      <th>intersection_street_1</th>\n",
       "      <th>landmark</th>\n",
       "      <th>...</th>\n",
       "      <th>street_name</th>\n",
       "      <th>complaint_type</th>\n",
       "      <th>longitude</th>\n",
       "      <th>status</th>\n",
       "      <th>unique_key</th>\n",
       "      <th>y_coordinate_state_plane</th>\n",
       "      <th>resolution_action_updated_date</th>\n",
       "      <th>address_type</th>\n",
       "      <th>intersection_street_2</th>\n",
       "      <th>facility_type</th>\n",
       "    </tr>\n",
       "  </thead>\n",
       "  <tbody>\n",
       "    <tr>\n",
       "      <th>0</th>\n",
       "      <td>Loud Music/Party</td>\n",
       "      <td>10452</td>\n",
       "      <td>2022-05-01T00:00:03.000</td>\n",
       "      <td>{'latitude': '40.83065331987539', 'human_addre...</td>\n",
       "      <td>BRONX</td>\n",
       "      <td>EAST  165 STREET</td>\n",
       "      <td>2022-05-01T06:27:30.000</td>\n",
       "      <td>Unspecified</td>\n",
       "      <td>EAST  164 STREET</td>\n",
       "      <td>GERARD AVENUE</td>\n",
       "      <td>...</td>\n",
       "      <td>GERARD AVENUE</td>\n",
       "      <td>Noise - Residential</td>\n",
       "      <td>-73.92308231033165</td>\n",
       "      <td>Closed</td>\n",
       "      <td>54049402</td>\n",
       "      <td>241916</td>\n",
       "      <td>2022-05-01T06:27:35.000</td>\n",
       "      <td>ADDRESS</td>\n",
       "      <td>EAST  165 STREET</td>\n",
       "      <td>NaN</td>\n",
       "    </tr>\n",
       "    <tr>\n",
       "      <th>1</th>\n",
       "      <td>Loud Music/Party</td>\n",
       "      <td>10027</td>\n",
       "      <td>2022-05-01T00:00:09.000</td>\n",
       "      <td>{'latitude': '40.81237834836466', 'human_addre...</td>\n",
       "      <td>NEW YORK</td>\n",
       "      <td>CONVENT AVENUE</td>\n",
       "      <td>2022-05-01T00:07:46.000</td>\n",
       "      <td>Unspecified</td>\n",
       "      <td>ST NICHOLAS TERRACE</td>\n",
       "      <td>WEST  127 STREET</td>\n",
       "      <td>...</td>\n",
       "      <td>WEST  127 STREET</td>\n",
       "      <td>Noise - Street/Sidewalk</td>\n",
       "      <td>-73.95240115039357</td>\n",
       "      <td>Closed</td>\n",
       "      <td>54046813</td>\n",
       "      <td>235252</td>\n",
       "      <td>2022-05-01T00:07:53.000</td>\n",
       "      <td>ADDRESS</td>\n",
       "      <td>CONVENT AVENUE</td>\n",
       "      <td>NaN</td>\n",
       "    </tr>\n",
       "    <tr>\n",
       "      <th>2</th>\n",
       "      <td>Loud Music/Party</td>\n",
       "      <td>10033</td>\n",
       "      <td>2022-05-01T00:00:17.000</td>\n",
       "      <td>{'latitude': '40.854713655427595', 'human_addr...</td>\n",
       "      <td>NEW YORK</td>\n",
       "      <td>WEST  187 STREET</td>\n",
       "      <td>2022-05-01T00:10:38.000</td>\n",
       "      <td>Unspecified</td>\n",
       "      <td>WEST  185 STREET</td>\n",
       "      <td>FT WASHINGTON AVENUE</td>\n",
       "      <td>...</td>\n",
       "      <td>FT WASHINGTON AVENUE</td>\n",
       "      <td>Noise - Residential</td>\n",
       "      <td>-73.93702585036192</td>\n",
       "      <td>Closed</td>\n",
       "      <td>54045643</td>\n",
       "      <td>250679</td>\n",
       "      <td>2022-05-01T00:10:43.000</td>\n",
       "      <td>ADDRESS</td>\n",
       "      <td>WEST  187 STREET</td>\n",
       "      <td>NaN</td>\n",
       "    </tr>\n",
       "    <tr>\n",
       "      <th>3</th>\n",
       "      <td>Loud Music/Party</td>\n",
       "      <td>10031</td>\n",
       "      <td>2022-05-01T00:00:27.000</td>\n",
       "      <td>{'latitude': '40.82824553459575', 'human_addre...</td>\n",
       "      <td>NEW YORK</td>\n",
       "      <td>WEST  155 STREET</td>\n",
       "      <td>2022-05-01T00:48:50.000</td>\n",
       "      <td>Unspecified</td>\n",
       "      <td>WEST  150 STREET</td>\n",
       "      <td>EDGECOMBE AVENUE</td>\n",
       "      <td>...</td>\n",
       "      <td>EDGECOMBE AVENUE</td>\n",
       "      <td>Noise - Residential</td>\n",
       "      <td>-73.94051254172763</td>\n",
       "      <td>Closed</td>\n",
       "      <td>54046765</td>\n",
       "      <td>241035</td>\n",
       "      <td>2022-05-01T00:48:54.000</td>\n",
       "      <td>ADDRESS</td>\n",
       "      <td>WEST  155 STREET</td>\n",
       "      <td>NaN</td>\n",
       "    </tr>\n",
       "    <tr>\n",
       "      <th>4</th>\n",
       "      <td>Loud Music/Party</td>\n",
       "      <td>10453</td>\n",
       "      <td>2022-05-01T00:00:32.000</td>\n",
       "      <td>{'latitude': '40.848717168218855', 'human_addr...</td>\n",
       "      <td>BRONX</td>\n",
       "      <td>WEST  177 STREET</td>\n",
       "      <td>2022-05-01T10:56:54.000</td>\n",
       "      <td>Unspecified</td>\n",
       "      <td>WEST  176 STREET</td>\n",
       "      <td>DAVIDSON AVENUE</td>\n",
       "      <td>...</td>\n",
       "      <td>DAVIDSON AVENUE</td>\n",
       "      <td>Noise - Street/Sidewalk</td>\n",
       "      <td>-73.91278896581804</td>\n",
       "      <td>Closed</td>\n",
       "      <td>54048291</td>\n",
       "      <td>248500</td>\n",
       "      <td>2022-05-01T10:57:01.000</td>\n",
       "      <td>ADDRESS</td>\n",
       "      <td>WEST  177 STREET</td>\n",
       "      <td>NaN</td>\n",
       "    </tr>\n",
       "  </tbody>\n",
       "</table>\n",
       "<p>5 rows × 31 columns</p>\n",
       "</div>"
      ],
      "text/plain": [
       "         descriptor incident_zip             created_date  \\\n",
       "0  Loud Music/Party        10452  2022-05-01T00:00:03.000   \n",
       "1  Loud Music/Party        10027  2022-05-01T00:00:09.000   \n",
       "2  Loud Music/Party        10033  2022-05-01T00:00:17.000   \n",
       "3  Loud Music/Party        10031  2022-05-01T00:00:27.000   \n",
       "4  Loud Music/Party        10453  2022-05-01T00:00:32.000   \n",
       "\n",
       "                                            location      city  \\\n",
       "0  {'latitude': '40.83065331987539', 'human_addre...     BRONX   \n",
       "1  {'latitude': '40.81237834836466', 'human_addre...  NEW YORK   \n",
       "2  {'latitude': '40.854713655427595', 'human_addr...  NEW YORK   \n",
       "3  {'latitude': '40.82824553459575', 'human_addre...  NEW YORK   \n",
       "4  {'latitude': '40.848717168218855', 'human_addr...     BRONX   \n",
       "\n",
       "     cross_street_2              closed_date park_facility_name  \\\n",
       "0  EAST  165 STREET  2022-05-01T06:27:30.000        Unspecified   \n",
       "1    CONVENT AVENUE  2022-05-01T00:07:46.000        Unspecified   \n",
       "2  WEST  187 STREET  2022-05-01T00:10:38.000        Unspecified   \n",
       "3  WEST  155 STREET  2022-05-01T00:48:50.000        Unspecified   \n",
       "4  WEST  177 STREET  2022-05-01T10:56:54.000        Unspecified   \n",
       "\n",
       "  intersection_street_1              landmark  ...           street_name  \\\n",
       "0      EAST  164 STREET         GERARD AVENUE  ...         GERARD AVENUE   \n",
       "1   ST NICHOLAS TERRACE      WEST  127 STREET  ...      WEST  127 STREET   \n",
       "2      WEST  185 STREET  FT WASHINGTON AVENUE  ...  FT WASHINGTON AVENUE   \n",
       "3      WEST  150 STREET      EDGECOMBE AVENUE  ...      EDGECOMBE AVENUE   \n",
       "4      WEST  176 STREET       DAVIDSON AVENUE  ...       DAVIDSON AVENUE   \n",
       "\n",
       "            complaint_type           longitude  status unique_key  \\\n",
       "0      Noise - Residential  -73.92308231033165  Closed   54049402   \n",
       "1  Noise - Street/Sidewalk  -73.95240115039357  Closed   54046813   \n",
       "2      Noise - Residential  -73.93702585036192  Closed   54045643   \n",
       "3      Noise - Residential  -73.94051254172763  Closed   54046765   \n",
       "4  Noise - Street/Sidewalk  -73.91278896581804  Closed   54048291   \n",
       "\n",
       "  y_coordinate_state_plane resolution_action_updated_date address_type  \\\n",
       "0                   241916        2022-05-01T06:27:35.000      ADDRESS   \n",
       "1                   235252        2022-05-01T00:07:53.000      ADDRESS   \n",
       "2                   250679        2022-05-01T00:10:43.000      ADDRESS   \n",
       "3                   241035        2022-05-01T00:48:54.000      ADDRESS   \n",
       "4                   248500        2022-05-01T10:57:01.000      ADDRESS   \n",
       "\n",
       "  intersection_street_2 facility_type  \n",
       "0      EAST  165 STREET           NaN  \n",
       "1        CONVENT AVENUE           NaN  \n",
       "2      WEST  187 STREET           NaN  \n",
       "3      WEST  155 STREET           NaN  \n",
       "4      WEST  177 STREET           NaN  \n",
       "\n",
       "[5 rows x 31 columns]"
      ]
     },
     "execution_count": 16,
     "metadata": {},
     "output_type": "execute_result"
    }
   ],
   "source": [
    "df.head()"
   ]
  },
  {
   "cell_type": "markdown",
   "id": "594eedf9",
   "metadata": {
    "slideshow": {
     "slide_type": "subslide"
    }
   },
   "source": [
    "There are 32 columns in the dataset. Let's pick only a few."
   ]
  },
  {
   "cell_type": "code",
   "execution_count": 17,
   "id": "87d05fb6",
   "metadata": {},
   "outputs": [],
   "source": [
    "columns = [\n",
    "    \"descriptor\",\n",
    "    \"created_date\",\n",
    "    \"closed_date\",\n",
    "    \"landmark\",\n",
    "    \"resolution_description\",\n",
    "    \"incident_address\",\n",
    "    \"location_type\",\n",
    "    \"agency\",\n",
    "    \"complaint_type\",\n",
    "    \"status\",\n",
    "    \"unique_key\",\n",
    "    \"resolution_action_updated_date\",\n",
    "    \"address_type\",\n",
    "    \"facility_type\",\n",
    "]"
   ]
  },
  {
   "cell_type": "code",
   "execution_count": 18,
   "id": "f36ceddf",
   "metadata": {
    "slideshow": {
     "slide_type": "subslide"
    }
   },
   "outputs": [
    {
     "data": {
      "text/html": [
       "<div>\n",
       "<style scoped>\n",
       "    .dataframe tbody tr th:only-of-type {\n",
       "        vertical-align: middle;\n",
       "    }\n",
       "\n",
       "    .dataframe tbody tr th {\n",
       "        vertical-align: top;\n",
       "    }\n",
       "\n",
       "    .dataframe thead th {\n",
       "        text-align: right;\n",
       "    }\n",
       "</style>\n",
       "<table border=\"1\" class=\"dataframe\">\n",
       "  <thead>\n",
       "    <tr style=\"text-align: right;\">\n",
       "      <th></th>\n",
       "      <th>0</th>\n",
       "      <th>1</th>\n",
       "      <th>2</th>\n",
       "    </tr>\n",
       "  </thead>\n",
       "  <tbody>\n",
       "    <tr>\n",
       "      <th>descriptor</th>\n",
       "      <td>Loud Music/Party</td>\n",
       "      <td>Loud Music/Party</td>\n",
       "      <td>Loud Music/Party</td>\n",
       "    </tr>\n",
       "    <tr>\n",
       "      <th>created_date</th>\n",
       "      <td>2022-05-01T00:00:03.000</td>\n",
       "      <td>2022-05-01T00:00:09.000</td>\n",
       "      <td>2022-05-01T00:00:17.000</td>\n",
       "    </tr>\n",
       "    <tr>\n",
       "      <th>closed_date</th>\n",
       "      <td>2022-05-01T06:27:30.000</td>\n",
       "      <td>2022-05-01T00:07:46.000</td>\n",
       "      <td>2022-05-01T00:10:38.000</td>\n",
       "    </tr>\n",
       "    <tr>\n",
       "      <th>landmark</th>\n",
       "      <td>GERARD AVENUE</td>\n",
       "      <td>WEST  127 STREET</td>\n",
       "      <td>FT WASHINGTON AVENUE</td>\n",
       "    </tr>\n",
       "    <tr>\n",
       "      <th>resolution_description</th>\n",
       "      <td>The Police Department responded to the complai...</td>\n",
       "      <td>The Police Department responded to the complai...</td>\n",
       "      <td>The Police Department responded to the complai...</td>\n",
       "    </tr>\n",
       "    <tr>\n",
       "      <th>incident_address</th>\n",
       "      <td>1006 GERARD AVENUE</td>\n",
       "      <td>364 WEST  127 STREET</td>\n",
       "      <td>593 FT WASHINGTON AVENUE</td>\n",
       "    </tr>\n",
       "    <tr>\n",
       "      <th>location_type</th>\n",
       "      <td>Residential Building/House</td>\n",
       "      <td>Street/Sidewalk</td>\n",
       "      <td>Residential Building/House</td>\n",
       "    </tr>\n",
       "    <tr>\n",
       "      <th>agency</th>\n",
       "      <td>NYPD</td>\n",
       "      <td>NYPD</td>\n",
       "      <td>NYPD</td>\n",
       "    </tr>\n",
       "    <tr>\n",
       "      <th>complaint_type</th>\n",
       "      <td>Noise - Residential</td>\n",
       "      <td>Noise - Street/Sidewalk</td>\n",
       "      <td>Noise - Residential</td>\n",
       "    </tr>\n",
       "    <tr>\n",
       "      <th>status</th>\n",
       "      <td>Closed</td>\n",
       "      <td>Closed</td>\n",
       "      <td>Closed</td>\n",
       "    </tr>\n",
       "    <tr>\n",
       "      <th>unique_key</th>\n",
       "      <td>54049402</td>\n",
       "      <td>54046813</td>\n",
       "      <td>54045643</td>\n",
       "    </tr>\n",
       "    <tr>\n",
       "      <th>resolution_action_updated_date</th>\n",
       "      <td>2022-05-01T06:27:35.000</td>\n",
       "      <td>2022-05-01T00:07:53.000</td>\n",
       "      <td>2022-05-01T00:10:43.000</td>\n",
       "    </tr>\n",
       "    <tr>\n",
       "      <th>address_type</th>\n",
       "      <td>ADDRESS</td>\n",
       "      <td>ADDRESS</td>\n",
       "      <td>ADDRESS</td>\n",
       "    </tr>\n",
       "    <tr>\n",
       "      <th>facility_type</th>\n",
       "      <td>NaN</td>\n",
       "      <td>NaN</td>\n",
       "      <td>NaN</td>\n",
       "    </tr>\n",
       "  </tbody>\n",
       "</table>\n",
       "</div>"
      ],
      "text/plain": [
       "                                                                                0  \\\n",
       "descriptor                                                       Loud Music/Party   \n",
       "created_date                                              2022-05-01T00:00:03.000   \n",
       "closed_date                                               2022-05-01T06:27:30.000   \n",
       "landmark                                                            GERARD AVENUE   \n",
       "resolution_description          The Police Department responded to the complai...   \n",
       "incident_address                                               1006 GERARD AVENUE   \n",
       "location_type                                          Residential Building/House   \n",
       "agency                                                                       NYPD   \n",
       "complaint_type                                                Noise - Residential   \n",
       "status                                                                     Closed   \n",
       "unique_key                                                               54049402   \n",
       "resolution_action_updated_date                            2022-05-01T06:27:35.000   \n",
       "address_type                                                              ADDRESS   \n",
       "facility_type                                                                 NaN   \n",
       "\n",
       "                                                                                1  \\\n",
       "descriptor                                                       Loud Music/Party   \n",
       "created_date                                              2022-05-01T00:00:09.000   \n",
       "closed_date                                               2022-05-01T00:07:46.000   \n",
       "landmark                                                         WEST  127 STREET   \n",
       "resolution_description          The Police Department responded to the complai...   \n",
       "incident_address                                             364 WEST  127 STREET   \n",
       "location_type                                                     Street/Sidewalk   \n",
       "agency                                                                       NYPD   \n",
       "complaint_type                                            Noise - Street/Sidewalk   \n",
       "status                                                                     Closed   \n",
       "unique_key                                                               54046813   \n",
       "resolution_action_updated_date                            2022-05-01T00:07:53.000   \n",
       "address_type                                                              ADDRESS   \n",
       "facility_type                                                                 NaN   \n",
       "\n",
       "                                                                                2  \n",
       "descriptor                                                       Loud Music/Party  \n",
       "created_date                                              2022-05-01T00:00:17.000  \n",
       "closed_date                                               2022-05-01T00:10:38.000  \n",
       "landmark                                                     FT WASHINGTON AVENUE  \n",
       "resolution_description          The Police Department responded to the complai...  \n",
       "incident_address                                         593 FT WASHINGTON AVENUE  \n",
       "location_type                                          Residential Building/House  \n",
       "agency                                                                       NYPD  \n",
       "complaint_type                                                Noise - Residential  \n",
       "status                                                                     Closed  \n",
       "unique_key                                                               54045643  \n",
       "resolution_action_updated_date                            2022-05-01T00:10:43.000  \n",
       "address_type                                                              ADDRESS  \n",
       "facility_type                                                                 NaN  "
      ]
     },
     "execution_count": 18,
     "metadata": {},
     "output_type": "execute_result"
    }
   ],
   "source": [
    "df[columns].head(3).T"
   ]
  },
  {
   "cell_type": "markdown",
   "id": "8d1e562f",
   "metadata": {
    "slideshow": {
     "slide_type": "subslide"
    }
   },
   "source": [
    "Let's calculate the distance to each complaint and sort by distance."
   ]
  },
  {
   "cell_type": "code",
   "execution_count": 19,
   "id": "e4ded332",
   "metadata": {},
   "outputs": [
    {
     "data": {
      "text/plain": [
       "(40.72018, -74.00149)"
      ]
     },
     "execution_count": 19,
     "metadata": {},
     "output_type": "execute_result"
    }
   ],
   "source": [
    "mylat, mylon"
   ]
  },
  {
   "cell_type": "code",
   "execution_count": 20,
   "id": "7b53b501",
   "metadata": {},
   "outputs": [],
   "source": [
    "df[\"distance\"] = haversine_vec(\n",
    "    df[\"longitude\"].astype(float), df[\"latitude\"].astype(float), mylon, mylat\n",
    ")\n",
    "df.sort_values(\"distance\", inplace=True)"
   ]
  },
  {
   "cell_type": "code",
   "execution_count": 21,
   "id": "a42007be",
   "metadata": {
    "slideshow": {
     "slide_type": "subslide"
    }
   },
   "outputs": [
    {
     "data": {
      "text/html": [
       "<div>\n",
       "<style scoped>\n",
       "    .dataframe tbody tr th:only-of-type {\n",
       "        vertical-align: middle;\n",
       "    }\n",
       "\n",
       "    .dataframe tbody tr th {\n",
       "        vertical-align: top;\n",
       "    }\n",
       "\n",
       "    .dataframe thead th {\n",
       "        text-align: right;\n",
       "    }\n",
       "</style>\n",
       "<table border=\"1\" class=\"dataframe\">\n",
       "  <thead>\n",
       "    <tr style=\"text-align: right;\">\n",
       "      <th></th>\n",
       "      <th>7541</th>\n",
       "      <th>8618</th>\n",
       "      <th>9489</th>\n",
       "    </tr>\n",
       "  </thead>\n",
       "  <tbody>\n",
       "    <tr>\n",
       "      <th>descriptor</th>\n",
       "      <td>Car/Truck Music</td>\n",
       "      <td>Noise: Construction Equipment (NC1)</td>\n",
       "      <td>Loud Music/Party</td>\n",
       "    </tr>\n",
       "    <tr>\n",
       "      <th>created_date</th>\n",
       "      <td>2022-05-04T20:56:39.000</td>\n",
       "      <td>2022-05-05T11:20:00.000</td>\n",
       "      <td>2022-05-05T20:55:43.000</td>\n",
       "    </tr>\n",
       "    <tr>\n",
       "      <th>closed_date</th>\n",
       "      <td>2022-05-04T21:47:10.000</td>\n",
       "      <td>NaN</td>\n",
       "      <td>2022-05-05T21:55:15.000</td>\n",
       "    </tr>\n",
       "    <tr>\n",
       "      <th>landmark</th>\n",
       "      <td>MERCER STREET</td>\n",
       "      <td>NaN</td>\n",
       "      <td>MERCER STREET</td>\n",
       "    </tr>\n",
       "    <tr>\n",
       "      <th>resolution_description</th>\n",
       "      <td>The Police Department responded and upon arriv...</td>\n",
       "      <td>NaN</td>\n",
       "      <td>The Police Department responded to the complai...</td>\n",
       "    </tr>\n",
       "    <tr>\n",
       "      <th>incident_address</th>\n",
       "      <td>17 MERCER STREET</td>\n",
       "      <td>456 BROADWAY</td>\n",
       "      <td>26 MERCER STREET</td>\n",
       "    </tr>\n",
       "    <tr>\n",
       "      <th>location_type</th>\n",
       "      <td>Street/Sidewalk</td>\n",
       "      <td>NaN</td>\n",
       "      <td>Store/Commercial</td>\n",
       "    </tr>\n",
       "    <tr>\n",
       "      <th>agency</th>\n",
       "      <td>NYPD</td>\n",
       "      <td>DEP</td>\n",
       "      <td>NYPD</td>\n",
       "    </tr>\n",
       "    <tr>\n",
       "      <th>complaint_type</th>\n",
       "      <td>Noise - Vehicle</td>\n",
       "      <td>Noise</td>\n",
       "      <td>Noise - Commercial</td>\n",
       "    </tr>\n",
       "    <tr>\n",
       "      <th>status</th>\n",
       "      <td>Closed</td>\n",
       "      <td>Open</td>\n",
       "      <td>Closed</td>\n",
       "    </tr>\n",
       "    <tr>\n",
       "      <th>unique_key</th>\n",
       "      <td>54085924</td>\n",
       "      <td>54092539</td>\n",
       "      <td>54091665</td>\n",
       "    </tr>\n",
       "    <tr>\n",
       "      <th>resolution_action_updated_date</th>\n",
       "      <td>2022-05-04T21:47:15.000</td>\n",
       "      <td>NaN</td>\n",
       "      <td>2022-05-05T21:55:17.000</td>\n",
       "    </tr>\n",
       "    <tr>\n",
       "      <th>address_type</th>\n",
       "      <td>ADDRESS</td>\n",
       "      <td>ADDRESS</td>\n",
       "      <td>ADDRESS</td>\n",
       "    </tr>\n",
       "    <tr>\n",
       "      <th>facility_type</th>\n",
       "      <td>NaN</td>\n",
       "      <td>N/A</td>\n",
       "      <td>NaN</td>\n",
       "    </tr>\n",
       "    <tr>\n",
       "      <th>distance</th>\n",
       "      <td>0.068354</td>\n",
       "      <td>0.0773</td>\n",
       "      <td>0.077706</td>\n",
       "    </tr>\n",
       "  </tbody>\n",
       "</table>\n",
       "</div>"
      ],
      "text/plain": [
       "                                                                             7541  \\\n",
       "descriptor                                                        Car/Truck Music   \n",
       "created_date                                              2022-05-04T20:56:39.000   \n",
       "closed_date                                               2022-05-04T21:47:10.000   \n",
       "landmark                                                            MERCER STREET   \n",
       "resolution_description          The Police Department responded and upon arriv...   \n",
       "incident_address                                                 17 MERCER STREET   \n",
       "location_type                                                     Street/Sidewalk   \n",
       "agency                                                                       NYPD   \n",
       "complaint_type                                                    Noise - Vehicle   \n",
       "status                                                                     Closed   \n",
       "unique_key                                                               54085924   \n",
       "resolution_action_updated_date                            2022-05-04T21:47:15.000   \n",
       "address_type                                                              ADDRESS   \n",
       "facility_type                                                                 NaN   \n",
       "distance                                                                 0.068354   \n",
       "\n",
       "                                                               8618  \\\n",
       "descriptor                      Noise: Construction Equipment (NC1)   \n",
       "created_date                                2022-05-05T11:20:00.000   \n",
       "closed_date                                                     NaN   \n",
       "landmark                                                        NaN   \n",
       "resolution_description                                          NaN   \n",
       "incident_address                                       456 BROADWAY   \n",
       "location_type                                                   NaN   \n",
       "agency                                                          DEP   \n",
       "complaint_type                                                Noise   \n",
       "status                                                         Open   \n",
       "unique_key                                                 54092539   \n",
       "resolution_action_updated_date                                  NaN   \n",
       "address_type                                                ADDRESS   \n",
       "facility_type                                                   N/A   \n",
       "distance                                                     0.0773   \n",
       "\n",
       "                                                                             9489  \n",
       "descriptor                                                       Loud Music/Party  \n",
       "created_date                                              2022-05-05T20:55:43.000  \n",
       "closed_date                                               2022-05-05T21:55:15.000  \n",
       "landmark                                                            MERCER STREET  \n",
       "resolution_description          The Police Department responded to the complai...  \n",
       "incident_address                                                 26 MERCER STREET  \n",
       "location_type                                                    Store/Commercial  \n",
       "agency                                                                       NYPD  \n",
       "complaint_type                                                 Noise - Commercial  \n",
       "status                                                                     Closed  \n",
       "unique_key                                                               54091665  \n",
       "resolution_action_updated_date                            2022-05-05T21:55:17.000  \n",
       "address_type                                                              ADDRESS  \n",
       "facility_type                                                                 NaN  \n",
       "distance                                                                 0.077706  "
      ]
     },
     "execution_count": 21,
     "metadata": {},
     "output_type": "execute_result"
    }
   ],
   "source": [
    "df[columns + [\"distance\"]].head(3).T"
   ]
  },
  {
   "cell_type": "code",
   "execution_count": 22,
   "id": "a3b6ceff",
   "metadata": {},
   "outputs": [
    {
     "data": {
      "text/plain": [
       "'The Police Department responded and upon arrival those responsible for the condition were gone.'"
      ]
     },
     "execution_count": 22,
     "metadata": {},
     "output_type": "execute_result"
    }
   ],
   "source": [
    "df[\"resolution_description\"].iloc[0]"
   ]
  },
  {
   "cell_type": "markdown",
   "id": "15647155",
   "metadata": {
    "slideshow": {
     "slide_type": "slide"
    }
   },
   "source": [
    "## Geocoding\n",
    " \n",
    "Geocoding converts a text-based description of a location, such as the address `433 Broadway` or the name `Empire State Building` to geographic coordinates such as a latitude/longitude pair. Google Maps, Uber, Seamless, and many other services that accept an address convert it to a geographic location using an API. We can too!\n",
    "\n",
    "The New York City Department of City Planning provides [NYC GeoSearch](https://geosearch.planninglabs.nyc/) as a free API service for locating addresses in the City."
   ]
  },
  {
   "cell_type": "code",
   "execution_count": 23,
   "id": "35df349a",
   "metadata": {
    "slideshow": {
     "slide_type": "subslide"
    }
   },
   "outputs": [
    {
     "name": "stdout",
     "output_type": "stream",
     "text": [
      "433 BROADWAY, Manhattan, New York, NY, USA\n"
     ]
    },
    {
     "data": {
      "text/plain": [
       "[40.720228, -74.001571]"
      ]
     },
     "execution_count": 23,
     "metadata": {},
     "output_type": "execute_result"
    }
   ],
   "source": [
    "import requests\n",
    "\n",
    "\n",
    "def geocode_address(text):\n",
    "    r = requests.get(\n",
    "        \"https://geosearch.planninglabs.nyc/v1/autocomplete\",\n",
    "        {\"text\": text, \"size\": 1},\n",
    "    )\n",
    "    point = r.json()[\"features\"][0]\n",
    "    print(point[\"properties\"][\"label\"])\n",
    "    return point[\"geometry\"][\"coordinates\"][::-1]\n",
    "\n",
    "\n",
    "geocode_address(\"433 Broadway Manhattan\")"
   ]
  },
  {
   "cell_type": "code",
   "execution_count": 24,
   "id": "8236454d",
   "metadata": {},
   "outputs": [
    {
     "name": "stdout",
     "output_type": "stream",
     "text": [
      "THE EMPIRE STATE BUILDING, Manhattan, New York, NY, USA\n"
     ]
    },
    {
     "data": {
      "text/plain": [
       "[40.748433, -73.985654]"
      ]
     },
     "execution_count": 24,
     "metadata": {},
     "output_type": "execute_result"
    }
   ],
   "source": [
    "geocode_address(\"Empire State Building\")"
   ]
  },
  {
   "cell_type": "markdown",
   "id": "b10f1eb2",
   "metadata": {
    "slideshow": {
     "slide_type": "subslide"
    }
   },
   "source": [
    "We can write another function that performs a geocoding lookup and uses the returned location to provide us the three closest complaints."
   ]
  },
  {
   "cell_type": "code",
   "execution_count": 25,
   "id": "e58fc366",
   "metadata": {},
   "outputs": [],
   "source": [
    "def get_closest_complaints(address):\n",
    "    lat, lon = geocode_address(address)\n",
    "    df2 = df.copy()\n",
    "    df2[\"distance\"] = haversine_vec(\n",
    "        df2[\"longitude\"].astype(float),\n",
    "        df2[\"latitude\"].astype(float),\n",
    "        lon,\n",
    "        lat,\n",
    "    )\n",
    "    df2.sort_values(\"distance\", inplace=True)\n",
    "    return df2[columns + [\"distance\"]].head(3).T"
   ]
  },
  {
   "cell_type": "code",
   "execution_count": 26,
   "id": "cac800c8",
   "metadata": {
    "slideshow": {
     "slide_type": "subslide"
    }
   },
   "outputs": [
    {
     "name": "stdout",
     "output_type": "stream",
     "text": [
      "STATEN ISLAND FERRY TERMINAL, Manhattan, New York, NY, USA\n"
     ]
    },
    {
     "data": {
      "text/html": [
       "<div>\n",
       "<style scoped>\n",
       "    .dataframe tbody tr th:only-of-type {\n",
       "        vertical-align: middle;\n",
       "    }\n",
       "\n",
       "    .dataframe tbody tr th {\n",
       "        vertical-align: top;\n",
       "    }\n",
       "\n",
       "    .dataframe thead th {\n",
       "        text-align: right;\n",
       "    }\n",
       "</style>\n",
       "<table border=\"1\" class=\"dataframe\">\n",
       "  <thead>\n",
       "    <tr style=\"text-align: right;\">\n",
       "      <th></th>\n",
       "      <th>6913</th>\n",
       "      <th>5963</th>\n",
       "      <th>3839</th>\n",
       "    </tr>\n",
       "  </thead>\n",
       "  <tbody>\n",
       "    <tr>\n",
       "      <th>descriptor</th>\n",
       "      <td>Noise: Private Carting Noise (NQ1)</td>\n",
       "      <td>Loud Music/Party</td>\n",
       "      <td>Loud Music/Party</td>\n",
       "    </tr>\n",
       "    <tr>\n",
       "      <th>created_date</th>\n",
       "      <td>2022-05-04T03:09:00.000</td>\n",
       "      <td>2022-05-03T16:18:33.000</td>\n",
       "      <td>2022-05-01T23:52:57.000</td>\n",
       "    </tr>\n",
       "    <tr>\n",
       "      <th>closed_date</th>\n",
       "      <td>NaN</td>\n",
       "      <td>2022-05-03T16:45:05.000</td>\n",
       "      <td>2022-05-02T06:44:39.000</td>\n",
       "    </tr>\n",
       "    <tr>\n",
       "      <th>landmark</th>\n",
       "      <td>NaN</td>\n",
       "      <td>BROAD STREET</td>\n",
       "      <td>WALL STREET</td>\n",
       "    </tr>\n",
       "    <tr>\n",
       "      <th>resolution_description</th>\n",
       "      <td>The Department of Environmental Protection has...</td>\n",
       "      <td>The Police Department responded to the complai...</td>\n",
       "      <td>The Police Department responded to the complai...</td>\n",
       "    </tr>\n",
       "    <tr>\n",
       "      <th>incident_address</th>\n",
       "      <td>10 HANOVER SQUARE</td>\n",
       "      <td>25 BROAD STREET</td>\n",
       "      <td>95 WALL STREET</td>\n",
       "    </tr>\n",
       "    <tr>\n",
       "      <th>location_type</th>\n",
       "      <td>NaN</td>\n",
       "      <td>Street/Sidewalk</td>\n",
       "      <td>Residential Building/House</td>\n",
       "    </tr>\n",
       "    <tr>\n",
       "      <th>agency</th>\n",
       "      <td>DEP</td>\n",
       "      <td>NYPD</td>\n",
       "      <td>NYPD</td>\n",
       "    </tr>\n",
       "    <tr>\n",
       "      <th>complaint_type</th>\n",
       "      <td>Noise</td>\n",
       "      <td>Noise - Street/Sidewalk</td>\n",
       "      <td>Noise - Residential</td>\n",
       "    </tr>\n",
       "    <tr>\n",
       "      <th>status</th>\n",
       "      <td>Started</td>\n",
       "      <td>Closed</td>\n",
       "      <td>Closed</td>\n",
       "    </tr>\n",
       "    <tr>\n",
       "      <th>unique_key</th>\n",
       "      <td>54084383</td>\n",
       "      <td>54072269</td>\n",
       "      <td>54058499</td>\n",
       "    </tr>\n",
       "    <tr>\n",
       "      <th>resolution_action_updated_date</th>\n",
       "      <td>2022-05-04T22:27:00.000</td>\n",
       "      <td>2022-05-03T16:45:10.000</td>\n",
       "      <td>2022-05-02T06:44:46.000</td>\n",
       "    </tr>\n",
       "    <tr>\n",
       "      <th>address_type</th>\n",
       "      <td>ADDRESS</td>\n",
       "      <td>ADDRESS</td>\n",
       "      <td>ADDRESS</td>\n",
       "    </tr>\n",
       "    <tr>\n",
       "      <th>facility_type</th>\n",
       "      <td>N/A</td>\n",
       "      <td>NaN</td>\n",
       "      <td>NaN</td>\n",
       "    </tr>\n",
       "    <tr>\n",
       "      <th>distance</th>\n",
       "      <td>0.513902</td>\n",
       "      <td>0.623457</td>\n",
       "      <td>0.660554</td>\n",
       "    </tr>\n",
       "  </tbody>\n",
       "</table>\n",
       "</div>"
      ],
      "text/plain": [
       "                                                                             6913  \\\n",
       "descriptor                                     Noise: Private Carting Noise (NQ1)   \n",
       "created_date                                              2022-05-04T03:09:00.000   \n",
       "closed_date                                                                   NaN   \n",
       "landmark                                                                      NaN   \n",
       "resolution_description          The Department of Environmental Protection has...   \n",
       "incident_address                                                10 HANOVER SQUARE   \n",
       "location_type                                                                 NaN   \n",
       "agency                                                                        DEP   \n",
       "complaint_type                                                              Noise   \n",
       "status                                                                    Started   \n",
       "unique_key                                                               54084383   \n",
       "resolution_action_updated_date                            2022-05-04T22:27:00.000   \n",
       "address_type                                                              ADDRESS   \n",
       "facility_type                                                                 N/A   \n",
       "distance                                                                 0.513902   \n",
       "\n",
       "                                                                             5963  \\\n",
       "descriptor                                                       Loud Music/Party   \n",
       "created_date                                              2022-05-03T16:18:33.000   \n",
       "closed_date                                               2022-05-03T16:45:05.000   \n",
       "landmark                                                             BROAD STREET   \n",
       "resolution_description          The Police Department responded to the complai...   \n",
       "incident_address                                                  25 BROAD STREET   \n",
       "location_type                                                     Street/Sidewalk   \n",
       "agency                                                                       NYPD   \n",
       "complaint_type                                            Noise - Street/Sidewalk   \n",
       "status                                                                     Closed   \n",
       "unique_key                                                               54072269   \n",
       "resolution_action_updated_date                            2022-05-03T16:45:10.000   \n",
       "address_type                                                              ADDRESS   \n",
       "facility_type                                                                 NaN   \n",
       "distance                                                                 0.623457   \n",
       "\n",
       "                                                                             3839  \n",
       "descriptor                                                       Loud Music/Party  \n",
       "created_date                                              2022-05-01T23:52:57.000  \n",
       "closed_date                                               2022-05-02T06:44:39.000  \n",
       "landmark                                                              WALL STREET  \n",
       "resolution_description          The Police Department responded to the complai...  \n",
       "incident_address                                                   95 WALL STREET  \n",
       "location_type                                          Residential Building/House  \n",
       "agency                                                                       NYPD  \n",
       "complaint_type                                                Noise - Residential  \n",
       "status                                                                     Closed  \n",
       "unique_key                                                               54058499  \n",
       "resolution_action_updated_date                            2022-05-02T06:44:46.000  \n",
       "address_type                                                              ADDRESS  \n",
       "facility_type                                                                 NaN  \n",
       "distance                                                                 0.660554  "
      ]
     },
     "execution_count": 26,
     "metadata": {},
     "output_type": "execute_result"
    }
   ],
   "source": [
    "get_closest_complaints(\"staten island ferry\")"
   ]
  }
 ],
 "metadata": {
  "celltoolbar": "Slideshow",
  "kernelspec": {
   "display_name": "Python 3 (ipykernel)",
   "language": "python",
   "name": "python3"
  },
  "language_info": {
   "codemirror_mode": {
    "name": "ipython",
    "version": 3
   },
   "file_extension": ".py",
   "mimetype": "text/x-python",
   "name": "python",
   "nbconvert_exporter": "python",
   "pygments_lexer": "ipython3",
   "version": "3.9.2"
  },
  "rise": {
   "autolaunch": true,
   "theme": "night"
  }
 },
 "nbformat": 4,
 "nbformat_minor": 5
}
