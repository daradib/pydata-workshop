{
 "cells": [
  {
   "cell_type": "markdown",
   "metadata": {},
   "source": [
    "# Review: Querying an API endpoint\n",
    "\n",
    "### Mapbox Geocoding API\n",
    "\n",
    "Services like Google Maps and Mapbox have various APIs that let you access its services through code instead of through GUI apps. This one from Mapbox lets you look up the latitude-longitude coordinates of street addresses.\n",
    "\n",
    "It works similarly to the earthquakes example, but with query parameters added to the URL endpoint!\n",
    "\n",
    "**API documentation:**  \n",
    "https://www.mapbox.com/api-documentation/#geocoding\n",
    "\n",
    "**API endpoint:**  \n",
    "https://api.mapbox.com/geocoding/v5/mapbox.places\n",
    "\n",
    "**API endpoint with query parameters:**  \n",
    "https://api.mapbox.com/geocoding/v5/mapbox.places/Wurster+Hall.json?access_token=pk.eyJ1IjoiY3AyNTVkZW1vIiwiYSI6ImRPcTlnTUEifQ.3C0d0Nk_rcwV-8JF29PU-w\n",
    "\n",
    "\n",
    "## Setting up API Keys for this session\n",
    "\n",
    "You can get your own access key by signing up for a Mapbox account. Here is a link for that (Go ahead and do it now):\n",
    "\n",
    "https://www.mapbox.com/signin/?route-to=%22/account/access-tokens%22\n",
    "\n",
    "The Census Bureau has many APIs that can be used directly from Python - we will explore one later in class today.  You'll need to request an API key here, if you don't already have this one: \n",
    "\n",
    "https://api.census.gov/data/key_signup.html\n",
    "\n",
    "Go ahead and do this, and check your email when we come to that part of the session that needs this.\n",
    "\n",
    "## Reviewing the Mapbox API endpoint for geocoding"
   ]
  },
  {
   "cell_type": "code",
   "execution_count": 11,
   "metadata": {
    "collapsed": true
   },
   "outputs": [],
   "source": [
    "import json      # library for working with JSON-formatted text strings\n",
    "import requests  # library for accessing content from web URLs\n",
    "\n",
    "import pprint    # library for cleanly printing Python data structures\n",
    "pp = pprint.PrettyPrinter()"
   ]
  },
  {
   "cell_type": "code",
   "execution_count": null,
   "metadata": {
    "collapsed": true
   },
   "outputs": [],
   "source": [
    "# we have to encode the search query so that it can be passed as a URL, \n",
    "# with spaces and other special characters removed\n",
    "\n",
    "endpoint = 'https://api.mapbox.com/geocoding/v5/mapbox.places/'\n",
    "\n",
    "address = 'Wurster Hall'\n",
    "\n",
    "params = {'limit': 1,\n",
    "          'access_token': 'pk.eyJ1IjoiY3AyNTVkZW1vIiwiYSI6ImRPcTlnTUEifQ.3C0d0Nk_rcwV-8JF29PU-w'}\n",
    "\n",
    "url = requests.Request('GET', endpoint+address+'.json', params=params).prepare().url\n",
    "print(url)"
   ]
  },
  {
   "cell_type": "code",
   "execution_count": null,
   "metadata": {
    "collapsed": true
   },
   "outputs": [],
   "source": [
    "# download and parse the results\n",
    "\n",
    "response = requests.get(url)\n",
    "results = response.text\n",
    "data = json.loads(results)\n",
    "\n",
    "print(data)"
   ]
  },
  {
   "cell_type": "code",
   "execution_count": null,
   "metadata": {
    "collapsed": true
   },
   "outputs": [],
   "source": [
    "# print it more nicely\n",
    "\n",
    "pp.pprint(data)"
   ]
  },
  {
   "cell_type": "code",
   "execution_count": null,
   "metadata": {
    "collapsed": true
   },
   "outputs": [],
   "source": [
    "# pull out the lat-lon coordinates\n",
    "\n",
    "for r in data['features']:\n",
    "    coords = r['geometry']['coordinates']\n",
    "    print(coords)"
   ]
  },
  {
   "cell_type": "markdown",
   "metadata": {},
   "source": [
    "## Using the Mapbox Python SDK for Geocoding\n",
    "\n",
    "So far the discussion of APIs has been based on just accessing the API endpoints, which could be done with anything that can access a properly specified url.  Even just your browser.\n",
    "\n",
    "Now we will look at APIs from a different perspective, one that is more Pythonic.  We will first need to install the Mapbox SDK."
   ]
  },
  {
   "cell_type": "code",
   "execution_count": 3,
   "metadata": {
    "scrolled": true
   },
   "outputs": [
    {
     "name": "stdout",
     "output_type": "stream",
     "text": [
      "Collecting mapbox\n",
      "  Downloading https://files.pythonhosted.org/packages/c8/bc/6cf7ed35c606ef257162b76e6a5fc01a0a4b6dfa92c4244015d1634bb337/mapbox-0.17.1-py2.py3-none-any.whl\n",
      "Collecting uritemplate>=2.0 (from mapbox)\n",
      "  Downloading https://files.pythonhosted.org/packages/e5/7d/9d5a640c4f8bf2c8b1afc015e9a9d8de32e13c9016dcc4b0ec03481fb396/uritemplate-3.0.0-py2.py3-none-any.whl\n",
      "Collecting iso3166 (from mapbox)\n",
      "  Downloading https://files.pythonhosted.org/packages/f2/f6/985e5b174786e93aff77ec055a4b7ba55ebc95a3f8b5880f845d7bbd253e/iso3166-0.9.tar.gz\n",
      "Requirement already satisfied: requests in /Users/waddell/anaconda3/lib/python3.6/site-packages (from mapbox)\n",
      "Collecting polyline>=1.3.1 (from mapbox)\n",
      "  Downloading https://files.pythonhosted.org/packages/c1/d0/58a19ca3fbe880145d200518fcd97d176cae07b9677db330f4881954d5f5/polyline-1.3.2-py2.py3-none-any.whl\n",
      "Requirement already satisfied: python-dateutil>=2.5.0 in /Users/waddell/anaconda3/lib/python3.6/site-packages (from mapbox)\n",
      "Collecting cachecontrol (from mapbox)\n",
      "  Downloading https://files.pythonhosted.org/packages/5e/f0/2c193ed1f17c97ae539da7e1c2d48b80d8cccb1917163b26a91ca4355aa6/CacheControl-0.12.5.tar.gz\n",
      "Collecting boto3>=1.4 (from mapbox)\n",
      "  Downloading https://files.pythonhosted.org/packages/73/d1/dec34592e7a5b7142cb1b7b6c32bcaed7d55cc74d1ba3db306d944ee9d0a/boto3-1.9.23-py2.py3-none-any.whl (128kB)\n",
      "\u001b[K    100% |████████████████████████████████| 133kB 8.7MB/s eta 0:00:01\n",
      "\u001b[?25hRequirement already satisfied: chardet<3.1.0,>=3.0.2 in /Users/waddell/anaconda3/lib/python3.6/site-packages (from requests->mapbox)\n",
      "Requirement already satisfied: idna<2.7,>=2.5 in /Users/waddell/anaconda3/lib/python3.6/site-packages (from requests->mapbox)\n",
      "Requirement already satisfied: urllib3<1.23,>=1.21.1 in /Users/waddell/anaconda3/lib/python3.6/site-packages (from requests->mapbox)\n",
      "Requirement already satisfied: certifi>=2017.4.17 in /Users/waddell/anaconda3/lib/python3.6/site-packages (from requests->mapbox)\n",
      "Requirement already satisfied: six>=1.8.0 in /Users/waddell/anaconda3/lib/python3.6/site-packages (from polyline>=1.3.1->mapbox)\n",
      "Collecting msgpack (from cachecontrol->mapbox)\n",
      "  Downloading https://files.pythonhosted.org/packages/f3/b6/9affbea179c3c03a0eb53515d9ce404809a122f76bee8fc8c6ec9497f51f/msgpack-0.5.6.tar.gz (138kB)\n",
      "\u001b[K    100% |████████████████████████████████| 143kB 9.5MB/s eta 0:00:01\n",
      "\u001b[?25hCollecting s3transfer<0.2.0,>=0.1.10 (from boto3>=1.4->mapbox)\n",
      "  Downloading https://files.pythonhosted.org/packages/d7/14/2a0004d487464d120c9fb85313a75cd3d71a7506955be458eebfe19a6b1d/s3transfer-0.1.13-py2.py3-none-any.whl (59kB)\n",
      "\u001b[K    100% |████████████████████████████████| 61kB 11.2MB/s ta 0:00:01\n",
      "\u001b[?25hCollecting botocore<1.13.0,>=1.12.23 (from boto3>=1.4->mapbox)\n",
      "  Downloading https://files.pythonhosted.org/packages/86/84/b052fb9806d73deb44ca458128906a7c3d57c5787e888ea3558329732f08/botocore-1.12.23-py2.py3-none-any.whl (4.7MB)\n",
      "\u001b[K    100% |████████████████████████████████| 4.7MB 415kB/s eta 0:00:01\n",
      "\u001b[?25hCollecting jmespath<1.0.0,>=0.7.1 (from boto3>=1.4->mapbox)\n",
      "  Downloading https://files.pythonhosted.org/packages/b7/31/05c8d001f7f87f0f07289a5fc0fc3832e9a57f2dbd4d3b0fee70e0d51365/jmespath-0.9.3-py2.py3-none-any.whl\n",
      "Requirement already satisfied: docutils>=0.10 in /Users/waddell/anaconda3/lib/python3.6/site-packages (from botocore<1.13.0,>=1.12.23->boto3>=1.4->mapbox)\n",
      "Building wheels for collected packages: iso3166, cachecontrol, msgpack\n",
      "  Running setup.py bdist_wheel for iso3166 ... \u001b[?25ldone\n",
      "\u001b[?25h  Stored in directory: /Users/waddell/Library/Caches/pip/wheels/05/75/28/62c7e94498ff866a39dbaec5db14fc5b3214a6506e69254a63\n",
      "  Running setup.py bdist_wheel for cachecontrol ... \u001b[?25ldone\n",
      "\u001b[?25h  Stored in directory: /Users/waddell/Library/Caches/pip/wheels/36/bd/5f/dbbee4f2d51f97ecd12a363f870361179cb1fd4bc1174ea08a\n",
      "  Running setup.py bdist_wheel for msgpack ... \u001b[?25ldone\n",
      "\u001b[?25h  Stored in directory: /Users/waddell/Library/Caches/pip/wheels/f0/02/4c/525b56fce78c415eb8066f6554f9de02792df26b8f882f6d65\n",
      "Successfully built iso3166 cachecontrol msgpack\n",
      "Installing collected packages: uritemplate, iso3166, polyline, msgpack, cachecontrol, jmespath, botocore, s3transfer, boto3, mapbox\n",
      "Successfully installed boto3-1.9.23 botocore-1.12.23 cachecontrol-0.12.5 iso3166-0.9 jmespath-0.9.3 mapbox-0.17.1 msgpack-0.5.6 polyline-1.3.2 s3transfer-0.1.13 uritemplate-3.0.0\n",
      "\u001b[33mYou are using pip version 9.0.1, however version 18.1 is available.\n",
      "You should consider upgrading via the 'pip install --upgrade pip' command.\u001b[0m\n"
     ]
    }
   ],
   "source": [
    "#!pip install mapbox"
   ]
  },
  {
   "cell_type": "markdown",
   "metadata": {},
   "source": [
    "You will need to manage access tokens for Mapbox APIs (and for many others).  Read this for more information:\n",
    "\n",
    "https://github.com/mapbox/mapbox-sdk-py/blob/master/docs/access_tokens.md"
   ]
  },
  {
   "cell_type": "markdown",
   "metadata": {},
   "source": [
    "### Forward Geocoding\n",
    "\n",
    "Forward geocoding is the one we have looked at so far using an ALI endpoint.  Let's look at it again using the Mapbox Python SDK."
   ]
  },
  {
   "cell_type": "code",
   "execution_count": 4,
   "metadata": {
    "collapsed": true
   },
   "outputs": [],
   "source": [
    "from mapbox import Geocoder\n",
    "import os"
   ]
  },
  {
   "cell_type": "markdown",
   "metadata": {},
   "source": [
    "First - a brief digression -- these access tokens should not be publicly exposed, like on a web page or github, since others could get them and abuse them, and they are connected to you, so you might get blocked (blacklisted) by the API providers.  So -- the best way to handle this is to store the API Key or access token in an environment variable.  Since we are using datahub and each account is accessible only via Calnet Authentication, this is not such a big deal, but you should be aware of it and manage it differently on your own computer - by storing them in environment variables on your computer.  \n",
    "\n",
    "Each operating system handled environment variables differently, and that is something you should learn on your own.  Below is a simple example of setting them temporarily.  Usually you would add them to a file that gets read when you start a command shell.  For example on my mac it is in .bash_profile."
   ]
  },
  {
   "cell_type": "code",
   "execution_count": 5,
   "metadata": {
    "collapsed": true
   },
   "outputs": [],
   "source": [
    "os.environ['MAPBOX_ACCESS_TOKEN'] = \"pk.eyJ1IjoiY3AyNTVkZW1vIiwiYSI6ImRPcTlnTUEifQ.3C0d0Nk_rcwV-8JF29PU-w\""
   ]
  },
  {
   "cell_type": "code",
   "execution_count": 6,
   "metadata": {
    "scrolled": true
   },
   "outputs": [
    {
     "data": {
      "text/plain": [
       "'pk.eyJ1IjoiY3AyNTVkZW1vIiwiYSI6ImRPcTlnTUEifQ.3C0d0Nk_rcwV-8JF29PU-w'"
      ]
     },
     "execution_count": 6,
     "metadata": {},
     "output_type": "execute_result"
    }
   ],
   "source": [
    "os.environ['MAPBOX_ACCESS_TOKEN']"
   ]
  },
  {
   "cell_type": "markdown",
   "metadata": {},
   "source": [
    "OK, now we can get to work on the geocoding... let's try geocoding Freehouse Restaurant, which is at 2700 Bancroft Way."
   ]
  },
  {
   "cell_type": "code",
   "execution_count": 7,
   "metadata": {
    "collapsed": true
   },
   "outputs": [],
   "source": [
    "geocoder = Geocoder(access_token = os.environ['MAPBOX_ACCESS_TOKEN'])"
   ]
  },
  {
   "cell_type": "code",
   "execution_count": 8,
   "metadata": {
    "collapsed": true
   },
   "outputs": [],
   "source": [
    "response = geocoder.forward('2700 Bancroft Way, Berkeley, CA 94704', limit=1)"
   ]
  },
  {
   "cell_type": "code",
   "execution_count": 9,
   "metadata": {
    "collapsed": true
   },
   "outputs": [],
   "source": [
    "results = response.text"
   ]
  },
  {
   "cell_type": "code",
   "execution_count": 12,
   "metadata": {
    "scrolled": false
   },
   "outputs": [
    {
     "name": "stdout",
     "output_type": "stream",
     "text": [
      "{'attribution': 'NOTICE: © 2018 Mapbox and its suppliers. All rights reserved. '\n",
      "                'Use of this data is subject to the Mapbox Terms of Service '\n",
      "                '(https://www.mapbox.com/about/maps/). This response and the '\n",
      "                'information it contains may not be retained. POI(s) provided '\n",
      "                'by Foursquare.',\n",
      " 'features': [{'address': '2700',\n",
      "               'center': [-122.25425, 37.868969],\n",
      "               'context': [{'id': 'neighborhood.285002',\n",
      "                            'text': 'Telegraph Avenue'},\n",
      "                           {'id': 'postcode.15012008988668840',\n",
      "                            'text': '94704'},\n",
      "                           {'id': 'place.4062647275990170',\n",
      "                            'text': 'Berkeley',\n",
      "                            'wikidata': 'Q484678'},\n",
      "                           {'id': 'region.3591',\n",
      "                            'short_code': 'US-CA',\n",
      "                            'text': 'California',\n",
      "                            'wikidata': 'Q99'},\n",
      "                           {'id': 'country.3145',\n",
      "                            'short_code': 'us',\n",
      "                            'text': 'United States',\n",
      "                            'wikidata': 'Q30'}],\n",
      "               'geometry': {'coordinates': [-122.25425, 37.868969],\n",
      "                            'type': 'Point'},\n",
      "               'id': 'address.275505480339826',\n",
      "               'place_name': '2700 Bancroft Way, Berkeley, California 94704, '\n",
      "                             'United States',\n",
      "               'place_type': ['address'],\n",
      "               'properties': {},\n",
      "               'relevance': 0.875,\n",
      "               'text': 'Bancroft Way',\n",
      "               'type': 'Feature'}],\n",
      " 'query': ['2700', 'bancroft', 'way', 'berkeley', 'ca', '94704'],\n",
      " 'type': 'FeatureCollection'}\n"
     ]
    }
   ],
   "source": [
    "data = json.loads(results)\n",
    "pp.pprint(data)"
   ]
  },
  {
   "cell_type": "markdown",
   "metadata": {},
   "source": [
    "Another random address to geocode:"
   ]
  },
  {
   "cell_type": "code",
   "execution_count": 13,
   "metadata": {},
   "outputs": [
    {
     "name": "stdout",
     "output_type": "stream",
     "text": [
      "120 East 13th Street, Manhattan, New York, New York 10003, United States\n",
      "[-73.988893, 40.733003]\n"
     ]
    }
   ],
   "source": [
    "response = geocoder.forward('120 East 13th Street, Manhattan, New York, New York 10003', limit = 1)\n",
    "results = response.text\n",
    "first = response.geojson()['features'][0]\n",
    "print(first['place_name'])\n",
    "print([coord for coord in first['geometry']['coordinates']])"
   ]
  },
  {
   "cell_type": "markdown",
   "metadata": {},
   "source": [
    "### Your turn\n",
    "\n",
    "Try geocoding 3 addresses you know. \n",
    "\n",
    "Can you think of a good way to write a loop to geocode those addresses and add them to a dataframe?  Give it a try!"
   ]
  },
  {
   "cell_type": "code",
   "execution_count": null,
   "metadata": {
    "collapsed": true
   },
   "outputs": [],
   "source": []
  },
  {
   "cell_type": "markdown",
   "metadata": {},
   "source": [
    "### Reverse Geocoding\n",
    "\n",
    "Reverse geocoding does what it sounds like. It takes coordinates and returns an address or other place type.  Options for place type include: country, region, postcode, district, place, locality, neighborhood, address,and poi.\n",
    "\n",
    "Let's start by using the coordinates of the address we just got from forward geocoding, and get the address back from reverse geocoding of those coordinates.  \n",
    "\n",
    "**Notice that the response argument is not JSON, it is GeoJson.  It is an expanded version of JSON that contains geometry.  It is the web standard for geospatial data.  Think: open data version of ESRI Shapefile, but optimized for the web.**  See http://geojson.org/ for more info.  We will deal more with GeoJson formatted files as we get into more web mapping tools soon."
   ]
  },
  {
   "cell_type": "code",
   "execution_count": 14,
   "metadata": {},
   "outputs": [
    {
     "data": {
      "text/plain": [
       "[{'address': '120',\n",
       "  'center': [-73.988893, 40.733003],\n",
       "  'context': [{'id': 'neighborhood.2103290', 'text': 'Greenwich Village'},\n",
       "   {'id': 'locality.12696928000137850',\n",
       "    'text': 'Manhattan',\n",
       "    'wikidata': 'Q11299'},\n",
       "   {'id': 'postcode.13482670360296810', 'text': '10003'},\n",
       "   {'id': 'place.15278078705964500', 'text': 'New York', 'wikidata': 'Q60'},\n",
       "   {'id': 'region.3866',\n",
       "    'short_code': 'US-NY',\n",
       "    'text': 'New York',\n",
       "    'wikidata': 'Q1384'},\n",
       "   {'id': 'country.3145',\n",
       "    'short_code': 'us',\n",
       "    'text': 'United States',\n",
       "    'wikidata': 'Q30'}],\n",
       "  'geometry': {'coordinates': [-73.988893, 40.733003], 'type': 'Point'},\n",
       "  'id': 'address.4216698541380788',\n",
       "  'place_name': '120 East 13th Street, Manhattan, New York, New York 10003, United States',\n",
       "  'place_type': ['address'],\n",
       "  'properties': {},\n",
       "  'relevance': 1,\n",
       "  'text': 'East 13th Street',\n",
       "  'type': 'Feature'},\n",
       " {'bbox': [-74.005282, 40.72586, -73.98734, 40.73907],\n",
       "  'center': [-74.0029, 40.7284],\n",
       "  'context': [{'id': 'locality.12696928000137850',\n",
       "    'text': 'Manhattan',\n",
       "    'wikidata': 'Q11299'},\n",
       "   {'id': 'postcode.13482670360296810', 'text': '10003'},\n",
       "   {'id': 'place.15278078705964500', 'text': 'New York', 'wikidata': 'Q60'},\n",
       "   {'id': 'region.3866',\n",
       "    'short_code': 'US-NY',\n",
       "    'text': 'New York',\n",
       "    'wikidata': 'Q1384'},\n",
       "   {'id': 'country.3145',\n",
       "    'short_code': 'us',\n",
       "    'text': 'United States',\n",
       "    'wikidata': 'Q30'}],\n",
       "  'geometry': {'coordinates': [-74.0029, 40.7284], 'type': 'Point'},\n",
       "  'id': 'neighborhood.2103290',\n",
       "  'place_name': 'Greenwich Village, Manhattan, New York, New York 10003, United States',\n",
       "  'place_type': ['neighborhood'],\n",
       "  'properties': {},\n",
       "  'relevance': 1,\n",
       "  'text': 'Greenwich Village',\n",
       "  'type': 'Feature'},\n",
       " {'bbox': [-74.047313153061, 40.679573, -73.907, 40.8820749648427],\n",
       "  'center': [-73.9597, 40.7903],\n",
       "  'context': [{'id': 'postcode.13482670360296810', 'text': '10003'},\n",
       "   {'id': 'place.15278078705964500', 'text': 'New York', 'wikidata': 'Q60'},\n",
       "   {'id': 'region.3866',\n",
       "    'short_code': 'US-NY',\n",
       "    'text': 'New York',\n",
       "    'wikidata': 'Q1384'},\n",
       "   {'id': 'country.3145',\n",
       "    'short_code': 'us',\n",
       "    'text': 'United States',\n",
       "    'wikidata': 'Q30'}],\n",
       "  'geometry': {'coordinates': [-73.9597, 40.7903], 'type': 'Point'},\n",
       "  'id': 'locality.12696928000137850',\n",
       "  'place_name': 'Manhattan, 10003, New York, New York, United States',\n",
       "  'place_type': ['locality'],\n",
       "  'properties': {'wikidata': 'Q11299'},\n",
       "  'relevance': 1,\n",
       "  'text': 'Manhattan',\n",
       "  'type': 'Feature'},\n",
       " {'bbox': [-73.9996058238451,\n",
       "   40.7229310019,\n",
       "   -73.9798620096375,\n",
       "   40.7396749960342],\n",
       "  'center': [-73.99, 40.73],\n",
       "  'context': [{'id': 'place.15278078705964500',\n",
       "    'text': 'New York',\n",
       "    'wikidata': 'Q60'},\n",
       "   {'id': 'region.3866',\n",
       "    'short_code': 'US-NY',\n",
       "    'text': 'New York',\n",
       "    'wikidata': 'Q1384'},\n",
       "   {'id': 'country.3145',\n",
       "    'short_code': 'us',\n",
       "    'text': 'United States',\n",
       "    'wikidata': 'Q30'}],\n",
       "  'geometry': {'coordinates': [-73.99, 40.73], 'type': 'Point'},\n",
       "  'id': 'postcode.13482670360296810',\n",
       "  'place_name': 'New York, New York 10003, United States',\n",
       "  'place_type': ['postcode'],\n",
       "  'properties': {},\n",
       "  'relevance': 1,\n",
       "  'text': '10003',\n",
       "  'type': 'Feature'},\n",
       " {'bbox': [-74.2590879797556, 40.477399, -73.7008392055224, 40.917576401307],\n",
       "  'center': [-73.9808, 40.7648],\n",
       "  'context': [{'id': 'region.3866',\n",
       "    'short_code': 'US-NY',\n",
       "    'text': 'New York',\n",
       "    'wikidata': 'Q1384'},\n",
       "   {'id': 'country.3145',\n",
       "    'short_code': 'us',\n",
       "    'text': 'United States',\n",
       "    'wikidata': 'Q30'}],\n",
       "  'geometry': {'coordinates': [-73.9808, 40.7648], 'type': 'Point'},\n",
       "  'id': 'place.15278078705964500',\n",
       "  'place_name': 'New York, New York, United States',\n",
       "  'place_type': ['place'],\n",
       "  'properties': {'wikidata': 'Q60'},\n",
       "  'relevance': 1,\n",
       "  'text': 'New York',\n",
       "  'type': 'Feature'},\n",
       " {'bbox': [-79.762418, 40.420528, -71.678024, 45.015865],\n",
       "  'center': [-76.301667, 42.685498],\n",
       "  'context': [{'id': 'country.3145',\n",
       "    'short_code': 'us',\n",
       "    'text': 'United States',\n",
       "    'wikidata': 'Q30'}],\n",
       "  'geometry': {'coordinates': [-76.301667, 42.685498], 'type': 'Point'},\n",
       "  'id': 'region.3866',\n",
       "  'place_name': 'New York, United States',\n",
       "  'place_type': ['region'],\n",
       "  'properties': {'short_code': 'US-NY', 'wikidata': 'Q1384'},\n",
       "  'relevance': 1,\n",
       "  'text': 'New York',\n",
       "  'type': 'Feature'},\n",
       " {'bbox': [-179.9, -14.6528, -64.464198, 71.540724],\n",
       "  'center': [-97.922211, 39.381266],\n",
       "  'geometry': {'coordinates': [-97.922211, 39.381266], 'type': 'Point'},\n",
       "  'id': 'country.3145',\n",
       "  'place_name': 'United States',\n",
       "  'place_type': ['country'],\n",
       "  'properties': {'short_code': 'us', 'wikidata': 'Q30'},\n",
       "  'relevance': 1,\n",
       "  'text': 'United States',\n",
       "  'type': 'Feature'}]"
      ]
     },
     "execution_count": 14,
     "metadata": {},
     "output_type": "execute_result"
    }
   ],
   "source": [
    "response = geocoder.reverse(lon=-73.988893, lat=40.733003)\n",
    "features = response.geojson()['features']\n",
    "features"
   ]
  },
  {
   "cell_type": "code",
   "execution_count": 15,
   "metadata": {},
   "outputs": [
    {
     "name": "stdout",
     "output_type": "stream",
     "text": [
      "120 East 13th Street, Manhattan, New York, New York 10003, United States\n",
      "Greenwich Village, Manhattan, New York, New York 10003, United States\n",
      "Manhattan, 10003, New York, New York, United States\n",
      "New York, New York 10003, United States\n",
      "New York, New York, United States\n",
      "New York, United States\n",
      "United States\n"
     ]
    }
   ],
   "source": [
    "for f in features:\n",
    "    print('{place_name}'.format(**f))"
   ]
  },
  {
   "cell_type": "markdown",
   "metadata": {},
   "source": [
    "Now let's look up Freehouse Restaurant's address from its Lat Long"
   ]
  },
  {
   "cell_type": "code",
   "execution_count": 16,
   "metadata": {},
   "outputs": [
    {
     "data": {
      "text/plain": [
       "'2700 Bancroft Way, Berkeley, California 94704, United States'"
      ]
     },
     "execution_count": 16,
     "metadata": {},
     "output_type": "execute_result"
    }
   ],
   "source": [
    "response = geocoder.reverse(lon=-122.25425, lat=37.868969, types=['address'])  \n",
    "features = response.geojson()['features']\n",
    "features[0]['place_name']"
   ]
  },
  {
   "cell_type": "markdown",
   "metadata": {},
   "source": [
    "### Your turn\n",
    "\n",
    "Try forward geocoding an address, and then reverse geocoding the coordinates to get the address back. Use your home address and see if it works.  Try a second address.\n",
    "\n",
    "But first - check in here: http://bitly.com/cp255"
   ]
  },
  {
   "cell_type": "code",
   "execution_count": null,
   "metadata": {
    "collapsed": true
   },
   "outputs": [],
   "source": []
  },
  {
   "cell_type": "code",
   "execution_count": null,
   "metadata": {
    "collapsed": true
   },
   "outputs": [],
   "source": []
  },
  {
   "cell_type": "markdown",
   "metadata": {},
   "source": [
    "### Getting Directions from Mapbox\n",
    "\n",
    "You can put in start and end locations and call the Mapbox directions API to get suggested directions as a sequence of coordinates you could plot on a map."
   ]
  },
  {
   "cell_type": "code",
   "execution_count": 31,
   "metadata": {
    "scrolled": false
   },
   "outputs": [
    {
     "name": "stdout",
     "output_type": "stream",
     "text": [
      "Help on class Directions in module mapbox.services.directions:\n",
      "\n",
      "class Directions(mapbox.services.base.Service)\n",
      " |  Access to the Directions v5 API.\n",
      " |  \n",
      " |  Method resolution order:\n",
      " |      Directions\n",
      " |      mapbox.services.base.Service\n",
      " |      builtins.object\n",
      " |  \n",
      " |  Methods defined here:\n",
      " |  \n",
      " |  directions(self, features, profile='mapbox/driving', alternatives=None, geometries=None, overview=None, steps=None, continue_straight=None, waypoint_snapping=None, annotations=None, language=None, **kwargs)\n",
      " |      Request directions for waypoints encoded as GeoJSON features.\n",
      " |      \n",
      " |      Parameters\n",
      " |      ----------\n",
      " |      features : iterable\n",
      " |          An collection of GeoJSON features\n",
      " |      profile : str\n",
      " |          Name of a Mapbox profile such as 'mapbox.driving'\n",
      " |      alternatives : bool\n",
      " |          Whether to try to return alternative routes, default: False\n",
      " |      geometries : string\n",
      " |          Type of geometry returned (geojson, polyline, polyline6)\n",
      " |      overview : string or False\n",
      " |          Type of returned overview geometry: 'full', 'simplified',\n",
      " |          or False\n",
      " |      steps : bool\n",
      " |          Whether to return steps and turn-by-turn instructions,\n",
      " |          default: False\n",
      " |      continue_straight : bool\n",
      " |          Direction of travel when departing intermediate waypoints\n",
      " |      radiuses : iterable of numbers or 'unlimited'\n",
      " |          Must be same length as features\n",
      " |      waypoint_snapping : list\n",
      " |          Controls snapping of waypoints\n",
      " |      \n",
      " |          The list is zipped with the features collection and must\n",
      " |          have the same length. Elements of the list must be one of:\n",
      " |      \n",
      " |          - A number (interpretted as a snapping radius)\n",
      " |          - The string 'unlimited' (unlimited snapping radius)\n",
      " |          - A 3-element tuple consisting of (radius, angle, range)\n",
      " |          - None (no snapping parameters specified for that waypoint)\n",
      " |      annotations : str\n",
      " |          Whether or not to return additional metadata along the route\n",
      " |      \n",
      " |          Possible values are: 'duration', 'distance', 'speed', and\n",
      " |          'congestion'. Several annotations can be used by joining\n",
      " |          them with ','.\n",
      " |      language : str\n",
      " |          Language of returned turn-by-turn text instructions,\n",
      " |          default: 'en'\n",
      " |      \n",
      " |      Returns\n",
      " |      -------\n",
      " |      requests.Response\n",
      " |          The response object has a geojson() method for access to\n",
      " |          the route(s) as a GeoJSON-like FeatureCollection\n",
      " |          dictionary.\n",
      " |  \n",
      " |  ----------------------------------------------------------------------\n",
      " |  Data descriptors defined here:\n",
      " |  \n",
      " |  baseuri\n",
      " |      The service's base URI\n",
      " |      \n",
      " |      Returns\n",
      " |      -------\n",
      " |      str\n",
      " |  \n",
      " |  ----------------------------------------------------------------------\n",
      " |  Data and other attributes defined here:\n",
      " |  \n",
      " |  api_name = 'directions'\n",
      " |  \n",
      " |  api_version = 'v5'\n",
      " |  \n",
      " |  valid_annotations = ['duration', 'distance', 'speed']\n",
      " |  \n",
      " |  valid_geom_encoding = ['geojson', 'polyline', 'polyline6']\n",
      " |  \n",
      " |  valid_geom_overview = ['full', 'simplified', False]\n",
      " |  \n",
      " |  valid_profiles = ['mapbox/driving', 'mapbox/driving-traffic', 'mapbox/...\n",
      " |  \n",
      " |  ----------------------------------------------------------------------\n",
      " |  Methods inherited from mapbox.services.base.Service:\n",
      " |  \n",
      " |  __init__(self, access_token=None, host=None, cache=None)\n",
      " |      Constructs a Service object\n",
      " |      \n",
      " |      This method should be overridden by subclasses.\n",
      " |      \n",
      " |      Parameters\n",
      " |      ----------\n",
      " |      access_token : str\n",
      " |          Mapbox access token string.\n",
      " |      host : str, optional\n",
      " |          Mapbox API host (advanced usage only).\n",
      " |      cache : CacheControl cache instance (Dict or FileCache), optional\n",
      " |          Optional caching, not generally needed.\n",
      " |      \n",
      " |      Returns\n",
      " |      -------\n",
      " |      Service\n",
      " |  \n",
      " |  handle_http_error(self, response, custom_messages=None, raise_for_status=False)\n",
      " |      Converts service errors to Python exceptions\n",
      " |      \n",
      " |      Parameters\n",
      " |      ----------\n",
      " |      response : requests.Response\n",
      " |          A service response.\n",
      " |      custom_messages : dict, optional\n",
      " |          A mapping of custom exception messages to HTTP status codes.\n",
      " |      raise_for_status : bool, optional\n",
      " |          If True, the requests library provides Python exceptions.\n",
      " |      \n",
      " |      Returns\n",
      " |      -------\n",
      " |      None\n",
      " |  \n",
      " |  ----------------------------------------------------------------------\n",
      " |  Data descriptors inherited from mapbox.services.base.Service:\n",
      " |  \n",
      " |  __dict__\n",
      " |      dictionary for instance variables (if defined)\n",
      " |  \n",
      " |  __weakref__\n",
      " |      list of weak references to the object (if defined)\n",
      " |  \n",
      " |  username\n",
      " |      The username in the service's access token\n",
      " |      \n",
      " |      Returns\n",
      " |      -------\n",
      " |      str\n",
      " |  \n",
      " |  ----------------------------------------------------------------------\n",
      " |  Data and other attributes inherited from mapbox.services.base.Service:\n",
      " |  \n",
      " |  default_host = 'api.mapbox.com'\n",
      "\n"
     ]
    }
   ],
   "source": [
    "import mapbox\n",
    "help(mapbox.Directions)"
   ]
  },
  {
   "cell_type": "code",
   "execution_count": 18,
   "metadata": {},
   "outputs": [],
   "source": [
    "from mapbox import Directions"
   ]
  },
  {
   "cell_type": "code",
   "execution_count": 19,
   "metadata": {
    "collapsed": true
   },
   "outputs": [],
   "source": [
    "service = Directions()"
   ]
  },
  {
   "cell_type": "code",
   "execution_count": 20,
   "metadata": {
    "collapsed": true
   },
   "outputs": [],
   "source": [
    "origin = {\n",
    "        'type': 'Feature',\n",
    "        'properties': {'name': 'Portland, OR'},\n",
    "        'geometry': {\n",
    "        'type': 'Point',\n",
    "        'coordinates': [-122.7282, 45.5801]}}\n",
    "destination = {\n",
    "    'type': 'Feature',\n",
    "    'properties': {'name': 'Bend, OR'},\n",
    "    'geometry': {\n",
    "    'type': 'Point',\n",
    "    'coordinates': [-121.3153, 44.0582]}}"
   ]
  },
  {
   "cell_type": "code",
   "execution_count": 24,
   "metadata": {},
   "outputs": [],
   "source": [
    "response = service.directions([origin, destination],'mapbox/driving')"
   ]
  },
  {
   "cell_type": "code",
   "execution_count": 25,
   "metadata": {
    "collapsed": true
   },
   "outputs": [],
   "source": [
    "driving_routes = response.geojson()"
   ]
  },
  {
   "cell_type": "code",
   "execution_count": 26,
   "metadata": {
    "scrolled": true
   },
   "outputs": [
    {
     "data": {
      "text/plain": [
       "{'features': [{'geometry': {'coordinates': [(45.57994, -122.72832),\n",
       "     (45.56995, -122.69555),\n",
       "     (45.52473, -122.66403),\n",
       "     (45.53161, -122.56801),\n",
       "     (45.54728, -122.55336),\n",
       "     (45.53943, -122.41837),\n",
       "     (45.45508, -122.37623),\n",
       "     (45.3759, -122.2218),\n",
       "     (45.36648, -122.15453),\n",
       "     (45.37977, -122.04793),\n",
       "     (45.30527, -121.87119),\n",
       "     (45.3123, -121.79323),\n",
       "     (45.30066, -121.73499),\n",
       "     (45.15902, -121.66228),\n",
       "     (45.10711, -121.55876),\n",
       "     (45.05603, -121.51364),\n",
       "     (45.02217, -121.51322),\n",
       "     (44.86717, -121.42421),\n",
       "     (44.78583, -121.32094),\n",
       "     (44.76025, -121.22736),\n",
       "     (44.71869, -121.22773),\n",
       "     (44.72038, -121.17616),\n",
       "     (44.65345, -121.12858),\n",
       "     (44.45997, -121.19954),\n",
       "     (44.27523, -121.16913),\n",
       "     (44.05817, -121.31533)],\n",
       "    'type': 'LineString'},\n",
       "   'properties': {'distance': 269397.3, 'duration': 11651.9},\n",
       "   'type': 'Feature'}],\n",
       " 'type': 'FeatureCollection'}"
      ]
     },
     "execution_count": 26,
     "metadata": {},
     "output_type": "execute_result"
    }
   ],
   "source": [
    "driving_routes"
   ]
  },
  {
   "cell_type": "markdown",
   "metadata": {},
   "source": [
    "**Soon we will begin working with GeoJson files and mapping them... but not today."
   ]
  },
  {
   "cell_type": "markdown",
   "metadata": {},
   "source": [
    "## Reverse geocoding to FIPS\n",
    "\n",
    "We'll use the FCC's Census Block Conversions API to turn lat/long into a block FIPS code. FIPS codes contain from left to right: the location's 2-digit state code, 3-digit county code, 6-digit census tract code, and 4-digit census block code (the first digit of which is the census block group code). Now you can join your data to tract (etc) level census data without doing a spatial join.\n",
    "\n",
    "- Documentation: https://geo.fcc.gov/api/census/"
   ]
  },
  {
   "cell_type": "code",
   "execution_count": 28,
   "metadata": {
    "scrolled": true
   },
   "outputs": [
    {
     "data": {
      "text/plain": [
       "{'Block': {'FIPS': '450070003002024',\n",
       "  'bbox': [-82.636071, 34.535797, -82.630107, 34.540163]},\n",
       " 'County': {'FIPS': '45007', 'name': 'Anderson'},\n",
       " 'State': {'FIPS': '45', 'code': 'SC', 'name': 'South Carolina'},\n",
       " 'executionTime': '0',\n",
       " 'messages': [\"FCC0001: The coordinate lies on the boundary of mulitple blocks, the block contains the clicked location is selected. For a complete list use showall=true to display 'intersection' element in the Block\"],\n",
       " 'status': 'OK'}"
      ]
     },
     "execution_count": 28,
     "metadata": {},
     "output_type": "execute_result"
    }
   ],
   "source": [
    "url = 'https://geo.fcc.gov/api/census/block/find?latitude=34.537094&longitude=-82.630303&format=json'\n",
    "response = requests.get(url)\n",
    "data = response.json()\n",
    "data"
   ]
  },
  {
   "cell_type": "code",
   "execution_count": 29,
   "metadata": {},
   "outputs": [
    {
     "data": {
      "text/plain": [
       "'450070003002024'"
      ]
     },
     "execution_count": 29,
     "metadata": {},
     "output_type": "execute_result"
    }
   ],
   "source": [
    "data['Block']['FIPS']"
   ]
  },
  {
   "cell_type": "code",
   "execution_count": 30,
   "metadata": {},
   "outputs": [
    {
     "data": {
      "text/plain": [
       "'Anderson'"
      ]
     },
     "execution_count": 30,
     "metadata": {},
     "output_type": "execute_result"
    }
   ],
   "source": [
    "data['County']['name']"
   ]
  },
  {
   "cell_type": "markdown",
   "metadata": {},
   "source": [
    "### Your turn: \n",
    "\n",
    "1. Look up the latitude and longitude of your home address using forward geocoding\n",
    "2. Use the latitude and longitude from that to get the census block of your home address\n",
    "3. Challenge problem: create a dataframe with 3 street addresses and a description column with labels for these locations, and write code that will iterate through them, get the latitude and longitude for each, and the FIPS block code, County name, and write these addresses, lat and long, and FIPS Block code and County names to a dataframe."
   ]
  },
  {
   "cell_type": "code",
   "execution_count": null,
   "metadata": {
    "collapsed": true
   },
   "outputs": [],
   "source": []
  },
  {
   "cell_type": "markdown",
   "metadata": {},
   "source": [
    "### Reminder about reading for next session\n",
    "\n",
    "Some of you have considerable experience with GIS already, and are very comfortable with geographic coordinate system and map projection, and managing these in spatial data.  If so, you might not need to spend much time with the readings for next session, but if not, PLEASE read these and get comfortable with them before class or you will get lost quickly.\n",
    "\n",
    "https://en.wikipedia.org/wiki/Geographic_coordinate_system\n",
    "\n",
    "https://en.wikipedia.org/wiki/Map_projection\n",
    "\n",
    "We will also be using the GeoPandas Python library, so browse this.  We will cover it in detail over the next two sessions. http://geopandas.org/"
   ]
  },
  {
   "cell_type": "code",
   "execution_count": null,
   "metadata": {
    "collapsed": true
   },
   "outputs": [],
   "source": []
  }
 ],
 "metadata": {
  "kernelspec": {
   "display_name": "Python 3",
   "language": "python",
   "name": "python3"
  },
  "language_info": {
   "codemirror_mode": {
    "name": "ipython",
    "version": 3
   },
   "file_extension": ".py",
   "mimetype": "text/x-python",
   "name": "python",
   "nbconvert_exporter": "python",
   "pygments_lexer": "ipython3",
   "version": "3.6.2"
  }
 },
 "nbformat": 4,
 "nbformat_minor": 2
}
