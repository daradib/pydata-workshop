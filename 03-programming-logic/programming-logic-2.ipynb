{
 "cells": [
  {
   "cell_type": "markdown",
   "metadata": {
    "slideshow": {
     "slide_type": "slide"
    }
   },
   "source": [
    "***\n",
    "# Programming Logic in Python - Part 2\n",
    "***"
   ]
  },
  {
   "cell_type": "markdown",
   "metadata": {
    "slideshow": {
     "slide_type": "subslide"
    }
   },
   "source": [
    "Last session we covered core building blocks in logical programming: booleans, conditionals, and iteration. This time we extend into the realm of **object-oriented** programming: **functions** and **classes**."
   ]
  },
  {
   "cell_type": "markdown",
   "metadata": {
    "slideshow": {
     "slide_type": "slide"
    }
   },
   "source": [
    "## Functions\n",
    "\n",
    "You can group programming steps into functions to be able to reuse them easily and flexibly, on different **inputs**.\n",
    "\n",
    "A function definition begins with the word `def`. It then has a name for the function, which you choose (just avoid reserved words). A convention in Python is to use lower case words, separated by undescores, for function names. It then has parentheses `(...)` containing one or more elements, which are known as **arguments** to a function. These are the names of objects that you intend to pass to the function to evaluate."
   ]
  },
  {
   "cell_type": "markdown",
   "metadata": {
    "slideshow": {
     "slide_type": "subslide"
    }
   },
   "source": [
    "Similar to `if` statements, the definition ends with a colon `:` and follows with an indented block of code defining the function, which itself may contain indentation for or other program logic.\n",
    "\n",
    "The function definition includes an option for passing arguments (generally data) into the function, to be used internally by the function. This allows encapsulating code within functions that have their own internal **namespace**. That is, variable names internally are isolated from the code external to the function.\n",
    "\n",
    "    def function_name(arguments...):\n",
    "        STATEMENTS"
   ]
  },
  {
   "cell_type": "markdown",
   "metadata": {
    "slideshow": {
     "slide_type": "subslide"
    }
   },
   "source": [
    "Recall the example of a chained conditional:"
   ]
  },
  {
   "cell_type": "code",
   "execution_count": 1,
   "metadata": {},
   "outputs": [
    {
     "name": "stdout",
     "output_type": "stream",
     "text": [
      "x is greater than 10\n"
     ]
    }
   ],
   "source": [
    "x = 11\n",
    "if x < 10:\n",
    "    print(\"x is less than 10\")\n",
    "elif x == 10:\n",
    "    print(\"x equals 10\")\n",
    "else:\n",
    "    print(\"x is greater than 10\")"
   ]
  },
  {
   "cell_type": "markdown",
   "metadata": {
    "slideshow": {
     "slide_type": "fragment"
    }
   },
   "source": [
    "Below we nest this series of `if`/`elif`/`else` statements into a function we can call repeatedly with different values:"
   ]
  },
  {
   "cell_type": "code",
   "execution_count": 2,
   "metadata": {},
   "outputs": [],
   "source": [
    "# Reduce, Reuse, Recycle\n",
    "def compare_to_10(value):\n",
    "    if value < 10:\n",
    "        print(value, \"is less than 10\")\n",
    "    elif value == 10:\n",
    "        print(value, \"equals 10\")\n",
    "    else:\n",
    "        print(value, \"is greater than 10\")"
   ]
  },
  {
   "cell_type": "markdown",
   "metadata": {
    "slideshow": {
     "slide_type": "subslide"
    }
   },
   "source": [
    "A function definition does not produce any output. It just defines and instantiates the function so it is now available. The function doesn't exist until you initialize it by running the code that defines it.\n",
    "\n",
    "To **call** a function, just refer to its name as if it were a built-in function and use parentheses to pass the function nothing, a value, or multiple values as **argument(s)**."
   ]
  },
  {
   "cell_type": "code",
   "execution_count": 3,
   "metadata": {},
   "outputs": [
    {
     "name": "stdout",
     "output_type": "stream",
     "text": [
      "9 is less than 10\n"
     ]
    }
   ],
   "source": [
    "compare_to_10(9)"
   ]
  },
  {
   "cell_type": "code",
   "execution_count": 4,
   "metadata": {},
   "outputs": [
    {
     "name": "stdout",
     "output_type": "stream",
     "text": [
      "16 is greater than 10\n"
     ]
    }
   ],
   "source": [
    "# Python evaluates the argument and passes the resulting object into the function\n",
    "compare_to_10((2 * 2) ** 2)"
   ]
  },
  {
   "cell_type": "markdown",
   "metadata": {
    "slideshow": {
     "slide_type": "subslide"
    }
   },
   "source": [
    "We can call the function from a `for` loop. Functions are valuable for automating a process."
   ]
  },
  {
   "cell_type": "code",
   "execution_count": 5,
   "metadata": {},
   "outputs": [
    {
     "name": "stdout",
     "output_type": "stream",
     "text": [
      "0 is less than 10\n",
      "1 is less than 10\n",
      "2 is less than 10\n",
      "3 is less than 10\n",
      "4 is less than 10\n",
      "5 is less than 10\n",
      "6 is less than 10\n",
      "7 is less than 10\n",
      "8 is less than 10\n",
      "9 is less than 10\n",
      "10 equals 10\n",
      "11 is greater than 10\n",
      "12 is greater than 10\n",
      "13 is greater than 10\n",
      "14 is greater than 10\n"
     ]
    }
   ],
   "source": [
    "for i in range(15):\n",
    "    compare_to_10(i)"
   ]
  },
  {
   "cell_type": "markdown",
   "metadata": {
    "slideshow": {
     "slide_type": "subslide"
    }
   },
   "source": [
    "#### Return values\n",
    "\n",
    "Functions can return results for use elsewhere in your code, whether embedded in a loop or in a condition or just interactively.\n",
    "\n",
    "We use **`return`** to send back to whatever called the function a specific result, rather than just printing a value to the output."
   ]
  },
  {
   "cell_type": "code",
   "execution_count": 6,
   "metadata": {},
   "outputs": [],
   "source": [
    "def greater_than(x, y):\n",
    "    # This is equivalent to returning True or False\n",
    "    # based on the condition x > y\n",
    "    return x > y"
   ]
  },
  {
   "cell_type": "code",
   "execution_count": 7,
   "metadata": {},
   "outputs": [
    {
     "data": {
      "text/plain": [
       "False"
      ]
     },
     "execution_count": 7,
     "metadata": {},
     "output_type": "execute_result"
    }
   ],
   "source": [
    "greater_than(\"A\", \"B\")"
   ]
  },
  {
   "cell_type": "markdown",
   "metadata": {
    "slideshow": {
     "slide_type": "subslide"
    }
   },
   "source": [
    "One of the most practical uses of using return is that you can assign the returned result to a variable."
   ]
  },
  {
   "cell_type": "code",
   "execution_count": 8,
   "metadata": {},
   "outputs": [
    {
     "data": {
      "text/plain": [
       "False"
      ]
     },
     "execution_count": 8,
     "metadata": {},
     "output_type": "execute_result"
    }
   ],
   "source": [
    "z = greater_than(3, 5)\n",
    "z"
   ]
  },
  {
   "cell_type": "markdown",
   "metadata": {
    "slideshow": {
     "slide_type": "subslide"
    }
   },
   "source": [
    "### A more complex example\n",
    "\n",
    "Fibonacci numbers have the property that the sum of two adjacent numbers in the sequence equals the next value in the sequence.\n",
    "\n",
    "$$\n",
    "F_0=0, F_1=1 \\\\\n",
    "F_n=F_{n-1} + F_{n-2}\n",
    "$$"
   ]
  },
  {
   "cell_type": "markdown",
   "metadata": {
    "slideshow": {
     "slide_type": "subslide"
    }
   },
   "source": [
    "To create a fibonnaci series we should:\n",
    "\n",
    "1. Initialize two variables with the first two values, 0 and 1\n",
    "2. create a loop to iterate over a series of values up to `n`\n",
    "2. at each iteration, assign the second value to the first variable and assign the sum of the two to the second variable"
   ]
  },
  {
   "cell_type": "code",
   "execution_count": 9,
   "metadata": {},
   "outputs": [
    {
     "name": "stdout",
     "output_type": "stream",
     "text": [
      "0 1 1 2 3 5 8 13 21 34 55 89 144 233 377 610 987 "
     ]
    }
   ],
   "source": [
    "def fibonacci(n):\n",
    "    a, b = 0, 1\n",
    "    while a < n:\n",
    "        print(a, end=\" \")\n",
    "        a, b = b, a + b\n",
    "\n",
    "\n",
    "fibonacci(1000)"
   ]
  },
  {
   "cell_type": "markdown",
   "metadata": {
    "slideshow": {
     "slide_type": "subslide"
    }
   },
   "source": [
    "We can add documentation to functions by adding a statement in triple quotation marks `\"\"\"` following the `def` statement -- it is a **docstring**, which Python can use to generate documentation for a function."
   ]
  },
  {
   "cell_type": "code",
   "execution_count": 10,
   "metadata": {},
   "outputs": [
    {
     "name": "stdout",
     "output_type": "stream",
     "text": [
      "0 1 1 2 3 5 8 13 21 34 55 89 144 233 377 610 987 "
     ]
    }
   ],
   "source": [
    "def fibonacci(n):\n",
    "    \"\"\"Print a Fibonacci series up to n, where each element\n",
    "    is the sum of the preceding two elements in the sequence.\n",
    "    \"\"\"\n",
    "    a, b = 0, 1\n",
    "    while a < n:\n",
    "        print(a, end=\" \")\n",
    "        a, b = b, a + b\n",
    "\n",
    "\n",
    "fibonacci(1000)"
   ]
  },
  {
   "cell_type": "markdown",
   "metadata": {
    "slideshow": {
     "slide_type": "subslide"
    }
   },
   "source": [
    "Let's modify the function to create a list, return it, and assign it to a new variable."
   ]
  },
  {
   "cell_type": "code",
   "execution_count": 11,
   "metadata": {},
   "outputs": [
    {
     "data": {
      "text/plain": [
       "[0, 1, 1, 2, 3, 5, 8, 13, 21, 34, 55, 89, 144, 233, 377, 610, 987]"
      ]
     },
     "execution_count": 11,
     "metadata": {},
     "output_type": "execute_result"
    }
   ],
   "source": [
    "def fibonacci(n):\n",
    "    \"\"\"Print a Fibonacci series up to n, where each element\n",
    "    is the sum of the preceding two elements in the sequence.\n",
    "    \"\"\"\n",
    "    result = []\n",
    "    a, b = 0, 1\n",
    "    while a < n:\n",
    "        result.append(a)\n",
    "        a, b = b, a + b\n",
    "    return result\n",
    "\n",
    "\n",
    "fibonacci(1000)"
   ]
  },
  {
   "cell_type": "code",
   "execution_count": 12,
   "metadata": {
    "slideshow": {
     "slide_type": "subslide"
    }
   },
   "outputs": [
    {
     "name": "stdout",
     "output_type": "stream",
     "text": [
      "Print a Fibonacci series up to n, where each element\n",
      "    is the sum of the preceding two elements in the sequence.\n",
      "    \n"
     ]
    }
   ],
   "source": [
    "print(fibonacci.__doc__)"
   ]
  },
  {
   "cell_type": "code",
   "execution_count": 13,
   "metadata": {
    "tags": []
   },
   "outputs": [
    {
     "name": "stdout",
     "output_type": "stream",
     "text": [
      "Help on function fibonacci in module __main__:\n",
      "\n",
      "fibonacci(n)\n",
      "    Print a Fibonacci series up to n, where each element\n",
      "    is the sum of the preceding two elements in the sequence.\n",
      "\n"
     ]
    }
   ],
   "source": [
    "help(fibonacci)"
   ]
  },
  {
   "cell_type": "code",
   "execution_count": 14,
   "metadata": {},
   "outputs": [],
   "source": [
    "?fibonacci"
   ]
  },
  {
   "cell_type": "markdown",
   "metadata": {
    "slideshow": {
     "slide_type": "subslide"
    }
   },
   "source": [
    "### Practice\n",
    "\n",
    "Write a function `countdown` that accepts an integer as an argument, and prints that integer and counts down to zero from there. Test it by passing it a value of 9."
   ]
  },
  {
   "cell_type": "markdown",
   "metadata": {
    "slideshow": {
     "slide_type": "slide"
    }
   },
   "source": [
    "## `lambda` functions\n"
   ]
  },
  {
   "cell_type": "markdown",
   "metadata": {},
   "source": [
    "One way to write small functions in a compact way that avoids the `def` statement is to use the **`lambda`** statement. `lambda` takes a number of parameters and an expression combining these parameters, and creates an **anonymous function** that returns the value of the expression.\n",
    "\n",
    "Lambda functions come very handy when operating with lists or other iterables. These function are defined by the keyword lambda followed by the variables, a colon and the respective expression."
   ]
  },
  {
   "cell_type": "code",
   "execution_count": 15,
   "metadata": {
    "slideshow": {
     "slide_type": "subslide"
    }
   },
   "outputs": [
    {
     "data": {
      "text/plain": [
       "49"
      ]
     },
     "execution_count": 15,
     "metadata": {},
     "output_type": "execute_result"
    }
   ],
   "source": [
    "multiplier = lambda x: x * x\n",
    "multiplier(7)"
   ]
  },
  {
   "cell_type": "markdown",
   "metadata": {
    "slideshow": {
     "slide_type": "fragment"
    }
   },
   "source": [
    "The lamda function above is equivalent to the following code:"
   ]
  },
  {
   "cell_type": "code",
   "execution_count": 16,
   "metadata": {},
   "outputs": [
    {
     "data": {
      "text/plain": [
       "49"
      ]
     },
     "execution_count": 16,
     "metadata": {},
     "output_type": "execute_result"
    }
   ],
   "source": [
    "def multiplier(x):\n",
    "    result = x * x\n",
    "    return result\n",
    "\n",
    "\n",
    "multiplier(7)"
   ]
  },
  {
   "cell_type": "code",
   "execution_count": 17,
   "metadata": {
    "slideshow": {
     "slide_type": "subslide"
    }
   },
   "outputs": [
    {
     "data": {
      "text/plain": [
       "7"
      ]
     },
     "execution_count": 17,
     "metadata": {},
     "output_type": "execute_result"
    }
   ],
   "source": [
    "# An example lambda function with two arguments\n",
    "adder = lambda x, y: x + y\n",
    "adder(3, 4)"
   ]
  },
  {
   "cell_type": "markdown",
   "metadata": {
    "slideshow": {
     "slide_type": "fragment"
    }
   },
   "source": [
    "This is just an alternative way to `def` statement  and defining a function in the usual way."
   ]
  },
  {
   "cell_type": "code",
   "execution_count": 18,
   "metadata": {},
   "outputs": [
    {
     "data": {
      "text/plain": [
       "7"
      ]
     },
     "execution_count": 18,
     "metadata": {},
     "output_type": "execute_result"
    }
   ],
   "source": [
    "def adder(x, y):\n",
    "    result = x + y\n",
    "    return result\n",
    "\n",
    "\n",
    "adder(3, 4)"
   ]
  },
  {
   "cell_type": "markdown",
   "metadata": {
    "slideshow": {
     "slide_type": "subslide"
    }
   },
   "source": [
    "Here is an example of embedding a boolean test in a lambda."
   ]
  },
  {
   "cell_type": "code",
   "execution_count": 19,
   "metadata": {},
   "outputs": [
    {
     "data": {
      "text/plain": [
       "False"
      ]
     },
     "execution_count": 19,
     "metadata": {},
     "output_type": "execute_result"
    }
   ],
   "source": [
    "check_even = lambda x: x % 2 == 0\n",
    "\n",
    "check_even(9)"
   ]
  },
  {
   "cell_type": "markdown",
   "metadata": {
    "slideshow": {
     "slide_type": "slide"
    }
   },
   "source": [
    "## `map` function\n",
    "\n",
    "`map(func, iterable)` applies a function on each element of an iterable. This is powerful and concise, but can look a little intimidating at first."
   ]
  },
  {
   "cell_type": "code",
   "execution_count": 20,
   "metadata": {},
   "outputs": [
    {
     "name": "stdout",
     "output_type": "stream",
     "text": [
      "[0, 1, 2, 3, 4, 5, 6, 7, 8, 9]\n",
      "<map object at 0x7fd7c42a05e0>\n",
      "['0', '1', '2', '3', '4', '5', '6', '7', '8', '9']\n"
     ]
    }
   ],
   "source": [
    "ls = list(range(10))\n",
    "eg = map(str, ls)\n",
    "print(ls)\n",
    "print(eg)\n",
    "print(list(eg))"
   ]
  },
  {
   "cell_type": "markdown",
   "metadata": {},
   "source": [
    "Notice that `eg` is a `map` object, very much like `range(x)` produces a `range` object."
   ]
  },
  {
   "cell_type": "markdown",
   "metadata": {
    "slideshow": {
     "slide_type": "subslide"
    }
   },
   "source": [
    "`map`-`lambda` and list comprehensions are similar. Which do you prefer?"
   ]
  },
  {
   "cell_type": "code",
   "execution_count": 21,
   "metadata": {},
   "outputs": [
    {
     "data": {
      "text/plain": [
       "[0, 1, 4, 9, 16, 25, 36, 49, 64, 81]"
      ]
     },
     "execution_count": 21,
     "metadata": {},
     "output_type": "execute_result"
    }
   ],
   "source": [
    "list(map(lambda x: x * x, ls))"
   ]
  },
  {
   "cell_type": "code",
   "execution_count": 22,
   "metadata": {},
   "outputs": [
    {
     "data": {
      "text/plain": [
       "[0, 1, 4, 9, 16, 25, 36, 49, 64, 81]"
      ]
     },
     "execution_count": 22,
     "metadata": {},
     "output_type": "execute_result"
    }
   ],
   "source": [
    "[x * x for x in range(10)]"
   ]
  },
  {
   "cell_type": "markdown",
   "metadata": {
    "slideshow": {
     "slide_type": "subslide"
    }
   },
   "source": [
    "## Recap on functions\n",
    "\n",
    "We covered how to define functions and call them, how to integrate conditionals and loops with them to automate processes, and how to use list comprehension and map/apply to use short-cut functions embedded inline."
   ]
  },
  {
   "cell_type": "markdown",
   "metadata": {
    "slideshow": {
     "slide_type": "slide"
    }
   },
   "source": [
    "## Object-Oriented Programming"
   ]
  },
  {
   "cell_type": "markdown",
   "metadata": {},
   "source": [
    "So far you have learned the logic of programming using what is referred to as **procedural programming**.\n",
    "\n",
    "While a procedural programming style can suffice for writing short, simple programs, an **object-oriented programming** approach becomes increasingly valuable as your program grows in size and complexity. The more **data** and **functions** your code contains, the more important it is to arrange them into logical subgroups, or **classes**, making sure that data and functions which are related are grouped together.\n",
    "\n",
    "Modular code is easier to understand and modify. Code **reuse** is also valuable because it reduces development time."
   ]
  },
  {
   "cell_type": "markdown",
   "metadata": {
    "slideshow": {
     "slide_type": "subslide"
    }
   },
   "source": [
    "## Create a class"
   ]
  },
  {
   "cell_type": "markdown",
   "metadata": {},
   "source": [
    "Let's create a simple class for our capitalist means of production."
   ]
  },
  {
   "cell_type": "code",
   "execution_count": 23,
   "metadata": {},
   "outputs": [],
   "source": [
    "class Employee:\n",
    "    # This too shall pass\n",
    "    pass"
   ]
  },
  {
   "cell_type": "markdown",
   "metadata": {},
   "source": [
    "`pass` is an empty placeholder for indented code blocks.\n",
    "\n",
    "Above, a class object named `Employee` is declared. A **class** describes how to create objects that have a set of data **attributes** and **methods**. Each of these created objects is referred to as an **instance** of the class."
   ]
  },
  {
   "cell_type": "markdown",
   "metadata": {
    "slideshow": {
     "slide_type": "subslide"
    }
   },
   "source": [
    "## Instantiate a class\n",
    "\n",
    "Each unique employee that we create using our `Employee` class will be an instance of that class. \n",
    "\n",
    "So for instance, employee 1 is an **instance**. To create an instance all you need to do is: "
   ]
  },
  {
   "cell_type": "code",
   "execution_count": 24,
   "metadata": {},
   "outputs": [],
   "source": [
    "# create two unique instances\n",
    "emp_1 = Employee()\n",
    "emp_2 = Employee()"
   ]
  },
  {
   "cell_type": "markdown",
   "metadata": {
    "slideshow": {
     "slide_type": "subslide"
    }
   },
   "source": [
    "If we print the two instances, you will see both of them are `Employee` objects with different locations in the computer's memory."
   ]
  },
  {
   "cell_type": "code",
   "execution_count": 25,
   "metadata": {
    "tags": []
   },
   "outputs": [
    {
     "name": "stdout",
     "output_type": "stream",
     "text": [
      "<__main__.Employee object at 0x7fd7c4286eb0>\n",
      "<__main__.Employee object at 0x7fd7c4286130>\n"
     ]
    }
   ],
   "source": [
    "print(emp_1)\n",
    "print(emp_2)"
   ]
  },
  {
   "cell_type": "markdown",
   "metadata": {},
   "source": [
    "Knowing the difference between a class and an instance of that class is important. It's like the difference between a blueprint for a building and an actual building constructed from that blueprint.\n"
   ]
  },
  {
   "cell_type": "markdown",
   "metadata": {
    "slideshow": {
     "slide_type": "subslide"
    }
   },
   "source": [
    "## Adding attributes to a class\n",
    "\n",
    "Instance variables, known as **attributes**, contain data that is unique to each instance. We can create attributes for each employee."
   ]
  },
  {
   "cell_type": "code",
   "execution_count": 26,
   "metadata": {},
   "outputs": [
    {
     "name": "stdout",
     "output_type": "stream",
     "text": [
      "jane.doe@example.com\n"
     ]
    }
   ],
   "source": [
    "emp_1.first = \"John\"\n",
    "emp_1.last = \"Smith\"\n",
    "emp_1.email = emp_1.first.lower() + \".\" + emp_1.last.lower() + \"@example.com\"\n",
    "emp_1.pay = 85000\n",
    "\n",
    "emp_2.first = \"Jane\"\n",
    "emp_2.last = \"Doe\"\n",
    "emp_2.email = emp_2.first.lower() + \".\" + emp_2.last.lower() + \"@example.com\"\n",
    "emp_2.pay = 20000\n",
    "\n",
    "print(emp_2.email)"
   ]
  },
  {
   "cell_type": "markdown",
   "metadata": {
    "slideshow": {
     "slide_type": "subslide"
    }
   },
   "source": [
    "So what should we do if we want to create many employee instances? To do this manually it would require writing a lot of code, and is prone to mistakes.\n",
    "\n",
    "To make this instantiation easier we use the `__init__` method. So the `Employee` class will look like this:\n",
    "\n",
    "    class Employee:\n",
    "        def __init__()\n",
    "\n",
    "You can think of this init method as initialize or the constructor. When we create methods within a class, they receive the instance as the first argument automatically. By convention this special method is called `self`. After `self`, other arguments can be added. "
   ]
  },
  {
   "cell_type": "code",
   "execution_count": 27,
   "metadata": {
    "slideshow": {
     "slide_type": "subslide"
    }
   },
   "outputs": [],
   "source": [
    "class Employee:\n",
    "    def __init__(self, first, last, pay):\n",
    "        self.first = first\n",
    "        self.last = last\n",
    "        self.pay = pay\n",
    "        self.email = first.lower() + \".\" + last.lower() + \"@example.com\""
   ]
  },
  {
   "cell_type": "markdown",
   "metadata": {
    "slideshow": {
     "slide_type": "fragment"
    }
   },
   "source": [
    "Now let's add objects to our class. "
   ]
  },
  {
   "cell_type": "code",
   "execution_count": 28,
   "metadata": {},
   "outputs": [],
   "source": [
    "emp_1 = Employee(\"John\", \"Smith\", 83000)\n",
    "emp_2 = Employee(\"Jane\", \"Doe\", 20000)"
   ]
  },
  {
   "cell_type": "markdown",
   "metadata": {
    "slideshow": {
     "slide_type": "fragment"
    }
   },
   "source": [
    "Once you have instantiated an object, you can call it by name and access its attributes:"
   ]
  },
  {
   "cell_type": "code",
   "execution_count": 29,
   "metadata": {},
   "outputs": [
    {
     "name": "stdout",
     "output_type": "stream",
     "text": [
      "John Smith:  83000\n"
     ]
    }
   ],
   "source": [
    "print(emp_1.first + \" \" + emp_1.last + \": \", emp_1.pay)"
   ]
  },
  {
   "cell_type": "markdown",
   "metadata": {
    "slideshow": {
     "slide_type": "subslide"
    }
   },
   "source": [
    "### Adding methods to a class\n",
    "\n",
    "That's a lot to type each time we want to display the full name of an employee. To fix this, we can add class functions, known as **methods**.\n",
    "\n",
    "Each method within a class authomatically takes the instance as the first argument -- which we name **self**."
   ]
  },
  {
   "cell_type": "code",
   "execution_count": 30,
   "metadata": {},
   "outputs": [
    {
     "name": "stdout",
     "output_type": "stream",
     "text": [
      "John Smith\n"
     ]
    }
   ],
   "source": [
    "class Employee:\n",
    "    def __init__(self, first, last, pay):\n",
    "        self.first = first\n",
    "        self.last = last\n",
    "        self.pay = pay\n",
    "        self.email = first.lower() + \".\" + last.lower() + \"@example.com\"\n",
    "\n",
    "    def get_fullname(self):\n",
    "        return \"{0} {1}\".format(self.first, self.last)\n",
    "\n",
    "\n",
    "emp_1 = Employee(\"John\", \"Smith\", 83000)\n",
    "print(emp_1.get_fullname())"
   ]
  },
  {
   "cell_type": "markdown",
   "metadata": {
    "slideshow": {
     "slide_type": "subslide"
    }
   },
   "source": [
    "Whenever we want to call functions, including methods, we need a a trailing pair of parentheses `(...)`. Let's see what would we get if we tried printing `emp_1.fullname()` without `()`. "
   ]
  },
  {
   "cell_type": "code",
   "execution_count": 31,
   "metadata": {},
   "outputs": [
    {
     "name": "stdout",
     "output_type": "stream",
     "text": [
      "<bound method Employee.get_fullname of <__main__.Employee object at 0x7fd7c4245dc0>>\n"
     ]
    }
   ],
   "source": [
    "print(emp_1.get_fullname)"
   ]
  },
  {
   "cell_type": "markdown",
   "metadata": {
    "slideshow": {
     "slide_type": "subslide"
    }
   },
   "source": [
    "Now let's practice adding more functionality to our class. For instance all emplloyee are going to get a generous 15% raise next year. We want to add a method to calculate the salary after the raise. "
   ]
  },
  {
   "cell_type": "code",
   "execution_count": 32,
   "metadata": {},
   "outputs": [
    {
     "name": "stdout",
     "output_type": "stream",
     "text": [
      "95450\n"
     ]
    }
   ],
   "source": [
    "class Employee:\n",
    "    def __init__(self, first, last, pay):\n",
    "        self.first = first\n",
    "        self.last = last\n",
    "        self.pay = pay\n",
    "        self.email = first + \".\" + last + \"@example.com\"\n",
    "\n",
    "    def get_fullname(self):\n",
    "        return \"{} {}\".format(self.first, self.last)\n",
    "\n",
    "    def increase_salary(self):\n",
    "        self.pay = round(self.pay * 1.15)\n",
    "\n",
    "\n",
    "emp_1 = Employee(\"John\", \"Smith\", 83000)\n",
    "emp_1.increase_salary()\n",
    "print(emp_1.pay)"
   ]
  },
  {
   "cell_type": "markdown",
   "metadata": {
    "slideshow": {
     "slide_type": "subslide"
    }
   },
   "source": [
    "We can also run these methods using the class itself--which makes it a bit more obvious that what's going on in the background."
   ]
  },
  {
   "cell_type": "code",
   "execution_count": 33,
   "metadata": {},
   "outputs": [
    {
     "name": "stdout",
     "output_type": "stream",
     "text": [
      "95450\n",
      "109767\n"
     ]
    }
   ],
   "source": [
    "print(emp_1.pay)\n",
    "\n",
    "# Equivalent to emp_1.increase_salary()\n",
    "Employee.increase_salary(emp_1)\n",
    "\n",
    "print(emp_1.pay)"
   ]
  },
  {
   "cell_type": "markdown",
   "metadata": {
    "slideshow": {
     "slide_type": "subslide"
    }
   },
   "source": [
    "One common mistake in creating methods is forgetting to put the `self` argument in a method for the class. Let's take a quick look to our code to see what that would look like if we left out `self`."
   ]
  },
  {
   "cell_type": "code",
   "execution_count": 34,
   "metadata": {},
   "outputs": [],
   "source": [
    "class Employee:\n",
    "    def __init__(self, first, last, pay):\n",
    "        self.first = first\n",
    "        self.last = last\n",
    "        self.pay = pay\n",
    "        self.email = first + \".\" + last + \"@berkeley.edu\"\n",
    "\n",
    "    def get_fullname():\n",
    "        return \"{} {}\".format(self.first, self.last)\n",
    "\n",
    "    def increase_salary():\n",
    "        self.pay = round(self.pay * 1.15)\n",
    "\n",
    "\n",
    "emp_1 = Employee(\"John\", \"Smith\", 83000)\n",
    "\n",
    "# This will raise a TypeError\n",
    "# \"increase_salary() takes 0 positional arguments but 1 was given\"\n",
    "# print(emp_1.increase_salary())"
   ]
  },
  {
   "cell_type": "markdown",
   "metadata": {
    "slideshow": {
     "slide_type": "subslide"
    }
   },
   "source": [
    "### Recap on Classes\n",
    "\n",
    "We used classes to create categories of things and made objects (instances) of those classes. We learned how to create a class, the difference between a class and an instance. We also learned how to intialize class attributes and create methods. These concepts are fundamental to Python, and you’ll see them again and again as you progress in learning programming..."
   ]
  }
 ],
 "metadata": {
  "celltoolbar": "Slideshow",
  "kernelspec": {
   "display_name": "Python 3 (ipykernel)",
   "language": "python",
   "name": "python3"
  },
  "language_info": {
   "codemirror_mode": {
    "name": "ipython",
    "version": 3
   },
   "file_extension": ".py",
   "mimetype": "text/x-python",
   "name": "python",
   "nbconvert_exporter": "python",
   "pygments_lexer": "ipython3",
   "version": "3.9.2"
  },
  "rise": {
   "theme": "night"
  }
 },
 "nbformat": 4,
 "nbformat_minor": 4
}
