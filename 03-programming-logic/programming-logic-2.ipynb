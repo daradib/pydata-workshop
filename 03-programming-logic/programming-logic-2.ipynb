{
 "cells": [
  {
   "cell_type": "markdown",
   "metadata": {},
   "source": [
    "# Programming Logic in Python - Part 2\n"
   ]
  },
  {
   "cell_type": "markdown",
   "metadata": {},
   "source": [
    "Last session we covered core building blocks in logical programming: booleans, conditionals, and iteration.  This time we extend into the realm of object oriented programming: functions and classes."
   ]
  },
  {
   "cell_type": "markdown",
   "metadata": {},
   "source": [
    "### But first -- a Digression on Open Data\n",
    "\n",
    "Many cities are now making datasets available via open data portals.  We will begin to explore how to programmatically access some of these data repositories soon using APIs (Applications Programming Interfaces), but for now it is useful to begin getting familiar with the kinds of data cities are making available through these portals. These could be good sources of data for projects. Some examples:\n",
    "\n",
    "[City of Berkeley](https://data.cityofberkeley.info/)\n",
    "\n",
    "[City of San Francisco](https://datasf.org/opendata/)\n",
    "\n",
    "[City of Oakland](https://data.oaklandnet.com/)\n",
    "\n",
    "[City of San Jose](https://data.sanjoseca.gov/home)\n",
    "\n",
    "[City of New York](https://opendata.cityofnewyork.us/)\n",
    "\n",
    "[City of Chicago](https://data.cityofchicago.org/)\n",
    "\n",
    "Browse these and search for open data portals for cities you are interested in..."
   ]
  },
  {
   "cell_type": "markdown",
   "metadata": {},
   "source": [
    "# Functions\n",
    "\n",
    "You can group programming steps into functions to be able to reuse them easily and flexibly, on different inputs.\n",
    "\n",
    "Note the syntax.  A function definition begins with the word def.  It then has a name for the function, which you choose (just avoid reserved words). A convention in Python is to use lower case words, separated by undescrores, for function names. It then has parentheses containing one or more elements, which are known as arguments to a function. These are the names of the values that you intend to pass to the function to evaluate.  Notice also the indentation of the block of code defining the function, which itself may contain indentation for embedded if statements or other program logic.\n",
    "\n",
    "The general syntax for a function looks a bit like the syntax for an if statement.  Note that it includes an option for passing arguments (data generally) into the function, to be used internally by the function.  This allows encapsulating code within functions that have their own internal **namespace**.  That is, variable names internally are isolated from the code external to the function."
   ]
  },
  {
   "cell_type": "raw",
   "metadata": {},
   "source": [
    "def function_name(arguments):\n",
    "    STATEMENTS"
   ]
  },
  {
   "cell_type": "markdown",
   "metadata": {},
   "source": [
    "Recall the example of a chained conditional we covered last time:"
   ]
  },
  {
   "cell_type": "code",
   "execution_count": null,
   "metadata": {},
   "outputs": [],
   "source": [
    "# if the first if statement evaluates to false, you can add other Boolean tests using elif (short for Else If).\n",
    "# elif executes a code block if its condition is true\n",
    "# Else executes a code block if no preceding if or elif evaluated to true, it catches everything else.\n",
    "x = 11\n",
    "if x < 10:\n",
    "    print('x is less than 10')\n",
    "elif x == 10:\n",
    "    print('x equals 10')\n",
    "else:\n",
    "    print('x is greater than 10')"
   ]
  },
  {
   "cell_type": "markdown",
   "metadata": {},
   "source": [
    "Below we nest this series of if/elif/else statements into a function we can call repeatedly, passing it different values to evaluate:"
   ]
  },
  {
   "cell_type": "code",
   "execution_count": null,
   "metadata": {},
   "outputs": [],
   "source": [
    "# encapsulation turns a handful of statements into a reusable function\n",
    "def compare_to_10(value):\n",
    "    if value < 10:\n",
    "        print(value, 'is less than 10')\n",
    "    elif value == 10:\n",
    "        print(value, 'equals 10')\n",
    "    else:\n",
    "        print(value, 'is greater than 10')      "
   ]
  },
  {
   "cell_type": "markdown",
   "metadata": {},
   "source": [
    "Note that running the cell above does not produce any output.  It just defines and instantiates the function so it is now available to call.\n",
    "\n",
    "To call a function, just use its name as if it were a built in function and use parentheses to pass the function a value or set of values as **arguments**.  Just pay attention - the function doesn't exist until you initialize it by running the code that defines it."
   ]
  },
  {
   "cell_type": "code",
   "execution_count": null,
   "metadata": {},
   "outputs": [],
   "source": [
    "# now call the function\n",
    "compare_to_10(7)"
   ]
  },
  {
   "cell_type": "markdown",
   "metadata": {},
   "source": [
    "The above approach to calling the method isn't that different than the original use case. But now we can call the function from a for loop, and this is where you begin to see the value of functions in automating a process."
   ]
  },
  {
   "cell_type": "code",
   "execution_count": null,
   "metadata": {},
   "outputs": [],
   "source": [
    "for i in range(20):\n",
    "    compare_to_10(i)"
   ]
  },
  {
   "cell_type": "code",
   "execution_count": null,
   "metadata": {},
   "outputs": [],
   "source": [
    "# Try passing an argument with a calculation in it.  It works also, because Python \n",
    "# evaluates the argument and passes the resulting object into the function:\n",
    "compare_to_10((2*2)**2)"
   ]
  },
  {
   "cell_type": "markdown",
   "metadata": {},
   "source": [
    "#### Return values\n",
    "\n",
    "Your function can return results that you can use elsewhere in your code, whether embedded in a loop or in a condition or just interactively. \n",
    "\n",
    "Note the new syntax in this example.  We use **return** to send back to whatever called the function, a specific result, rather than just printing a value to the output.  This is what makes it possible to call the function in your code, and get the results back, potentially to operate on, as in this case with simple print statements.\n",
    "\n",
    "Notice also that functions can accept more than one argument."
   ]
  },
  {
   "cell_type": "code",
   "execution_count": null,
   "metadata": {},
   "outputs": [],
   "source": [
    "def greater_than(x, y):\n",
    "    if x > y:\n",
    "        return True\n",
    "    else:\n",
    "        return False"
   ]
  },
  {
   "cell_type": "code",
   "execution_count": null,
   "metadata": {
    "scrolled": false
   },
   "outputs": [],
   "source": [
    "greater_than(3, 5)"
   ]
  },
  {
   "cell_type": "markdown",
   "metadata": {},
   "source": [
    "One of the most practical uses of using return is that you can assign the result to a variable and continue working with it."
   ]
  },
  {
   "cell_type": "code",
   "execution_count": null,
   "metadata": {},
   "outputs": [],
   "source": [
    "z = greater_than(3, 5)"
   ]
  },
  {
   "cell_type": "code",
   "execution_count": null,
   "metadata": {},
   "outputs": [],
   "source": [
    "z"
   ]
  },
  {
   "cell_type": "markdown",
   "metadata": {},
   "source": [
    "Here is a more complex function that calculates a Fibonacci series up to n.  Fibonacci series have the property that the sum of two adjacent numbers in the list equals the next value in the list.  "
   ]
  },
  {
   "cell_type": "code",
   "execution_count": null,
   "metadata": {},
   "outputs": [],
   "source": [
    "def fibonacci(n):    \n",
    "    a, b = 0, 1\n",
    "    while a < n:\n",
    "        print(a, end=' ')\n",
    "        a, b = b, a+b\n",
    "    \n",
    "fibonacci(1000)"
   ]
  },
  {
   "cell_type": "markdown",
   "metadata": {},
   "source": [
    "We can add documentation to functions by adding a statement in triple quotation marks following the def statement -- it is a 'docstring', which Python can use to generate documentation for a function."
   ]
  },
  {
   "cell_type": "code",
   "execution_count": null,
   "metadata": {},
   "outputs": [],
   "source": [
    "def fibonacci(n):    \n",
    "    \"\"\"Print a Fibonacci series up to n, where each element is the sum of the preceding two elements in the sequence.\n",
    "    \"\"\"\n",
    "    a, b = 0, 1\n",
    "    while a < n:\n",
    "        print(a, end=' ')\n",
    "        a, b = b, a+b\n",
    "    \n",
    "fibonacci(1000)"
   ]
  },
  {
   "cell_type": "markdown",
   "metadata": {},
   "source": [
    "Let's modify the function to create a list, return it, and assign it to a new variable."
   ]
  },
  {
   "cell_type": "code",
   "execution_count": null,
   "metadata": {},
   "outputs": [],
   "source": [
    "def fibonacci(n):    \n",
    "    \"\"\"Print a Fibonacci series up to n, where each element is the sum of the preceding two elements in the sequence.\n",
    "    \"\"\"\n",
    "    result = []\n",
    "    a, b = 0, 1\n",
    "    while a < n:\n",
    "        result.append(a)\n",
    "        a, b = b, a+b\n",
    "    return(result)\n",
    "    \n",
    "f = fibonacci(1000)\n",
    "f"
   ]
  },
  {
   "cell_type": "code",
   "execution_count": null,
   "metadata": {},
   "outputs": [],
   "source": [
    "# print the doctring for a function\n",
    "print(fibonacci.__doc__)"
   ]
  },
  {
   "cell_type": "code",
   "execution_count": null,
   "metadata": {
    "scrolled": true
   },
   "outputs": [],
   "source": [
    "help(fibonacci)"
   ]
  },
  {
   "cell_type": "markdown",
   "metadata": {},
   "source": [
    "### Practice:\n",
    "\n",
    "Write a Python function 'countdown' that accepts an integer as an argument, and prints that integer and counts down to zero from there. Test it by passing it a value of 9."
   ]
  },
  {
   "cell_type": "code",
   "execution_count": null,
   "metadata": {},
   "outputs": [],
   "source": []
  },
  {
   "cell_type": "markdown",
   "metadata": {},
   "source": [
    "## Lambda Functions\n"
   ]
  },
  {
   "cell_type": "markdown",
   "metadata": {},
   "source": [
    "One way to write small functions in a compact way that avoids the def statement is to use the **lambda** function. Lambda takes a number of parameters and an expression combining these parameters, and creates an anonymous function that returns the value of the expression. Lambda functions come very handy when operating with lists. These function are defined by the keyword lambda followed by the variables, a colon and the respective expression."
   ]
  },
  {
   "cell_type": "code",
   "execution_count": null,
   "metadata": {},
   "outputs": [],
   "source": [
    "# An example lambda function with one argument\n",
    "multiplier = lambda x: x * x"
   ]
  },
  {
   "cell_type": "code",
   "execution_count": null,
   "metadata": {},
   "outputs": [],
   "source": [
    "multiplier(7)"
   ]
  },
  {
   "cell_type": "markdown",
   "metadata": {},
   "source": [
    "The lamda function above is equivalent to the following code:"
   ]
  },
  {
   "cell_type": "code",
   "execution_count": null,
   "metadata": {},
   "outputs": [],
   "source": [
    "def multiplier(x):\n",
    "    result = x * x\n",
    "    return result\n",
    "\n",
    "multiplier(7)"
   ]
  },
  {
   "cell_type": "code",
   "execution_count": null,
   "metadata": {},
   "outputs": [],
   "source": [
    "# An example lambda function with two arguments\n",
    "adder = lambda x, y: x+y"
   ]
  },
  {
   "cell_type": "code",
   "execution_count": null,
   "metadata": {},
   "outputs": [],
   "source": [
    "adder(3,4)"
   ]
  },
  {
   "cell_type": "markdown",
   "metadata": {},
   "source": [
    "This is just an alternative way to \"def statement\"  and defining a function in the usual way."
   ]
  },
  {
   "cell_type": "code",
   "execution_count": null,
   "metadata": {},
   "outputs": [],
   "source": [
    "def adder(x, y):\n",
    "    result = x + y\n",
    "    return result"
   ]
  },
  {
   "cell_type": "code",
   "execution_count": null,
   "metadata": {},
   "outputs": [],
   "source": [
    "adder(3,4)"
   ]
  },
  {
   "cell_type": "markdown",
   "metadata": {},
   "source": [
    "#### Check-in time...\n",
    "How would you write a lambda function that raises x to the power of y? http://bitly.com/cp255"
   ]
  },
  {
   "cell_type": "markdown",
   "metadata": {},
   "source": [
    "## The Map Function\n",
    "Map( ) function executes the lambda function on each of each element of a list.  This is very concise and powerful, but can look a little intimidating at first."
   ]
  },
  {
   "cell_type": "code",
   "execution_count": null,
   "metadata": {},
   "outputs": [],
   "source": [
    "ls = list(range(10))\n",
    "eg = map(lambda x: x*x, ls)\n",
    "print(ls)\n",
    "print(eg)\n",
    "print(list(eg))"
   ]
  },
  {
   "cell_type": "markdown",
   "metadata": {},
   "source": [
    "Notice that eg is just a **map** object, very much like range(x) produces a **range** object"
   ]
  },
  {
   "cell_type": "code",
   "execution_count": null,
   "metadata": {},
   "outputs": [],
   "source": [
    "ls = list(range(10))\n",
    "eg_2 = map(lambda x: x+2, ls)\n",
    "print(ls)\n",
    "list(eg_2)"
   ]
  },
  {
   "cell_type": "markdown",
   "metadata": {},
   "source": [
    "## Recap on functions\n",
    "\n",
    "We covered how to define functions and call them, how to integrate conditionals and loops with them to automate processes, and how to use list comprehension and map/apply to use short-cut functions embedded inline."
   ]
  },
  {
   "cell_type": "markdown",
   "metadata": {
    "collapsed": true
   },
   "source": [
    "# Object Oriented Programming"
   ]
  },
  {
   "cell_type": "markdown",
   "metadata": {},
   "source": [
    "So far you have learned the logic of programming using what is referred to as procedure-oriented programming. Python lets you do this easily.  But as the programs you write get to be more complex, modern programming guidance is to use that is called an object oriented programming style, sometimes referred to as object oriented programming (OOP).  Python supports this programming style as well.\n",
    "\n",
    "While a procedural programming style can suffice for writing short, simple programs, an object-oriented programming approach becomes increasingly valuable as your program grows in size and complexity. The more data and functions your code contains, the more important it is to arrange them into logical subgroups, or classes, making sure that data and functions which are related are grouped together and that data and functions which are not related don’t interfere with each other. Modular code is easier to understand and modify, and lends itself more to reuse – and code reuse is valuable because it reduces development time.\n",
    "\n",
    "The key to object oriented programming is that you encapsulate data and methods into classes.  When these classes are instantiated they become an object you can call to interact with its data and its methods."
   ]
  },
  {
   "cell_type": "markdown",
   "metadata": {},
   "source": [
    "## Create a Class"
   ]
  },
  {
   "cell_type": "markdown",
   "metadata": {},
   "source": [
    "Let's create a simple class for UC Berkeley employees."
   ]
  },
  {
   "cell_type": "code",
   "execution_count": null,
   "metadata": {},
   "outputs": [],
   "source": [
    "# Creating a class\n",
    "class Employee:\n",
    "    pass"
   ]
  },
  {
   "cell_type": "markdown",
   "metadata": {},
   "source": [
    "**pass** in python means do nothing. "
   ]
  },
  {
   "cell_type": "markdown",
   "metadata": {},
   "source": [
    "Above, a class object named \"Employee\" is declared. A **class** is blueprint or a recipe for creating objects that have a set of data attributes and methods. You can create lots of objects from that class blueprint - and each of these created objects is referred to as an instance of the class."
   ]
  },
  {
   "cell_type": "markdown",
   "metadata": {},
   "source": [
    "## Instantiate a class "
   ]
  },
  {
   "cell_type": "markdown",
   "metadata": {},
   "source": [
    "Each unique employee that we create using our \"Employee\" class will be an instance of that class. \n",
    "\n",
    "So for instance, employee 1-- which has all the characters that class \"Employee\" has is an **instance**. To create an instance all you need to do is: "
   ]
  },
  {
   "cell_type": "code",
   "execution_count": null,
   "metadata": {},
   "outputs": [],
   "source": [
    "# Here we are creating two unique instances\n",
    "emp_1 = Employee()\n",
    "emp_2 = Employee()"
   ]
  },
  {
   "cell_type": "markdown",
   "metadata": {},
   "source": [
    "If we print these two instances, you will see both of them are Employee objects which are unique -- they each have different locations in the computer's memory."
   ]
  },
  {
   "cell_type": "code",
   "execution_count": null,
   "metadata": {
    "scrolled": true
   },
   "outputs": [],
   "source": [
    "print(emp_1)\n",
    "print(emp_2)"
   ]
  },
  {
   "cell_type": "markdown",
   "metadata": {},
   "source": [
    "Knowing the difference between a class and an instance of that class is important.  Its like the difference between a blueprint for a building and an actual building constructed from that blueprint.\n"
   ]
  },
  {
   "cell_type": "markdown",
   "metadata": {},
   "source": [
    "## Adding attributes to a class"
   ]
  },
  {
   "cell_type": "markdown",
   "metadata": {},
   "source": [
    "Instance variables contain data that is unique to each instance. We can create instance variables for each employee. Let's do it for employee 1 and employee 2 here. "
   ]
  },
  {
   "cell_type": "code",
   "execution_count": null,
   "metadata": {},
   "outputs": [],
   "source": [
    "emp_1.first = 'John'\n",
    "emp_1.last= 'Smith'\n",
    "emp_1.email= emp_1.first+'.'+emp_1.last+'@berkeley.edu'\n",
    "emp_1.pay= 85000\n",
    "\n",
    "\n",
    "emp_2.first = 'Jane'\n",
    "emp_2.last= 'Doe'\n",
    "emp_2.email= emp_2.first+'.'+emp_2.last+'@Berkeley.edu'\n",
    "emp_2.pay= 20000"
   ]
  },
  {
   "cell_type": "markdown",
   "metadata": {},
   "source": [
    "Now let's print out the email address for employee 2"
   ]
  },
  {
   "cell_type": "code",
   "execution_count": null,
   "metadata": {},
   "outputs": [],
   "source": [
    "print(emp_2.email)"
   ]
  },
  {
   "cell_type": "markdown",
   "metadata": {},
   "source": [
    "So what should we do if we want to create many employee instances? To do this manually it would require writing a lot of code, and is prone to mistakes.\n",
    "\n",
    "To make this instantiation easier we use the **__init__ method** (two underscore characters, followed by init, and then two more underscores). So the Employee class will look like this:  \n"
   ]
  },
  {
   "cell_type": "raw",
   "metadata": {},
   "source": [
    "class Employee:\n",
    "    def __init__()"
   ]
  },
  {
   "cell_type": "markdown",
   "metadata": {},
   "source": [
    "You can think of this init method as initialize or the constructor. When we create methods within a class, they receive the instance as the first argument automatically.\n",
    "By convention this special method is called **self**. After self, other argumets can be added. \n",
    "\n",
    "A variable inside a class is called an attribute. For instance here, first, last, email, and pay are attributes of \"Employee\" class."
   ]
  },
  {
   "cell_type": "code",
   "execution_count": null,
   "metadata": {},
   "outputs": [],
   "source": [
    "class Employee:\n",
    "    def __init__(self, first, last, pay):\n",
    "        self.first = first\n",
    "        self.last = last\n",
    "        self.pay = pay\n",
    "        self.email = first + '.' + last + '@Berkeley.edu'\n"
   ]
  },
  {
   "cell_type": "markdown",
   "metadata": {},
   "source": [
    "Now let's add objects to our class. "
   ]
  },
  {
   "cell_type": "code",
   "execution_count": null,
   "metadata": {},
   "outputs": [],
   "source": [
    "emp_1= Employee('John', 'Smith', 83000)\n",
    "emp_2= Employee('Jane', 'Doe', 20000)"
   ]
  },
  {
   "cell_type": "markdown",
   "metadata": {},
   "source": [
    "Once you have instantiated an object, you can call it by name and access its attributes:"
   ]
  },
  {
   "cell_type": "code",
   "execution_count": null,
   "metadata": {},
   "outputs": [],
   "source": [
    "print(emp_1.first+' '+emp_1.last+': ',emp_1.pay)"
   ]
  },
  {
   "cell_type": "markdown",
   "metadata": {},
   "source": [
    "## Adding Methods to Class:"
   ]
  },
  {
   "cell_type": "markdown",
   "metadata": {},
   "source": [
    "But that's a lot to type each time we want to display the full name of an employee. To fix this, we can add a function inside our class. A function is called a **method** when it is inside a class. "
   ]
  },
  {
   "cell_type": "markdown",
   "metadata": {
    "collapsed": true
   },
   "source": [
    "Each method within a class authomatically takes the instance as the first argument -- which we name **self**. And the instance is the only argument we need to display the fullname.\n"
   ]
  },
  {
   "cell_type": "code",
   "execution_count": null,
   "metadata": {},
   "outputs": [],
   "source": [
    "class Employee:\n",
    "    def __init__(self, first, last, pay):\n",
    "        self.first = first\n",
    "        self.last = last\n",
    "        self.pay = pay\n",
    "        self.email = first + '.' + last + '@Berkeley.edu'\n",
    "        \n",
    "    # creating a method called fullname \n",
    "    def fullname(self):\n",
    "        return '{0} {1}'.format(self.first, self.last)"
   ]
  },
  {
   "cell_type": "code",
   "execution_count": null,
   "metadata": {},
   "outputs": [],
   "source": [
    "emp_1= Employee('John', 'Smith', 83000)\n",
    "emp_2= Employee('Jane', 'Doe', 20000)"
   ]
  },
  {
   "cell_type": "code",
   "execution_count": null,
   "metadata": {
    "scrolled": true
   },
   "outputs": [],
   "source": [
    "print(emp_1.fullname())"
   ]
  },
  {
   "cell_type": "markdown",
   "metadata": {},
   "source": [
    "Pay attention to the extra ( ) used in the above code. Whenever we want to use the method we need ( ). Let's see what would we get if we print the above code without ( ). "
   ]
  },
  {
   "cell_type": "code",
   "execution_count": null,
   "metadata": {},
   "outputs": [],
   "source": [
    "print(emp_1.fullname)"
   ]
  },
  {
   "cell_type": "markdown",
   "metadata": {},
   "source": [
    "Now let's practice adding more \"functionality\" to our class. For instance all emplloyee are going to get 15% raise next year. We want to add a method to calculate the salary after the raise. "
   ]
  },
  {
   "cell_type": "code",
   "execution_count": null,
   "metadata": {},
   "outputs": [],
   "source": [
    "class Employee:\n",
    "    def __init__(self, first, last, pay):\n",
    "        self.first = first\n",
    "        self.last = last\n",
    "        self.pay = pay\n",
    "        self.email = first + '.' + last + '@Berkeley.edu'\n",
    "        \n",
    "    def fullname(self):\n",
    "        return '{} {}'.format(self.first, self.last)\n",
    "\n",
    "    def newSalary(self):\n",
    "        return self.pay *.15 + self.pay"
   ]
  },
  {
   "cell_type": "code",
   "execution_count": null,
   "metadata": {},
   "outputs": [],
   "source": [
    "emp_1= Employee('John', 'Smith', 83000)\n",
    "emp_2= Employee('Jane', 'Doe', 20000)"
   ]
  },
  {
   "cell_type": "code",
   "execution_count": null,
   "metadata": {
    "scrolled": true
   },
   "outputs": [],
   "source": [
    "print(emp_1.newSalary())"
   ]
  },
  {
   "cell_type": "markdown",
   "metadata": {},
   "source": [
    "We can also run these methods using the class itself--which makes it a bit more obvious that what's going on in the background.  "
   ]
  },
  {
   "cell_type": "code",
   "execution_count": null,
   "metadata": {},
   "outputs": [],
   "source": [
    "print(Employee.newSalary(emp_1))\n"
   ]
  },
  {
   "cell_type": "markdown",
   "metadata": {},
   "source": [
    "One common mistake in creating method is forgetting to put \"self\" argument in a method for the class. Let's take a quick look to our code to see what that would look like if we left the \"self\" off : "
   ]
  },
  {
   "cell_type": "code",
   "execution_count": null,
   "metadata": {},
   "outputs": [],
   "source": [
    "class Employee:\n",
    "    def __init__(self, first, last, pay):\n",
    "        self.first = first\n",
    "        self.last = last\n",
    "        self.pay = pay\n",
    "        self.email = first + '.' + last + '@Berkeley.edu'\n",
    "\n",
    "    def fullname():\n",
    "        return '{} {}'.format(self.first, self.last)\n",
    "\n",
    "\n",
    "    def newSalary():\n",
    "        return self.pay *.15 + self.pay\n"
   ]
  },
  {
   "cell_type": "code",
   "execution_count": null,
   "metadata": {},
   "outputs": [],
   "source": [
    "emp_1= Employee('John', 'Smith', 83000)\n",
    "emp_2= Employee('Jane', 'Doe', 20000)"
   ]
  },
  {
   "cell_type": "code",
   "execution_count": null,
   "metadata": {},
   "outputs": [],
   "source": [
    "print(emp_1.newSalary())"
   ]
  },
  {
   "cell_type": "markdown",
   "metadata": {},
   "source": [
    "### Recap on Classes\n"
   ]
  },
  {
   "cell_type": "markdown",
   "metadata": {},
   "source": [
    "We used classes to create categories of things and made objects (instances) of those classes. We learned how to create a class, the difference between a class and an instance. We also learned how to intialize class attributes and create methods. These concepts are fundamental to Python, and you’ll see them again and again as you progress in learning programming..."
   ]
  }
 ],
 "metadata": {
  "kernelspec": {
   "display_name": "Python 3",
   "language": "python",
   "name": "python3"
  },
  "language_info": {
   "codemirror_mode": {
    "name": "ipython",
    "version": 3
   },
   "file_extension": ".py",
   "mimetype": "text/x-python",
   "name": "python",
   "nbconvert_exporter": "python",
   "pygments_lexer": "ipython3",
   "version": "3.6.5"
  }
 },
 "nbformat": 4,
 "nbformat_minor": 1
}
