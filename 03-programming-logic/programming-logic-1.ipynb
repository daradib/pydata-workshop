{
 "cells": [
  {
   "cell_type": "markdown",
   "metadata": {},
   "source": [
    "# Programming Logic in Python - Part 1\n"
   ]
  },
  {
   "cell_type": "markdown",
   "metadata": {},
   "source": [
    "So far we have learned about Python data types and some of the methods available to operate on them.  We managed to do a bit of functional programming to reorganize the contents of a string to change it into a different string. But real programming requires more tools.  This session will focus on the following tools:\n",
    "\n",
    "* Booleans - test whether a condition is met or not\n",
    "* Conditionals - do something based on whether a condition is met or not\n",
    "* Iteration - automate\n",
    "\n",
    "With these tools, we can begin to do some real programming."
   ]
  },
  {
   "cell_type": "markdown",
   "metadata": {},
   "source": [
    "## Booleans"
   ]
  },
  {
   "cell_type": "markdown",
   "metadata": {},
   "source": [
    "A Boolean expression is one that can be evaluated by Python and interpreted as being True or False.  You can think of it as making an assertion, and having Python tell you if you are right or not in making that assertion.  It does not pass moral judgments, but will tell you if your assertion is valid or not.  Programming logic is very literal, and Boolean tests are either True or False.    The == operator is an assertion that what is on the left of it is equivalent to what is on its right.  The >= operator is greater than or equal to, and != asserts that two objects are not the same. Don't be confused by the similarity of '=' and '==': one is an assignment of a value to a variable, and the other is a comparison operator.  \n",
    "\n",
    "Booleans are a pre-requisite for creating code that can branch depending on the outcome of a condition.  That condition is generally based on a Boolean test.  Some examples of boolean expressions:"
   ]
  },
  {
   "cell_type": "code",
   "execution_count": null,
   "metadata": {},
   "outputs": [],
   "source": [
    "# use == to assert that both sides are equivalent, and evaluate that assertion as true or false\n",
    "2 + 2 == 4"
   ]
  },
  {
   "cell_type": "code",
   "execution_count": null,
   "metadata": {},
   "outputs": [],
   "source": [
    "# you can also compare the value of variables\n",
    "a = 1\n",
    "b = 1\n",
    "a == b"
   ]
  },
  {
   "cell_type": "code",
   "execution_count": null,
   "metadata": {},
   "outputs": [],
   "source": [
    "# or do comparisons of relative value\n",
    "a > 10"
   ]
  },
  {
   "cell_type": "code",
   "execution_count": null,
   "metadata": {},
   "outputs": [],
   "source": [
    "# and choose to include or exclude the comparison value\n",
    "a >= 1"
   ]
  },
  {
   "cell_type": "code",
   "execution_count": null,
   "metadata": {},
   "outputs": [],
   "source": [
    "# assert two values are not equal\n",
    "a != b"
   ]
  },
  {
   "cell_type": "code",
   "execution_count": null,
   "metadata": {},
   "outputs": [],
   "source": [
    "# assert that two or more conditions are satisfied\n",
    "c = 5\n",
    "c > 2 and c < 5"
   ]
  },
  {
   "cell_type": "code",
   "execution_count": null,
   "metadata": {},
   "outputs": [],
   "source": [
    "# assert that either of two conditions is satisfied\n",
    "c > 2 or c < 5"
   ]
  },
  {
   "cell_type": "code",
   "execution_count": null,
   "metadata": {},
   "outputs": [],
   "source": [
    "c == 5"
   ]
  },
  {
   "cell_type": "code",
   "execution_count": null,
   "metadata": {},
   "outputs": [],
   "source": [
    "# assert the opposite of some condition\n",
    "not (c == 5)"
   ]
  },
  {
   "cell_type": "code",
   "execution_count": null,
   "metadata": {
    "scrolled": true
   },
   "outputs": [],
   "source": [
    "# test whether something is contained in another object\n",
    "word = 'This'\n",
    "sentence = 'This is CP255'\n",
    "word in sentence"
   ]
  },
  {
   "cell_type": "code",
   "execution_count": null,
   "metadata": {
    "scrolled": true
   },
   "outputs": [],
   "source": [
    "# or test whether it is not contained\n",
    "word not in sentence"
   ]
  },
  {
   "cell_type": "markdown",
   "metadata": {},
   "source": [
    "Here is an example using the modulus function (%) in which we test whether or not we can divide two integers evenly.  It gives the remainder from the division.  That is, what is left over after dividing the numerator by the largest multiple of the denominator? For example, 10%5 is 0 since 5 goes into 10 twice, with nothing left over.  10%3 is 1, since 3 goes into 10 3 times, with one left over."
   ]
  },
  {
   "cell_type": "code",
   "execution_count": null,
   "metadata": {},
   "outputs": [],
   "source": [
    "10 % 3"
   ]
  },
  {
   "cell_type": "code",
   "execution_count": null,
   "metadata": {},
   "outputs": [],
   "source": [
    "# Here is how we can use the modulus to check for even numbers\n",
    "n = 1029\n",
    "n % 2  == 0"
   ]
  },
  {
   "cell_type": "markdown",
   "metadata": {},
   "source": [
    "#### How would we test for odd numbers?\n",
    "Time to wake up: http://bitly.com/cp255"
   ]
  },
  {
   "cell_type": "markdown",
   "metadata": {},
   "source": [
    "## Conditional statements: controlling the flow of program execution"
   ]
  },
  {
   "cell_type": "markdown",
   "metadata": {},
   "source": [
    "Now that we know that we can construct Boolean tests for a wide variety of situations, let's explore how they can help us in constructing conditional execution.  We often need to have program code that 'branches', based on specific conditions. If one condition exists, do some specific things.  If a different condition exists, do some other specific things.  Let's look at how this works.\n",
    "\n",
    "Some of the figures and examples below are drawn from this excellent resource:\n",
    "http://www.openbookproject.net/books/bpp4awd/index.html#"
   ]
  },
  {
   "cell_type": "markdown",
   "metadata": {},
   "source": [
    "### The if statement\n",
    "The **if** statement is a conditional statement with the following form:"
   ]
  },
  {
   "cell_type": "raw",
   "metadata": {},
   "source": [
    "if BOOLEAN EXPRESSION:\n",
    "    STATEMENTS"
   ]
  },
  {
   "cell_type": "markdown",
   "metadata": {},
   "source": [
    "<img src='images/flowchart_if_only.png'>"
   ]
  },
  {
   "cell_type": "markdown",
   "metadata": {},
   "source": [
    "Note the **colon at the end of each of the if-related statements** below, and the indentation of the block of text to be executed if the Boolean in the if statement evaluates as True.  Usually 4 spaces or 1 tab are used to indent code.  It is advisable to be very consistent with this. In an Ipython notebook, when you type an if statement and end it with a colon, the next line is automatically indented properly."
   ]
  },
  {
   "cell_type": "code",
   "execution_count": null,
   "metadata": {
    "collapsed": true
   },
   "outputs": [],
   "source": [
    "# use an if statement to execute indented code only if some condition is true\n",
    "x = 9\n",
    "if x < 10:\n",
    "    print(str(x) + ' is less than 10')"
   ]
  },
  {
   "cell_type": "markdown",
   "metadata": {},
   "source": [
    "What happens if you put in a value of x = 11 in the code above? Not much.  The code does not have anything to do if the evaluation of the Boolean expression in the If statement returns a value of False.  We need more logic to handle different input values that may meet different conditions."
   ]
  },
  {
   "cell_type": "code",
   "execution_count": null,
   "metadata": {
    "collapsed": true,
    "scrolled": true
   },
   "outputs": [],
   "source": [
    "# you can chain conditions together with and/or\n",
    "# It is often helpful for clarity to group conditions with parentheses, especially as statements get more complex\n",
    "x = 3.5\n",
    "if (x >= 3) and (x <= 6):\n",
    "    print(x, 'is between 3 and 6')"
   ]
  },
  {
   "cell_type": "markdown",
   "metadata": {},
   "source": [
    "By the way, notice that you can print variables and strings together in a print statement..."
   ]
  },
  {
   "cell_type": "markdown",
   "metadata": {},
   "source": [
    "### The if else statement\n",
    "\n",
    "It is frequently the case that you want one thing to happen when a condition it true, and something else to happen when it is false. For that we have the **if else** statement.  Its syntax is:"
   ]
  },
  {
   "cell_type": "raw",
   "metadata": {},
   "source": [
    "if BOOLEAN EXPRESSION:\n",
    "    STATEMENTS_1        # executed if condition evaluates to True\n",
    "else:\n",
    "    STATEMENTS_2        # executed if condition evaluates to False"
   ]
  },
  {
   "cell_type": "markdown",
   "metadata": {},
   "source": [
    "<img src='images/flowchart_if_else.png'>"
   ]
  },
  {
   "cell_type": "code",
   "execution_count": null,
   "metadata": {
    "collapsed": true
   },
   "outputs": [],
   "source": [
    "# An example of an if else statement\n",
    "x = 9\n",
    "if x < 10:\n",
    "    print('x is less than 10')\n",
    "else:\n",
    "    print('x is greater than or equal to 10')"
   ]
  },
  {
   "cell_type": "markdown",
   "metadata": {},
   "source": [
    "### Chained conditional statements\n",
    "\n",
    "Sometimes there are more than two possibilities and we need more than two branches. One way to express a computation like that is a chained conditional, which adds **elif** to our syntax:"
   ]
  },
  {
   "cell_type": "raw",
   "metadata": {},
   "source": [
    "if x < y:\n",
    "    STATEMENTS_A\n",
    "elif x > y:\n",
    "    STATEMENTS_B\n",
    "else:\n",
    "    STATEMENTS_C"
   ]
  },
  {
   "cell_type": "markdown",
   "metadata": {},
   "source": [
    "<img src='images/flowchart_nested_conditional.png'>"
   ]
  },
  {
   "cell_type": "code",
   "execution_count": null,
   "metadata": {
    "collapsed": true
   },
   "outputs": [],
   "source": [
    "# if the first if statement evaluates to false, you can add other Boolean tests using elif (short for Else If).\n",
    "# elif executes a code block if its condition is true\n",
    "# Else executes a code block if no preceding if or elif evaluated to true, it catches everything else.\n",
    "x = 10\n",
    "if x < 10:\n",
    "    print('x is less than 10')\n",
    "elif x == 10:\n",
    "    print('x equals 10')\n",
    "else:\n",
    "    print('x is greater than 10')"
   ]
  },
  {
   "cell_type": "markdown",
   "metadata": {},
   "source": [
    "## Iteration\n",
    "\n",
    "One of the most powerful tools in programming is its capacity to automate repetitive tasks.  Much of this comes from functionality to apply operations iteratively.  We review here some of the ways to use this functionality in Python.\n",
    "\n",
    "A very useful thing to know is that many of the data types we have looked at are **iterable**.  That means that Python already knows how to iterate over its elements.  "
   ]
  },
  {
   "cell_type": "markdown",
   "metadata": {},
   "source": [
    "### For statement"
   ]
  },
  {
   "cell_type": "markdown",
   "metadata": {},
   "source": [
    "The for statement is used to iterate over the elements of a sequence. Their form looks like this:\n"
   ]
  },
  {
   "cell_type": "raw",
   "metadata": {},
   "source": [
    "for LOOP_VARIABLE in SEQUENCE:\n",
    "    STATEMENTS"
   ]
  },
  {
   "cell_type": "code",
   "execution_count": null,
   "metadata": {
    "collapsed": true
   },
   "outputs": [],
   "source": [
    "# example of a for loop to iterate through each character in the string\n",
    "sentence = 'This is CP255'\n",
    "for character in sentence:\n",
    "    print(character, end='_')"
   ]
  },
  {
   "cell_type": "markdown",
   "metadata": {},
   "source": [
    "Notice the use of the 'end=' in the print statement.  What would the output look like without that?"
   ]
  },
  {
   "cell_type": "code",
   "execution_count": null,
   "metadata": {
    "collapsed": true
   },
   "outputs": [],
   "source": [
    "# example of looping through a list, backwards\n",
    "list_a = [1, 2, 3, 4, 5]\n",
    "for item in reversed(list_a):\n",
    "    print(item)"
   ]
  },
  {
   "cell_type": "code",
   "execution_count": null,
   "metadata": {
    "collapsed": true,
    "scrolled": true
   },
   "outputs": [],
   "source": [
    "# iterate through the list, printing each element multiplied by 2\n",
    "numbers = [2, 4, 6, 8, 10]\n",
    "for number in numbers:\n",
    "    print(number * 2)"
   ]
  },
  {
   "cell_type": "markdown",
   "metadata": {},
   "source": [
    "Below we use extended slice syntax to iterate in reverse. It works by doing [begin:end:step] - by leaving begin and end off and specifying a step of -1, it prints the list elements, multiplied by 2, in reverse."
   ]
  },
  {
   "cell_type": "code",
   "execution_count": null,
   "metadata": {
    "collapsed": true,
    "scrolled": true
   },
   "outputs": [],
   "source": [
    "# iterate through the list in reverse, printing each element multiplied by 2\n",
    "for number in numbers[::-1]:\n",
    "    print(number * 2)"
   ]
  },
  {
   "cell_type": "markdown",
   "metadata": {},
   "source": [
    "### While statement\n",
    "\n",
    "Like the branching statements and the for loop, the **while** statement is a compound statement consisting of a header and a body. A while loop executes an unknown number of times, as long at the BOOLEAN EXPRESSION is true. Their general form looks like this:"
   ]
  },
  {
   "cell_type": "raw",
   "metadata": {},
   "source": [
    "while BOOLEAN_EXPRESSION:\n",
    "    STATEMENTS"
   ]
  },
  {
   "cell_type": "code",
   "execution_count": null,
   "metadata": {
    "collapsed": true
   },
   "outputs": [],
   "source": [
    "# Example of a while expression\n",
    "number = 0\n",
    "prompt = \"What is the meaning of life, the universe, and everything? \"\n",
    "\n",
    "while number != \"42\":\n",
    "    number =  input(prompt)"
   ]
  },
  {
   "cell_type": "markdown",
   "metadata": {},
   "source": [
    "The while loop tells the computer to do something as long as the condition is met. \n",
    "Its construct consists of a block of code and a condition. \n",
    "The condition is evaluated, and if the condition is true, the code within the\n",
    "block is executed. \n",
    "\n",
    "#### What happens if you have a while loop that never meets the criteria to exit?  An INFINITE LOOP!  Be careful!"
   ]
  },
  {
   "cell_type": "code",
   "execution_count": null,
   "metadata": {
    "collapsed": true
   },
   "outputs": [],
   "source": [
    "# a while loop repeats as long as some condition is True\n",
    "# Be very careful to increment or decrement a counter variable\n",
    "# to be sure there is an exit condition, or you'll have an infinite loop\n",
    "x = 5\n",
    "while x > 0:\n",
    "    print(x, end='...')\n",
    "    x = x - 1\n",
    "print('blast off!')"
   ]
  },
  {
   "cell_type": "code",
   "execution_count": null,
   "metadata": {
    "collapsed": true
   },
   "outputs": [],
   "source": [
    "# add the numbers 0 to 10 to a list\n",
    "my_list = []\n",
    "x = 0\n",
    "while x < 10:\n",
    "    my_list.append(x)\n",
    "    x = x + 1 \n",
    "my_list"
   ]
  },
  {
   "cell_type": "code",
   "execution_count": null,
   "metadata": {
    "collapsed": true
   },
   "outputs": [],
   "source": [
    "# create a list of even numbers smaller than 20\n",
    "\n",
    "even_numbers=[]\n",
    "x=2\n",
    "while x < 20:\n",
    "    even_numbers.append(x)\n",
    "    x = x + 2\n",
    "even_numbers\n"
   ]
  },
  {
   "cell_type": "markdown",
   "metadata": {},
   "source": [
    "#### Your turn -- iterate through the even_numbers list, creating a new list 'double' with each element multiplied by 2"
   ]
  },
  {
   "cell_type": "code",
   "execution_count": null,
   "metadata": {
    "collapsed": true
   },
   "outputs": [],
   "source": []
  },
  {
   "cell_type": "code",
   "execution_count": null,
   "metadata": {
    "collapsed": true
   },
   "outputs": [],
   "source": [
    "# print out only the ints in a list of mixed int and floats\n",
    "my_list = [3.3, 19.75, 6, 3.3, 8]\n",
    "for element in my_list:\n",
    "    if isinstance(element, int):\n",
    "        print(element, end=' ')"
   ]
  },
  {
   "cell_type": "markdown",
   "metadata": {
    "collapsed": true
   },
   "source": [
    "### More Ways to Use Loops\n",
    "\n",
    "#### Dictionaries"
   ]
  },
  {
   "cell_type": "code",
   "execution_count": null,
   "metadata": {
    "collapsed": true,
    "scrolled": true
   },
   "outputs": [],
   "source": [
    "# Using items to retrieve corresponding key, value pairs from a dictionary\n",
    "knights = {'gallahad': 'the pure', 'robin': 'the brave'}\n",
    "for k, v in knights.items():\n",
    "    print(k, v)"
   ]
  },
  {
   "cell_type": "markdown",
   "metadata": {},
   "source": [
    "Note that you can use two variables, called k and v here, to iterate through Keys and Values in the dictionary"
   ]
  },
  {
   "cell_type": "markdown",
   "metadata": {},
   "source": [
    "#### Enumerate"
   ]
  },
  {
   "cell_type": "code",
   "execution_count": null,
   "metadata": {
    "collapsed": true,
    "scrolled": true
   },
   "outputs": [],
   "source": [
    "# Using the enumerate() function to retrieve the position index and value from a sequence\n",
    "for i, v in enumerate(['tic', 'tac', 'toe']):\n",
    "    print(i, v)"
   ]
  },
  {
   "cell_type": "markdown",
   "metadata": {},
   "source": [
    "In this example we also use two variables to iterate, but since the list (unlike a dictionary) in this case just has a simple list of elements, the first variable refers to the index position."
   ]
  },
  {
   "cell_type": "markdown",
   "metadata": {},
   "source": [
    "#### Format "
   ]
  },
  {
   "cell_type": "markdown",
   "metadata": {},
   "source": [
    "In the example below we use the str.format() method to substitute values into a string:\n",
    "\n",
    "The brackets and characters within them (called format fields) are replaced with the objects passed into the str.format() method. A number in the brackets can be used to refer to the position of the object passed into the str.format() method."
   ]
  },
  {
   "cell_type": "code",
   "execution_count": null,
   "metadata": {
    "collapsed": true,
    "scrolled": true
   },
   "outputs": [],
   "source": [
    "# Looping over two lists together, paired using zip, which creates a iterable sequence of tuples\n",
    "questions = ['name', 'quest', 'favorite color']\n",
    "answers = ['lancelot', 'the holy grail', 'blue']\n",
    "for q, a in zip(questions, answers):\n",
    "    print('What is your {0}?  It is {1}.'.format(q, a))\n"
   ]
  },
  {
   "cell_type": "markdown",
   "metadata": {},
   "source": [
    "#### Sorting"
   ]
  },
  {
   "cell_type": "code",
   "execution_count": null,
   "metadata": {
    "collapsed": true,
    "scrolled": true
   },
   "outputs": [],
   "source": [
    "# Looping over a sequence in reverse order, by constructing the sequence and then calling a reversed() function\n",
    "for i in reversed(range(1, 10, 2)):\n",
    "    print(i)"
   ]
  },
  {
   "cell_type": "code",
   "execution_count": null,
   "metadata": {
    "collapsed": true
   },
   "outputs": [],
   "source": [
    "# Loop over a sorted sequence, leaving the original sequence unaltered\n",
    "basket = ['apple', 'orange', 'apple', 'pear', 'orange', 'banana']\n",
    "for f in sorted(basket):\n",
    "    print(f)\n",
    "    \n",
    "print(basket)"
   ]
  },
  {
   "cell_type": "markdown",
   "metadata": {},
   "source": [
    "What if we wanted to just list the unique values of the list...?"
   ]
  },
  {
   "cell_type": "code",
   "execution_count": null,
   "metadata": {
    "collapsed": true
   },
   "outputs": [],
   "source": [
    "# Loop over a sorted sequence, leaving the original sequence unaltered\n",
    "basket = ['apple', 'orange', 'apple', 'pear', 'orange', 'banana']\n",
    "for f in sorted(set(basket)):\n",
    "    print(f)\n",
    "    \n",
    "print(basket)"
   ]
  },
  {
   "cell_type": "markdown",
   "metadata": {},
   "source": [
    "### Break statement\n",
    "\n",
    "The **break** statement is used to immediately leave the body of its loop. The next statement to be executed is the first one after the body:"
   ]
  },
  {
   "cell_type": "code",
   "execution_count": null,
   "metadata": {
    "collapsed": true,
    "scrolled": true
   },
   "outputs": [],
   "source": [
    "# step through a list of integers and print even numbers until you reach an odd number, then exit the loop \n",
    "# and print done\n",
    "for i in [12, 16, 17, 24, 29]:\n",
    "    if i % 2 == 1:  # if the number is odd\n",
    "        break        # immediately exit the loop\n",
    "    print(i)\n",
    "print(\"done\")"
   ]
  },
  {
   "cell_type": "markdown",
   "metadata": {},
   "source": [
    "### Continue statement\n",
    "\n",
    "This is a control flow statement that causes the program to immediately skip the processing of the rest of the body of the loop, for the current iteration. But the loop still carries on running for its remaining iterations:"
   ]
  },
  {
   "cell_type": "code",
   "execution_count": null,
   "metadata": {
    "collapsed": true
   },
   "outputs": [],
   "source": [
    "# step through the list but continue the loop if you encounter an odd number, skipping the odd number\n",
    "for i in [12, 16, 17, 24, 29, 30]:\n",
    "    if i % 2 == 1:      # if the number is odd\n",
    "        continue        # don't process it\n",
    "    print(i)\n",
    "print(\"done\")"
   ]
  },
  {
   "cell_type": "markdown",
   "metadata": {},
   "source": [
    "### Range Function\n",
    "\n",
    "The Python range function in Python 3 creates a new object that is of type range, which is iterable.  In Python 2, range created a list."
   ]
  },
  {
   "cell_type": "code",
   "execution_count": null,
   "metadata": {
    "collapsed": true
   },
   "outputs": [],
   "source": [
    "# the range function returns a list of numbers from 0 up to (but not including) the value in the argument\n",
    "a = range(10)\n",
    "print(a)\n",
    "print(list(a))"
   ]
  },
  {
   "cell_type": "code",
   "execution_count": null,
   "metadata": {
    "collapsed": true
   },
   "outputs": [],
   "source": [
    "# because range goes up to but does not include the ending number, you can add 1 to capture it\n",
    "n = 10\n",
    "list(range(n + 1))"
   ]
  },
  {
   "cell_type": "code",
   "execution_count": null,
   "metadata": {
    "collapsed": true
   },
   "outputs": [],
   "source": [
    "# range optionally lets you specify a starting number, an ending number, and a step as arguments\n",
    "numbers = range(2, 12, 2)\n",
    "print(numbers)\n",
    "list(numbers)"
   ]
  },
  {
   "cell_type": "code",
   "execution_count": null,
   "metadata": {
    "collapsed": true
   },
   "outputs": [],
   "source": [
    "# reversing the list of numbers by stepping through the list from last to first\n",
    "list(numbers)[::-1]"
   ]
  },
  {
   "cell_type": "code",
   "execution_count": null,
   "metadata": {
    "collapsed": true
   },
   "outputs": [],
   "source": [
    "# you can do the same thing with variables\n",
    "start = 2\n",
    "end = 12\n",
    "step = 2\n",
    "list(range(start, end, step))"
   ]
  },
  {
   "cell_type": "code",
   "execution_count": null,
   "metadata": {
    "collapsed": true
   },
   "outputs": [],
   "source": [
    "# Another example of a for loop using a range operator to generate a table of x an x-squared\n",
    "for i in range(10):\n",
    "    print(i, i**2)"
   ]
  },
  {
   "cell_type": "markdown",
   "metadata": {},
   "source": [
    "### List Comprehension\n",
    "\n",
    "A list comprehension is a syntactic construct that enables lists to be created from other lists using a compact, mathematical syntax:"
   ]
  },
  {
   "cell_type": "raw",
   "metadata": {},
   "source": [
    "[expr for  item1 in  seq1 for item2 in seq2 ... for itemx in seqx if condition]"
   ]
  },
  {
   "cell_type": "markdown",
   "metadata": {},
   "source": [
    "which is functionally the same as the syntax below, but much more concise:"
   ]
  },
  {
   "cell_type": "raw",
   "metadata": {},
   "source": [
    "output_sequence = []\n",
    "for item1 in seq1:\n",
    "    for item2 in seq2:\n",
    "        ...\n",
    "            for itemx in seqx:\n",
    "                if condition:\n",
    "                    output_sequence.append(expr)\n"
   ]
  },
  {
   "cell_type": "markdown",
   "metadata": {},
   "source": [
    "Some simple examples should make this clearer:"
   ]
  },
  {
   "cell_type": "code",
   "execution_count": null,
   "metadata": {
    "collapsed": true
   },
   "outputs": [],
   "source": [
    "# list comprehension lets you create a list based on some expression\n",
    "new_list = [x for x in range(5)]\n",
    "new_list"
   ]
  },
  {
   "cell_type": "code",
   "execution_count": null,
   "metadata": {
    "collapsed": true
   },
   "outputs": [],
   "source": [
    "# you can perform operations within a list comprehension\n",
    "[ x + 1 for x in range(5) ]"
   ]
  },
  {
   "cell_type": "markdown",
   "metadata": {},
   "source": [
    "Notice how embedding the list comprehension in square brackets automaticallt produced a list"
   ]
  },
  {
   "cell_type": "code",
   "execution_count": null,
   "metadata": {
    "collapsed": true
   },
   "outputs": [],
   "source": [
    "# you can use list comprehension to convert a list of ints to a new list of strings\n",
    "string_list = [str(x * 2) for x in range(2, 12, 2)]\n",
    "string_list"
   ]
  },
  {
   "cell_type": "code",
   "execution_count": null,
   "metadata": {
    "collapsed": true
   },
   "outputs": [],
   "source": [
    "# square a list of numbers\n",
    "numbers = [1, 2, 3, 4]\n",
    "[x**2 for x in numbers]"
   ]
  },
  {
   "cell_type": "code",
   "execution_count": null,
   "metadata": {
    "collapsed": true
   },
   "outputs": [],
   "source": [
    "# conditional execution within a list comprehension\n",
    "[x**2 for x in numbers if x**2 > 8]"
   ]
  },
  {
   "cell_type": "code",
   "execution_count": null,
   "metadata": {
    "collapsed": true
   },
   "outputs": [],
   "source": [
    "# multiple calculations embedded in list comprehension\n",
    "[(x, x**2, x**3) for x in numbers]"
   ]
  },
  {
   "cell_type": "code",
   "execution_count": null,
   "metadata": {
    "collapsed": true
   },
   "outputs": [],
   "source": [
    "# An example testing the values of a list based on a substring\n",
    "files = ['bin', 'Data', 'Desktop', '.bashrc', '.ssh', '.vimrc']\n",
    "[name for name in files if name[0] != '.']"
   ]
  },
  {
   "cell_type": "code",
   "execution_count": null,
   "metadata": {
    "collapsed": true
   },
   "outputs": [],
   "source": []
  }
 ],
 "metadata": {
  "kernelspec": {
   "display_name": "Python 3",
   "language": "python",
   "name": "python3"
  },
  "language_info": {
   "codemirror_mode": {
    "name": "ipython",
    "version": 3
   },
   "file_extension": ".py",
   "mimetype": "text/x-python",
   "name": "python",
   "nbconvert_exporter": "python",
   "pygments_lexer": "ipython3",
   "version": "3.6.2"
  }
 },
 "nbformat": 4,
 "nbformat_minor": 1
}
