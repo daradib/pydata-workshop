{
 "cells": [
  {
   "cell_type": "markdown",
   "metadata": {
    "slideshow": {
     "slide_type": "slide"
    }
   },
   "source": [
    "***\n",
    "# Programming Logic in Python - Part 1\n",
    "***"
   ]
  },
  {
   "cell_type": "markdown",
   "metadata": {
    "slideshow": {
     "slide_type": "subslide"
    }
   },
   "source": [
    "So far we have learned about Python **data types** and some of the functions available to operate on them. We managed to do a bit of **functional programming** to reorganize the contents of a string into a different string.\n",
    "\n",
    "Programming requires more tools. This session will focus on the following tools:\n",
    "\n",
    "* **Booleans** - test whether a condition is met or not\n",
    "* **Conditionals** - do something based on whether a condition is met or not\n",
    "* **Iteration** - do something repeatedly"
   ]
  },
  {
   "cell_type": "markdown",
   "metadata": {
    "slideshow": {
     "slide_type": "slide"
    }
   },
   "source": [
    "## Booleans"
   ]
  },
  {
   "cell_type": "markdown",
   "metadata": {},
   "source": [
    "A Boolean expression can be evaluated by Python as being `True` or `False`. You can think of it having Python tell you if you are right or not in making an assertion. A fact checker, in a sense.\n",
    "\n",
    "It does not pass moral judgments. No room for ambiguity or grey areas in working with Booleans.\n",
    "\n",
    "The `==` operator is an assertion that what is on the left of it is **equal to** what is on its right. The` >=` operator is **greater than or equal to**, and `!=` asserts that two objects are **not equal**.\n",
    "\n",
    "Booleans are a pre-requisite for creating code that can branch depending on the outcome of a condition. That condition is generally based on a Boolean test."
   ]
  },
  {
   "cell_type": "markdown",
   "metadata": {
    "slideshow": {
     "slide_type": "subslide"
    }
   },
   "source": [
    "Use `==` to evaluate whether both sides are equal:"
   ]
  },
  {
   "cell_type": "code",
   "execution_count": 1,
   "metadata": {},
   "outputs": [
    {
     "data": {
      "text/plain": [
       "True"
      ]
     },
     "execution_count": 1,
     "metadata": {},
     "output_type": "execute_result"
    }
   ],
   "source": [
    "2 + 2 == 4"
   ]
  },
  {
   "cell_type": "code",
   "execution_count": 2,
   "metadata": {},
   "outputs": [
    {
     "data": {
      "text/plain": [
       "False"
      ]
     },
     "execution_count": 2,
     "metadata": {},
     "output_type": "execute_result"
    }
   ],
   "source": [
    "Democrats = 11\n",
    "Republicans = 1\n",
    "\n",
    "Democrats == Republicans"
   ]
  },
  {
   "cell_type": "markdown",
   "metadata": {
    "slideshow": {
     "slide_type": "fragment"
    }
   },
   "source": [
    "Don't be confused by the similarity of `=` and `==`: one is an **assignment** of a value to a variable, and the other is a **comparison operator**."
   ]
  },
  {
   "cell_type": "code",
   "execution_count": 3,
   "metadata": {
    "slideshow": {
     "slide_type": "subslide"
    },
    "tags": []
   },
   "outputs": [
    {
     "name": "stdout",
     "output_type": "stream",
     "text": [
      "Democrats 11\n",
      "Republicans 1\n"
     ]
    }
   ],
   "source": [
    "print(\"Democrats\", Democrats)\n",
    "print(\"Republicans\", Republicans)"
   ]
  },
  {
   "cell_type": "code",
   "execution_count": 4,
   "metadata": {
    "slideshow": {
     "slide_type": "fragment"
    }
   },
   "outputs": [
    {
     "data": {
      "text/plain": [
       "True"
      ]
     },
     "execution_count": 4,
     "metadata": {},
     "output_type": "execute_result"
    }
   ],
   "source": [
    "# greater than\n",
    "Democrats > 10"
   ]
  },
  {
   "cell_type": "code",
   "execution_count": 5,
   "metadata": {
    "slideshow": {
     "slide_type": "fragment"
    }
   },
   "outputs": [
    {
     "data": {
      "text/plain": [
       "True"
      ]
     },
     "execution_count": 5,
     "metadata": {},
     "output_type": "execute_result"
    }
   ],
   "source": [
    "# greater than or equal to\n",
    "Democrats >= 1"
   ]
  },
  {
   "cell_type": "code",
   "execution_count": 6,
   "metadata": {
    "slideshow": {
     "slide_type": "fragment"
    }
   },
   "outputs": [
    {
     "data": {
      "text/plain": [
       "True"
      ]
     },
     "execution_count": 6,
     "metadata": {},
     "output_type": "execute_result"
    }
   ],
   "source": [
    "# not equal\n",
    "Democrats != Republicans"
   ]
  },
  {
   "cell_type": "markdown",
   "metadata": {
    "slideshow": {
     "slide_type": "subslide"
    }
   },
   "source": [
    "We can also test whether something is contained in another object:"
   ]
  },
  {
   "cell_type": "code",
   "execution_count": 7,
   "metadata": {
    "tags": []
   },
   "outputs": [
    {
     "data": {
      "text/plain": [
       "True"
      ]
     },
     "execution_count": 7,
     "metadata": {},
     "output_type": "execute_result"
    }
   ],
   "source": [
    "word = \"teapot\"\n",
    "sentence = \"I'm a teapot\"\n",
    "word in sentence"
   ]
  },
  {
   "cell_type": "markdown",
   "metadata": {
    "slideshow": {
     "slide_type": "fragment"
    }
   },
   "source": [
    "Or whether it is not contained:"
   ]
  },
  {
   "cell_type": "code",
   "execution_count": 8,
   "metadata": {
    "tags": []
   },
   "outputs": [
    {
     "data": {
      "text/plain": [
       "False"
      ]
     },
     "execution_count": 8,
     "metadata": {},
     "output_type": "execute_result"
    }
   ],
   "source": [
    "word not in sentence"
   ]
  },
  {
   "cell_type": "markdown",
   "metadata": {
    "slideshow": {
     "slide_type": "subslide"
    }
   },
   "source": [
    "### Boolean operators\n",
    "\n",
    " * **`and`** - all conditions are `True`\n",
    " * **`or`** - any condition is `True` (including all)\n",
    " * **`not`** - negates condition"
   ]
  },
  {
   "cell_type": "code",
   "execution_count": 9,
   "metadata": {},
   "outputs": [],
   "source": [
    "c = 5"
   ]
  },
  {
   "cell_type": "code",
   "execution_count": 10,
   "metadata": {},
   "outputs": [
    {
     "data": {
      "text/plain": [
       "False"
      ]
     },
     "execution_count": 10,
     "metadata": {},
     "output_type": "execute_result"
    }
   ],
   "source": [
    "# all conditions are True\n",
    "c > 2 and c < 5"
   ]
  },
  {
   "cell_type": "code",
   "execution_count": 11,
   "metadata": {},
   "outputs": [
    {
     "data": {
      "text/plain": [
       "True"
      ]
     },
     "execution_count": 11,
     "metadata": {},
     "output_type": "execute_result"
    }
   ],
   "source": [
    "# any condition is True\n",
    "c > 2 or c < 5"
   ]
  },
  {
   "cell_type": "code",
   "execution_count": 12,
   "metadata": {},
   "outputs": [
    {
     "data": {
      "text/plain": [
       "True"
      ]
     },
     "execution_count": 12,
     "metadata": {},
     "output_type": "execute_result"
    }
   ],
   "source": [
    "# equivalent to c >= 5\n",
    "not c < 5"
   ]
  },
  {
   "cell_type": "markdown",
   "metadata": {
    "slideshow": {
     "slide_type": "subslide"
    }
   },
   "source": [
    "### `%` operator\n",
    "\n",
    "Here is an example using the modulo operator `%` which returns the remainder from the division of two integers.\n",
    "\n",
    "For example, `10 % 5` is 0 since 5 goes into 10 twice, with nothing left over. `10 % 3` is 1, since 3 goes into 10 three times, with one left over."
   ]
  },
  {
   "cell_type": "code",
   "execution_count": 13,
   "metadata": {},
   "outputs": [
    {
     "data": {
      "text/plain": [
       "1"
      ]
     },
     "execution_count": 13,
     "metadata": {},
     "output_type": "execute_result"
    }
   ],
   "source": [
    "10 % 3"
   ]
  },
  {
   "cell_type": "markdown",
   "metadata": {
    "slideshow": {
     "slide_type": "fragment"
    }
   },
   "source": [
    "We can use `n % 2 == 0` to check for even numbers:"
   ]
  },
  {
   "cell_type": "code",
   "execution_count": 14,
   "metadata": {},
   "outputs": [
    {
     "data": {
      "text/plain": [
       "True"
      ]
     },
     "execution_count": 14,
     "metadata": {},
     "output_type": "execute_result"
    }
   ],
   "source": [
    "n = 1024\n",
    "n % 2 == 0"
   ]
  },
  {
   "cell_type": "markdown",
   "metadata": {
    "slideshow": {
     "slide_type": "slide"
    }
   },
   "source": [
    "## Conditional statements: controlling the flow of program execution"
   ]
  },
  {
   "cell_type": "markdown",
   "metadata": {},
   "source": [
    "Now that we know that we can construct Boolean tests for a wide variety of situations, let's explore how they can help us in constructing **conditional execution**.\n",
    "\n",
    "We often need to have program code that **branches** based on specific conditions. If one condition exists, do some specific things. If a different condition exists, do some other specific things. Let's look at how this works.\n",
    "\n",
    "Some figures and examples are taken from [Beginning Python Programming for Aspiring Web Developers](https://www.openbookproject.net/books/bpp4awd/) by Jeffrey Elkner."
   ]
  },
  {
   "cell_type": "markdown",
   "metadata": {
    "slideshow": {
     "slide_type": "subslide"
    }
   },
   "source": [
    "We can visualize conditional execution with **flow charts**.\n",
    "\n",
    "![flow_charts](https://imgs.xkcd.com/comics/flow_charts.png)"
   ]
  },
  {
   "cell_type": "markdown",
   "metadata": {
    "slideshow": {
     "slide_type": "subslide"
    }
   },
   "source": [
    "### The `if` statement\n",
    "\n",
    "The **`if`** statement is a conditional statement with the following form:\n",
    "\n",
    "    if CONDITION:\n",
    "        STATEMENTS"
   ]
  },
  {
   "cell_type": "markdown",
   "metadata": {},
   "source": [
    "<img src='images/flowchart_if_only.png'>"
   ]
  },
  {
   "cell_type": "markdown",
   "metadata": {
    "slideshow": {
     "slide_type": "subslide"
    }
   },
   "source": [
    "Note the colon `:` after the `if` statement and the indentation of the block of text to be conditionally executed. Usually 4 spaces are used to indent code. You should remain consistent.\n",
    "\n",
    "Jupyter Notebook automatically indents the line after an `if` statement ending with a colon.\n",
    "\n",
    "The statements to be conditionally executed can be any valid Python statements. They might compute some values, or print some output, or be more if statements to add more nuanced conditions."
   ]
  },
  {
   "cell_type": "code",
   "execution_count": 15,
   "metadata": {},
   "outputs": [
    {
     "name": "stdout",
     "output_type": "stream",
     "text": [
      "8 is less than 10\n"
     ]
    }
   ],
   "source": [
    "# execute indented code only if condition is True\n",
    "x = 8\n",
    "if x < 10:\n",
    "    print(str(x) + \" is less than 10\")"
   ]
  },
  {
   "cell_type": "markdown",
   "metadata": {
    "slideshow": {
     "slide_type": "subslide"
    }
   },
   "source": [
    "We need more logic to handle different input values that may meet different conditions."
   ]
  },
  {
   "cell_type": "code",
   "execution_count": 16,
   "metadata": {
    "tags": []
   },
   "outputs": [
    {
     "name": "stdout",
     "output_type": "stream",
     "text": [
      "3.5 is between 3 and 6\n"
     ]
    }
   ],
   "source": [
    "# combine conditions with Boolean operators\n",
    "x = 3.5\n",
    "if x >= 3 and x <= 6:\n",
    "    print(x, \"is between 3 and 6\")"
   ]
  },
  {
   "cell_type": "markdown",
   "metadata": {
    "slideshow": {
     "slide_type": "fragment"
    }
   },
   "source": [
    "What happens if you put in a value of `x = 11` so the condition evaluates to `False`? Not much. The code does not have anything to do.\n",
    "\n",
    "By the way, notice that you can print variables and strings together in the `print` function."
   ]
  },
  {
   "cell_type": "markdown",
   "metadata": {
    "slideshow": {
     "slide_type": "subslide"
    }
   },
   "source": [
    "### The `if`-`else` statement\n",
    "\n",
    "It is frequently the case that you want one thing to happen when a condition it `True`, and something else to happen when it is `False`. For that we have the `if`-`else` statement. Its syntax is:\n",
    "\n",
    "    if CONDITION:\n",
    "        STATEMENTS_1  # executed if condition True\n",
    "    else:\n",
    "        STATEMENTS_2  # executed if condition False\n",
    "\n",
    "\n",
    "<img src='images/flowchart_if_else.png'>\n"
   ]
  },
  {
   "cell_type": "markdown",
   "metadata": {
    "slideshow": {
     "slide_type": "subslide"
    }
   },
   "source": [
    "An example of an `if`-`else` statement:"
   ]
  },
  {
   "cell_type": "code",
   "execution_count": 17,
   "metadata": {},
   "outputs": [
    {
     "name": "stdout",
     "output_type": "stream",
     "text": [
      "x is greater than or equal to 10\n"
     ]
    }
   ],
   "source": [
    "x = 10\n",
    "if x < 10:\n",
    "    print(\"x is less than 10\")\n",
    "else:\n",
    "    print(\"x is greater than or equal to 10\")"
   ]
  },
  {
   "cell_type": "markdown",
   "metadata": {
    "slideshow": {
     "slide_type": "subslide"
    }
   },
   "source": [
    "### Chained conditional statements\n",
    "\n",
    "Sometimes there are more than two possibilities and we need more than two branches. One way to express a computation like that is a chained conditional, which adds **`elif`** to our syntax."
   ]
  },
  {
   "cell_type": "markdown",
   "metadata": {
    "slideshow": {
     "slide_type": "subslide"
    }
   },
   "source": [
    "    if x < y:\n",
    "        STATEMENTS_A\n",
    "    elif x > y:\n",
    "        STATEMENTS_B\n",
    "    else:\n",
    "        STATEMENTS_C"
   ]
  },
  {
   "cell_type": "markdown",
   "metadata": {},
   "source": [
    "<img src='images/flowchart_nested_conditional.png'>"
   ]
  },
  {
   "cell_type": "markdown",
   "metadata": {
    "slideshow": {
     "slide_type": "subslide"
    }
   },
   "source": [
    "You can add additional branches using `elif` (short for else if). Similar to `if`, `elif` executes a code block if its condition is true. `else` executes a code block if no preceding `if` or `elif` condition evaluated true -- it catches everything else."
   ]
  },
  {
   "cell_type": "code",
   "execution_count": 18,
   "metadata": {},
   "outputs": [
    {
     "name": "stdout",
     "output_type": "stream",
     "text": [
      "x is greater than 10\n"
     ]
    }
   ],
   "source": [
    "x = 11\n",
    "if x < 10:\n",
    "    print(\"x is less than 10\")\n",
    "elif x == 10:\n",
    "    print(\"x equals 10\")\n",
    "else:\n",
    "    print(\"x is greater than 10\")"
   ]
  },
  {
   "cell_type": "markdown",
   "metadata": {},
   "source": [
    "Once a condition is met, the program executes that block of statements indented below it and then exits the `if` statement block completely."
   ]
  },
  {
   "cell_type": "markdown",
   "metadata": {
    "slideshow": {
     "slide_type": "slide"
    }
   },
   "source": [
    "## Your turn\n",
    "\n",
    "Try out some experiments to make sure you are getting comfortable with the syntax for conditional statements. Try for example, constructing the following tests in code blocks below:\n",
    "\n",
    "* Test whether a city name is in a list of city names (just type a few into a list)\n",
    "* Test first whether a variable value is less than 1000, and if so, whether it is above 500. If not, whether it is above 250. Print a message indicating what range the variable falls in. Test it with several values of the variable to make sure it works correctly."
   ]
  },
  {
   "cell_type": "markdown",
   "metadata": {
    "slideshow": {
     "slide_type": "slide"
    }
   },
   "source": [
    "## Iteration\n",
    "\n",
    "One of the most powerful tools in programming is its capacity to automate repetitive tasks. Much of this comes from functionality to apply operations **iteratively**. We review here some of the ways to use this functionality in Python.\n",
    "\n",
    "A very useful thing to know is that many of the data types we have looked at are **iterable**. That means that Python already knows how to **iterate** over its elements. "
   ]
  },
  {
   "cell_type": "markdown",
   "metadata": {
    "slideshow": {
     "slide_type": "subslide"
    }
   },
   "source": [
    "### `for` statement"
   ]
  },
  {
   "cell_type": "markdown",
   "metadata": {},
   "source": [
    "The `for` statement is used to iterate over the elements of a sequence. Their form looks like this:\n",
    "\n",
    "    for LOOP_VARIABLE in SEQUENCE:\n",
    "        STATEMENTS"
   ]
  },
  {
   "cell_type": "code",
   "execution_count": 19,
   "metadata": {
    "slideshow": {
     "slide_type": "subslide"
    }
   },
   "outputs": [
    {
     "name": "stdout",
     "output_type": "stream",
     "text": [
      "I_'_m_ _a_ _t_e_a_p_o_t_"
     ]
    }
   ],
   "source": [
    "# iterate through each character in the string\n",
    "sentence = \"I'm a teapot\"\n",
    "for character in sentence:\n",
    "    print(character, end=\"_\")"
   ]
  },
  {
   "cell_type": "markdown",
   "metadata": {},
   "source": [
    "The value of the variable `character` will change as we iterate through the iterable sequence.\n",
    "\n",
    "Notice the use of the keyword argument `end=` passed to the `print` function. What would the output look like without that?"
   ]
  },
  {
   "cell_type": "code",
   "execution_count": 20,
   "metadata": {
    "slideshow": {
     "slide_type": "subslide"
    }
   },
   "outputs": [
    {
     "name": "stdout",
     "output_type": "stream",
     "text": [
      "5\n",
      "4\n",
      "3\n",
      "2\n",
      "1\n"
     ]
    }
   ],
   "source": [
    "# iterate through a list, backwards\n",
    "list_a = [1, 2, 3, 4, 5]\n",
    "for item in reversed(list_a):\n",
    "    print(item)"
   ]
  },
  {
   "cell_type": "code",
   "execution_count": 21,
   "metadata": {
    "tags": []
   },
   "outputs": [
    {
     "name": "stdout",
     "output_type": "stream",
     "text": [
      "4\n",
      "8\n",
      "12\n",
      "16\n",
      "20\n"
     ]
    }
   ],
   "source": [
    "# iterate through a list, printing each element multiplied by 2\n",
    "numbers = [2, 4, 6, 8, 10]\n",
    "for number in numbers:\n",
    "    print(number * 2)"
   ]
  },
  {
   "cell_type": "markdown",
   "metadata": {
    "slideshow": {
     "slide_type": "subslide"
    }
   },
   "source": [
    "Below we use extended slice syntax to iterate in reverse. It works by doing `[begin:end:step]` - by leaving begin and end off and specifying a step of -1, it prints the list elements, multiplied by 2, in reverse."
   ]
  },
  {
   "cell_type": "code",
   "execution_count": 22,
   "metadata": {
    "tags": []
   },
   "outputs": [
    {
     "name": "stdout",
     "output_type": "stream",
     "text": [
      "20\n",
      "16\n",
      "12\n",
      "8\n",
      "4\n"
     ]
    }
   ],
   "source": [
    "# iterate through the list in reverse, printing each element multiplied by 2\n",
    "# equivalent to iterating over reversed(numbers)\n",
    "for number in numbers[::-1]:\n",
    "    print(number * 2)"
   ]
  },
  {
   "cell_type": "markdown",
   "metadata": {
    "slideshow": {
     "slide_type": "subslide"
    }
   },
   "source": [
    "### `while` statement\n",
    "\n",
    "Like the branching statements and the `for` statement, the **`while`** statement is a compound statement consisting of a header and a body. A `while` loop executes as long at the condition is true. Their general form looks like this:\n",
    "\n",
    "    while CONDITION:\n",
    "        STATEMENTS"
   ]
  },
  {
   "cell_type": "code",
   "execution_count": 23,
   "metadata": {},
   "outputs": [
    {
     "name": "stdout",
     "output_type": "stream",
     "text": [
      "..........................................You have found the answer!\n"
     ]
    }
   ],
   "source": [
    "# What is the meaning of life, the universe, and everything?\n",
    "number = 0\n",
    "while number != 42:\n",
    "    number += 1  # equivalent to number = number + 1\n",
    "    print(\".\", end=\"\")\n",
    "print(\"You have found the answer!\")"
   ]
  },
  {
   "cell_type": "markdown",
   "metadata": {
    "slideshow": {
     "slide_type": "subslide"
    }
   },
   "source": [
    "The `while` loop tells the computer to do something as long as the condition is met. Its construct consists of a block of code and a condition. The condition is evaluated, and if the condition is true, the code within the\n",
    "block is executed."
   ]
  },
  {
   "cell_type": "code",
   "execution_count": 24,
   "metadata": {},
   "outputs": [
    {
     "name": "stdout",
     "output_type": "stream",
     "text": [
      "5...4...3...2...1...blast off!\n"
     ]
    }
   ],
   "source": [
    "x = 5\n",
    "while x > 0:\n",
    "    print(x, end=\"...\")\n",
    "    x -= 1  # equivalent to x = x - 1\n",
    "print(\"blast off!\")"
   ]
  },
  {
   "cell_type": "markdown",
   "metadata": {
    "slideshow": {
     "slide_type": "subslide"
    }
   },
   "source": [
    "What happens if you have a `while` loop that never meets the condition to exit?  An **infinite loop**.  Here be dragons!"
   ]
  },
  {
   "cell_type": "markdown",
   "metadata": {
    "slideshow": {
     "slide_type": "fragment"
    }
   },
   "source": [
    "![loop](https://imgs.xkcd.com/comics/loop.png)"
   ]
  },
  {
   "cell_type": "code",
   "execution_count": 25,
   "metadata": {
    "slideshow": {
     "slide_type": "subslide"
    }
   },
   "outputs": [
    {
     "data": {
      "text/plain": [
       "[0, 1, 2, 3, 4, 5, 6, 7, 8, 9]"
      ]
     },
     "execution_count": 25,
     "metadata": {},
     "output_type": "execute_result"
    }
   ],
   "source": [
    "# add the numbers 0 to 10 to a list\n",
    "my_list = []\n",
    "x = 0\n",
    "while x < 10:\n",
    "    my_list.append(x)\n",
    "    x += 1  # equivalent to x = x + 1\n",
    "my_list"
   ]
  },
  {
   "cell_type": "code",
   "execution_count": 26,
   "metadata": {
    "slideshow": {
     "slide_type": "fragment"
    }
   },
   "outputs": [
    {
     "data": {
      "text/plain": [
       "[2, 4, 6, 8, 10, 12, 14, 16, 18]"
      ]
     },
     "execution_count": 26,
     "metadata": {},
     "output_type": "execute_result"
    }
   ],
   "source": [
    "# create a list of even numbers smaller than 20\n",
    "even_numbers = []\n",
    "x = 2\n",
    "while x < 20:\n",
    "    even_numbers.append(x)\n",
    "    x += 2  # equivalent to x = x + 2\n",
    "even_numbers"
   ]
  },
  {
   "cell_type": "code",
   "execution_count": 27,
   "metadata": {
    "slideshow": {
     "slide_type": "fragment"
    }
   },
   "outputs": [
    {
     "name": "stdout",
     "output_type": "stream",
     "text": [
      "6 8 "
     ]
    }
   ],
   "source": [
    "# print out only the ints in a list of mixed int and floats\n",
    "my_list = [3.3, 19.75, 6, 3.3, 8]\n",
    "for element in my_list:\n",
    "    if isinstance(element, int):\n",
    "        print(element, end=\" \")"
   ]
  },
  {
   "cell_type": "markdown",
   "metadata": {
    "slideshow": {
     "slide_type": "subslide"
    }
   },
   "source": [
    "### More Ways to Use Loops\n",
    "\n",
    "#### Dictionaries"
   ]
  },
  {
   "cell_type": "code",
   "execution_count": 28,
   "metadata": {
    "tags": []
   },
   "outputs": [
    {
     "name": "stdout",
     "output_type": "stream",
     "text": [
      "gallahad the pure\n",
      "robin the brave\n"
     ]
    }
   ],
   "source": [
    "# Using items to retrieve corresponding key, value pairs from a dictionary\n",
    "knights = {\"gallahad\": \"the pure\", \"robin\": \"the brave\"}\n",
    "for k, v in knights.items():\n",
    "    print(k, v)"
   ]
  },
  {
   "cell_type": "markdown",
   "metadata": {},
   "source": [
    "Here we used a pair of variables, `k` and `v`, to iterate through the keys and values of the dictionary."
   ]
  },
  {
   "cell_type": "markdown",
   "metadata": {
    "slideshow": {
     "slide_type": "subslide"
    }
   },
   "source": [
    "#### `enumerate`"
   ]
  },
  {
   "cell_type": "code",
   "execution_count": 29,
   "metadata": {
    "tags": []
   },
   "outputs": [
    {
     "name": "stdout",
     "output_type": "stream",
     "text": [
      "0 tic\n",
      "1 tac\n",
      "2 toe\n"
     ]
    }
   ],
   "source": [
    "# retrieve the position index and value from a sequence\n",
    "for i, v in enumerate([\"tic\", \"tac\", \"toe\"]):\n",
    "    print(i, v)"
   ]
  },
  {
   "cell_type": "markdown",
   "metadata": {},
   "source": [
    "In this example, we also used a pair of variables to iterate, but the first variable refers to the index position in the list."
   ]
  },
  {
   "cell_type": "markdown",
   "metadata": {
    "slideshow": {
     "slide_type": "subslide"
    }
   },
   "source": [
    "#### `str.format`"
   ]
  },
  {
   "cell_type": "markdown",
   "metadata": {},
   "source": [
    "In the example below we use the `str.format()` method to substitute values into a string.\n",
    "\n",
    "The brackets and characters within them (called format fields) are replaced with the objects passed into the `str.format()` method. A number in the brackets can be used to refer to the position of the object passed into the `str.format()` method."
   ]
  },
  {
   "cell_type": "code",
   "execution_count": 30,
   "metadata": {
    "tags": []
   },
   "outputs": [
    {
     "name": "stdout",
     "output_type": "stream",
     "text": [
      "What is your name?  It is lancelot.\n",
      "What is your quest?  It is the holy grail.\n",
      "What is your favorite color?  It is blue.\n"
     ]
    }
   ],
   "source": [
    "# iterating over two lists combined using zip,\n",
    "# which creates a iterable sequence of tuples\n",
    "questions = [\"name\", \"quest\", \"favorite color\"]\n",
    "answers = [\"lancelot\", \"the holy grail\", \"blue\"]\n",
    "for q, a in zip(questions, answers):\n",
    "    print(\"What is your {0}?  It is {1}.\".format(q, a))"
   ]
  },
  {
   "cell_type": "markdown",
   "metadata": {
    "slideshow": {
     "slide_type": "subslide"
    }
   },
   "source": [
    "#### Sorting"
   ]
  },
  {
   "cell_type": "code",
   "execution_count": 31,
   "metadata": {
    "tags": []
   },
   "outputs": [
    {
     "name": "stdout",
     "output_type": "stream",
     "text": [
      "9\n",
      "7\n",
      "5\n",
      "3\n",
      "1\n"
     ]
    }
   ],
   "source": [
    "# Looping over a sequence in reverse order\n",
    "for i in reversed(range(1, 10, 2)):\n",
    "    print(i)"
   ]
  },
  {
   "cell_type": "code",
   "execution_count": 32,
   "metadata": {
    "slideshow": {
     "slide_type": "fragment"
    }
   },
   "outputs": [
    {
     "name": "stdout",
     "output_type": "stream",
     "text": [
      "apple apple banana orange orange pear \n",
      "original sequence: ['apple', 'orange', 'apple', 'pear', 'orange', 'banana']\n"
     ]
    }
   ],
   "source": [
    "# Loop over a sorted sequence\n",
    "basket = [\"apple\", \"orange\", \"apple\", \"pear\", \"orange\", \"banana\"]\n",
    "for f in sorted(basket):\n",
    "    print(f, end=\" \")\n",
    "print()\n",
    "print(\"original sequence:\", basket)"
   ]
  },
  {
   "cell_type": "markdown",
   "metadata": {
    "slideshow": {
     "slide_type": "subslide"
    }
   },
   "source": [
    "What if we wanted to just list the unique values of the list?"
   ]
  },
  {
   "cell_type": "code",
   "execution_count": 33,
   "metadata": {},
   "outputs": [
    {
     "name": "stdout",
     "output_type": "stream",
     "text": [
      "apple banana orange pear "
     ]
    }
   ],
   "source": [
    "# Loop over a sorted sequence, leaving the original sequence unaltered\n",
    "basket = [\"apple\", \"orange\", \"apple\", \"pear\", \"orange\", \"banana\"]\n",
    "for f in sorted(set(basket)):\n",
    "    print(f, end=\" \")"
   ]
  },
  {
   "cell_type": "markdown",
   "metadata": {},
   "source": [
    "A `set` is like an unordered dictionary with only keys and no values."
   ]
  },
  {
   "cell_type": "markdown",
   "metadata": {
    "slideshow": {
     "slide_type": "subslide"
    }
   },
   "source": [
    "### `break` statement\n",
    "\n",
    "The `break` statement is used to immediately stop execution and exit the body of its loop. The next statement to be executed is the first one after the body."
   ]
  },
  {
   "cell_type": "code",
   "execution_count": 34,
   "metadata": {
    "tags": []
   },
   "outputs": [
    {
     "name": "stdout",
     "output_type": "stream",
     "text": [
      "12\n",
      "16\n",
      "done\n"
     ]
    }
   ],
   "source": [
    "# step through a list of integers and print even numbers\n",
    "# until you reach an odd number, then exit the loop\n",
    "# and print done\n",
    "for i in [12, 16, 17, 24, 29]:\n",
    "    if i % 2 == 1:  # if the number is odd\n",
    "        break  # immediately exit the loop\n",
    "    print(i)\n",
    "print(\"done\")"
   ]
  },
  {
   "cell_type": "markdown",
   "metadata": {
    "slideshow": {
     "slide_type": "subslide"
    }
   },
   "source": [
    "### `continue` statement\n",
    "\n",
    "This control flow statement causes the program to immediately skip the processing of the rest of the body of the loop, for the **current iteration**. The loop still carries on running for its remaining iterations."
   ]
  },
  {
   "cell_type": "code",
   "execution_count": 35,
   "metadata": {},
   "outputs": [
    {
     "name": "stdout",
     "output_type": "stream",
     "text": [
      "12\n",
      "16\n",
      "24\n",
      "30\n",
      "done\n"
     ]
    }
   ],
   "source": [
    "# step through the list but skip over odd numbers\n",
    "for i in [12, 16, 17, 24, 29, 30]:\n",
    "    if i % 2 == 1:  # if the number is odd\n",
    "        continue  # don't process it\n",
    "    print(i)\n",
    "print(\"done\")"
   ]
  },
  {
   "cell_type": "markdown",
   "metadata": {
    "slideshow": {
     "slide_type": "subslide"
    }
   },
   "source": [
    "### Range Function\n",
    "\n",
    "The `range` function creates a new object that is of type `range`, which is iterable."
   ]
  },
  {
   "cell_type": "code",
   "execution_count": 36,
   "metadata": {},
   "outputs": [
    {
     "data": {
      "text/plain": [
       "[0, 1, 2, 3, 4, 5, 6, 7, 8, 9]"
      ]
     },
     "execution_count": 36,
     "metadata": {},
     "output_type": "execute_result"
    }
   ],
   "source": [
    "# the range function covers numbers from 0 up but not including the value\n",
    "a = range(10)\n",
    "list(a)"
   ]
  },
  {
   "cell_type": "code",
   "execution_count": 37,
   "metadata": {
    "slideshow": {
     "slide_type": "fragment"
    }
   },
   "outputs": [
    {
     "data": {
      "text/plain": [
       "[0, 1, 2, 3, 4, 5, 6, 7, 8, 9, 10]"
      ]
     },
     "execution_count": 37,
     "metadata": {},
     "output_type": "execute_result"
    }
   ],
   "source": [
    "# you can add 1 to cover the last value\n",
    "n = 10\n",
    "list(range(n + 1))"
   ]
  },
  {
   "cell_type": "code",
   "execution_count": 38,
   "metadata": {
    "slideshow": {
     "slide_type": "fragment"
    }
   },
   "outputs": [
    {
     "data": {
      "text/plain": [
       "[2, 4, 6, 8, 10]"
      ]
     },
     "execution_count": 38,
     "metadata": {},
     "output_type": "execute_result"
    }
   ],
   "source": [
    "# range optionally lets you specify a starting number,\n",
    "# an ending number, and a step as arguments\n",
    "numbers = range(2, 12, 2)\n",
    "list(numbers)"
   ]
  },
  {
   "cell_type": "code",
   "execution_count": 39,
   "metadata": {
    "slideshow": {
     "slide_type": "subslide"
    }
   },
   "outputs": [
    {
     "data": {
      "text/plain": [
       "[10, 8, 6, 4, 2]"
      ]
     },
     "execution_count": 39,
     "metadata": {},
     "output_type": "execute_result"
    }
   ],
   "source": [
    "# reversing the list of numbers by stepping\n",
    "# through the list from last to first\n",
    "list(numbers)[::-1]"
   ]
  },
  {
   "cell_type": "code",
   "execution_count": 40,
   "metadata": {
    "slideshow": {
     "slide_type": "fragment"
    }
   },
   "outputs": [
    {
     "data": {
      "text/plain": [
       "[10, 8, 6, 4, 2]"
      ]
     },
     "execution_count": 40,
     "metadata": {},
     "output_type": "execute_result"
    }
   ],
   "source": [
    "# you can do the same thing with variables\n",
    "start = 10\n",
    "end = 1\n",
    "step = -2\n",
    "list(range(start, end, step))"
   ]
  },
  {
   "cell_type": "code",
   "execution_count": 41,
   "metadata": {
    "slideshow": {
     "slide_type": "fragment"
    }
   },
   "outputs": [
    {
     "name": "stdout",
     "output_type": "stream",
     "text": [
      "0 0\n",
      "1 1\n",
      "2 4\n",
      "3 9\n",
      "4 16\n",
      "5 25\n",
      "6 36\n",
      "7 49\n",
      "8 64\n",
      "9 81\n"
     ]
    }
   ],
   "source": [
    "# generate a table of x and x-squared using a for loop\n",
    "for i in range(10):\n",
    "    print(i, i**2)"
   ]
  },
  {
   "cell_type": "markdown",
   "metadata": {
    "slideshow": {
     "slide_type": "subslide"
    }
   },
   "source": [
    "### List Comprehension\n",
    "\n",
    "A list comprehension is a syntactic construct that enables lists to be created from other lists using a compact, mathematical syntax:\n",
    "\n",
    "    [expr for  item1 in  seq1 for item2 in seq2 ... for itemx in seqx if condition]\n",
    "    \n",
    "which is functionally the same as the syntax below, but much more concise:\n",
    "\n",
    "    output_sequence = []\n",
    "    for item1 in seq1:\n",
    "        for item2 in seq2:\n",
    "            ...\n",
    "                for itemx in seqx:\n",
    "                    if condition:\n",
    "                        output_sequence.append(expr)"
   ]
  },
  {
   "cell_type": "markdown",
   "metadata": {
    "slideshow": {
     "slide_type": "subslide"
    }
   },
   "source": [
    "Some simple examples should make this clearer:"
   ]
  },
  {
   "cell_type": "code",
   "execution_count": 42,
   "metadata": {},
   "outputs": [
    {
     "data": {
      "text/plain": [
       "[0, 1, 2, 3, 4]"
      ]
     },
     "execution_count": 42,
     "metadata": {},
     "output_type": "execute_result"
    }
   ],
   "source": [
    "# list comprehension lets you create a list based on some expression\n",
    "new_list = [x for x in range(5)]\n",
    "new_list"
   ]
  },
  {
   "cell_type": "code",
   "execution_count": 43,
   "metadata": {
    "slideshow": {
     "slide_type": "fragment"
    }
   },
   "outputs": [
    {
     "data": {
      "text/plain": [
       "[1, 2, 3, 4, 5]"
      ]
     },
     "execution_count": 43,
     "metadata": {},
     "output_type": "execute_result"
    }
   ],
   "source": [
    "# you can perform operations within a list comprehension\n",
    "[x + 1 for x in range(5)]"
   ]
  },
  {
   "cell_type": "markdown",
   "metadata": {},
   "source": [
    "Notice how embedding the list comprehension in square brackets automatically produced a list."
   ]
  },
  {
   "cell_type": "code",
   "execution_count": 44,
   "metadata": {
    "slideshow": {
     "slide_type": "subslide"
    }
   },
   "outputs": [
    {
     "data": {
      "text/plain": [
       "['4', '8', '12', '16', '20']"
      ]
     },
     "execution_count": 44,
     "metadata": {},
     "output_type": "execute_result"
    }
   ],
   "source": [
    "# convert a list of ints to a new list of strings\n",
    "[str(x * 2) for x in range(2, 12, 2)]"
   ]
  },
  {
   "cell_type": "code",
   "execution_count": 45,
   "metadata": {
    "slideshow": {
     "slide_type": "fragment"
    }
   },
   "outputs": [
    {
     "data": {
      "text/plain": [
       "[1, 4, 9, 16]"
      ]
     },
     "execution_count": 45,
     "metadata": {},
     "output_type": "execute_result"
    }
   ],
   "source": [
    "# square a list of numbers\n",
    "numbers = [1, 2, 3, 4]\n",
    "[x**2 for x in numbers]"
   ]
  },
  {
   "cell_type": "code",
   "execution_count": 46,
   "metadata": {
    "slideshow": {
     "slide_type": "fragment"
    }
   },
   "outputs": [
    {
     "data": {
      "text/plain": [
       "[9, 16]"
      ]
     },
     "execution_count": 46,
     "metadata": {},
     "output_type": "execute_result"
    }
   ],
   "source": [
    "# conditional execution\n",
    "[x**2 for x in numbers if x**2 > 8]"
   ]
  },
  {
   "cell_type": "code",
   "execution_count": 47,
   "metadata": {
    "slideshow": {
     "slide_type": "fragment"
    }
   },
   "outputs": [
    {
     "data": {
      "text/plain": [
       "[(1, 1, 1), (2, 4, 8), (3, 9, 27), (4, 16, 64)]"
      ]
     },
     "execution_count": 47,
     "metadata": {},
     "output_type": "execute_result"
    }
   ],
   "source": [
    "# multiple calculations\n",
    "[(x, x**2, x**3) for x in numbers]"
   ]
  },
  {
   "cell_type": "code",
   "execution_count": 48,
   "metadata": {
    "slideshow": {
     "slide_type": "fragment"
    }
   },
   "outputs": [
    {
     "data": {
      "text/plain": [
       "['bin', 'Data', 'Desktop']"
      ]
     },
     "execution_count": 48,
     "metadata": {},
     "output_type": "execute_result"
    }
   ],
   "source": [
    "# filter the values of a list\n",
    "files = [\"bin\", \"Data\", \"Desktop\", \".bashrc\", \".ssh\", \".vimrc\"]\n",
    "[name for name in files if name[0] != \".\"]"
   ]
  }
 ],
 "metadata": {
  "celltoolbar": "Slideshow",
  "kernelspec": {
   "display_name": "Python 3 (ipykernel)",
   "language": "python",
   "name": "python3"
  },
  "language_info": {
   "codemirror_mode": {
    "name": "ipython",
    "version": 3
   },
   "file_extension": ".py",
   "mimetype": "text/x-python",
   "name": "python",
   "nbconvert_exporter": "python",
   "pygments_lexer": "ipython3",
   "version": "3.9.2"
  },
  "rise": {
   "theme": "night"
  }
 },
 "nbformat": 4,
 "nbformat_minor": 4
}
