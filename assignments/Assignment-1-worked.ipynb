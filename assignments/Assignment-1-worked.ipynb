{
 "cells": [
  {
   "cell_type": "markdown",
   "metadata": {},
   "source": [
    "## Assignment 1 | String & List"
   ]
  },
  {
   "cell_type": "markdown",
   "metadata": {},
   "source": [
    "### Exercise 1: Manipulating Lists\n",
    "#### We have two lists, a and b, a=[10,20,30] b=[30,60,90]. Write code that give us the following outputs: [LIST]\n",
    "\n",
    "a. [[10,20,30],[30,60,90]]\n",
    "\n",
    "b. [10,20,30,30,60,90]\n",
    "\n",
    "c. [10,20,60,90]\n",
    "\n",
    "d. [20,40,60]"
   ]
  },
  {
   "cell_type": "code",
   "execution_count": 1,
   "metadata": {},
   "outputs": [
    {
     "name": "stdout",
     "output_type": "stream",
     "text": [
      "[[10, 20, 30], [30, 60, 90]] \n",
      " [[10, 20, 30, 30, 60, 90]] \n",
      " [10, 20, 60, 90] \n",
      " [20, 40, 60]\n"
     ]
    }
   ],
   "source": [
    "a=[10,20,30]\n",
    "b=[30,60,90]\n",
    "\n",
    "\n",
    "A=[a,b]\n",
    "B=[a+b]\n",
    "C= a[:2]+b[1:]\n",
    "D= [i*2 for i in a]\n",
    "\n",
    "print(A,'\\n', B, '\\n',C, '\\n', D)"
   ]
  },
  {
   "cell_type": "markdown",
   "metadata": {},
   "source": [
    "### Exercise 2. Working with Lists\n",
    "\n",
    "Create a list that contains the sums of each of the lists in G. \n",
    "\n",
    "G = [[13,9,8], [14,6,12], [10,13,11], [7,18,9]]\n",
    "\n",
    "Your output should look like:\n",
    "\n",
    "[30, 32, 34, 34]\n",
    "\n",
    "Hint: try computing the sum for just one list first."
   ]
  },
  {
   "cell_type": "code",
   "execution_count": 8,
   "metadata": {},
   "outputs": [
    {
     "data": {
      "text/plain": [
       "[30, 32, 34, 34]"
      ]
     },
     "execution_count": 8,
     "metadata": {},
     "output_type": "execute_result"
    }
   ],
   "source": [
    "G = [[13,9,8], [14,6,12], [10,13,11], [7,18,9]]\n",
    "H = [sum(G[0]), sum(G[1]), sum(G[2]), sum(G[3])]\n",
    "H"
   ]
  },
  {
   "cell_type": "markdown",
   "metadata": {},
   "source": [
    "### Exercise 3: String Manipulation\n",
    "\n",
    "Turn the string below into 'all good countrymen' using the minimum amount of code, using the methods covered so far. A couple of lines of code should do the trick.  Note: this requires string and list methods.\n",
    "\n",
    "s = 'Now is the time for all good men to come to the aid of their country!'"
   ]
  },
  {
   "cell_type": "code",
   "execution_count": 4,
   "metadata": {},
   "outputs": [
    {
     "data": {
      "text/plain": [
       "'all good countrymen'"
      ]
     },
     "execution_count": 4,
     "metadata": {},
     "output_type": "execute_result"
    }
   ],
   "source": [
    "s = 'Now is the time for all good men to come to the aid of their country!'\n",
    "list = s.split(\" \")\n",
    "new = list[5]+ \" \" + list[6] + \" \" + list[-1][:-1] + list[7]\n",
    "new"
   ]
  },
  {
   "cell_type": "markdown",
   "metadata": {},
   "source": [
    "### Exercise 4: String Manipulation and Type Conversion\n",
    "\n",
    "Using variable a, print how much Sarah earns monthly.\n",
    "\n",
    "Start with this:\n",
    "a = \"Sarah earns $96500 in a year\" \n",
    "\n",
    "and try to get a print statement to print this by manipulating the data in a:\n",
    "\n",
    "Sarah earns $8041.67 monthly\n",
    "\n",
    "Start by doing it in several steps and then combine them one step at a time until you can do it in one line."
   ]
  },
  {
   "cell_type": "code",
   "execution_count": 16,
   "metadata": {},
   "outputs": [
    {
     "name": "stdout",
     "output_type": "stream",
     "text": [
      "Sarah earns $8041.67 monthly\n"
     ]
    }
   ],
   "source": [
    "print (\"Sarah earns $\"+str(round(int(a.split()[2][1:])/12,2)), \"monthly\")"
   ]
  }
 ],
 "metadata": {
  "kernelspec": {
   "display_name": "Python 3",
   "language": "python",
   "name": "python3"
  },
  "language_info": {
   "codemirror_mode": {
    "name": "ipython",
    "version": 3
   },
   "file_extension": ".py",
   "mimetype": "text/x-python",
   "name": "python",
   "nbconvert_exporter": "python",
   "pygments_lexer": "ipython3",
   "version": "3.6.5"
  },
  "toc": {
   "base_numbering": 1,
   "nav_menu": {},
   "number_sections": true,
   "sideBar": true,
   "skip_h1_title": false,
   "title_cell": "Table of Contents",
   "title_sidebar": "Contents",
   "toc_cell": false,
   "toc_position": {},
   "toc_section_display": true,
   "toc_window_display": false
  }
 },
 "nbformat": 4,
 "nbformat_minor": 2
}
