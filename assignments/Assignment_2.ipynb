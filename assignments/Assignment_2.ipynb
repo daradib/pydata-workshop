{
 "cells": [
  {
   "cell_type": "markdown",
   "metadata": {},
   "source": [
    "## Assignment 2 | Data types\n",
    "\n",
    "Please answer the following questions. Some will require looking up information that was not presented. This is by design. The goal is to help you learn how to learn, rather than to mechanically repeat material from the presentation."
   ]
  },
  {
   "cell_type": "markdown",
   "metadata": {},
   "source": [
    "### 1. What is the difference between a `list` and a `set` in Python? \n",
    "\n",
    "Provide one example of when you might want to use a set instead of a list. (this was not in the lecture)"
   ]
  },
  {
   "cell_type": "markdown",
   "metadata": {},
   "source": []
  },
  {
   "cell_type": "markdown",
   "metadata": {
    "collapsed": true
   },
   "source": [
    "### 2. Working with NumPy Arrays"
   ]
  },
  {
   "cell_type": "markdown",
   "metadata": {},
   "source": [
    "a. Import `numpy` and `matplotlib.pyplot`. Then create a 10 x 10 array with each cell having the value 3 and assign it to variable name `A`. Make this in one line of code.\n",
    "\n",
    "b. Create another 10 x 10 array containing random uniform numbers from 0 to 1, and assign this to `B`. (Random uniform is different from a random normal distribution, so you should look up the function for this.)\n",
    "\n",
    "c. Create array `C` by dividing `A` by `B`, and then calculate the following percentiles from array `C`: `5,10,25,50,75,90,95`. Hint, try generating one percentile value first and then generate all of them in one step. Your output should look like this (the numbers will vary somewhat since we are using random number generators)\n",
    "\n",
    "    array([  3.1315039 ,   3.35735516,   3.87989637,   5.57505759,\n",
    "            12.66105514,  24.46593497,  70.83864932])"
   ]
  },
  {
   "cell_type": "code",
   "execution_count": null,
   "metadata": {},
   "outputs": [],
   "source": []
  }
 ],
 "metadata": {
  "kernelspec": {
   "display_name": "Python 3 (ipykernel)",
   "language": "python",
   "name": "python3"
  },
  "language_info": {
   "codemirror_mode": {
    "name": "ipython",
    "version": 3
   },
   "file_extension": ".py",
   "mimetype": "text/x-python",
   "name": "python",
   "nbconvert_exporter": "python",
   "pygments_lexer": "ipython3",
   "version": "3.9.2"
  }
 },
 "nbformat": 4,
 "nbformat_minor": 2
}
