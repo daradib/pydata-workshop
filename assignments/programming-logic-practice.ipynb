{
 "cells": [
  {
   "cell_type": "markdown",
   "metadata": {},
   "source": [
    "# Programming Logic in Python - Practice"
   ]
  },
  {
   "cell_type": "markdown",
   "metadata": {},
   "source": [
    "The best way to learn this kind of material is of course to try using it yourself to do something, rather than read code someone else wrote and just understanding that code.  Here are some exercices to practice on."
   ]
  },
  {
   "cell_type": "markdown",
   "metadata": {},
   "source": [
    "## Practice 1: \n",
    "\n",
    "a. create a function that accepts a list of integers (say, 1-9) as an argument and returns a list of fractions of the total of that list.\n",
    "\n",
    "b. Next, limit the number of decimal places in the returned list to 2\n",
    "\n",
    "c. Then, make the number of decimal places a user specified argument to the function\n",
    "\n",
    "d. Make a new function that calculates percentages to two decimal places"
   ]
  },
  {
   "cell_type": "code",
   "execution_count": 1,
   "metadata": {},
   "outputs": [
    {
     "name": "stdout",
     "output_type": "stream",
     "text": [
      "[0.022222222222222223, 0.044444444444444446, 0.06666666666666667, 0.08888888888888889, 0.1111111111111111, 0.13333333333333333, 0.15555555555555556, 0.17777777777777778, 0.2]\n"
     ]
    }
   ],
   "source": [
    "# part a\n",
    "def frac(intlist):\n",
    "    frac_list = []\n",
    "    for i in intlist:\n",
    "        frac_list.append(i / sum(intlist))\n",
    "    return frac_list\n",
    "\n",
    "\n",
    "print(frac(list(range(1, 10))))"
   ]
  },
  {
   "cell_type": "code",
   "execution_count": 2,
   "metadata": {},
   "outputs": [
    {
     "name": "stdout",
     "output_type": "stream",
     "text": [
      "[0.02, 0.04, 0.07, 0.09, 0.11, 0.13, 0.16, 0.18, 0.2]\n"
     ]
    }
   ],
   "source": [
    "# part b\n",
    "def frac(intlist):\n",
    "    frac_list = []\n",
    "    for i in intlist:\n",
    "        frac_list.append(round(i / sum(intlist), 2))\n",
    "    return frac_list\n",
    "\n",
    "\n",
    "print(frac(list(range(1, 10))))"
   ]
  },
  {
   "cell_type": "code",
   "execution_count": 3,
   "metadata": {},
   "outputs": [
    {
     "name": "stdout",
     "output_type": "stream",
     "text": [
      "[0.022, 0.044, 0.067, 0.089, 0.111, 0.133, 0.156, 0.178, 0.2]\n"
     ]
    }
   ],
   "source": [
    "# part c\n",
    "def frac(intlist, dec):\n",
    "    frac_list = []\n",
    "    for i in intlist:\n",
    "        frac_list.append(round(i / sum(intlist), dec))\n",
    "    return frac_list\n",
    "\n",
    "\n",
    "a = list(range(1, 10))\n",
    "print(frac(a, 3))"
   ]
  },
  {
   "cell_type": "code",
   "execution_count": 4,
   "metadata": {},
   "outputs": [
    {
     "name": "stdout",
     "output_type": "stream",
     "text": [
      "[2.22, 4.44, 6.67, 8.89, 11.11, 13.33, 15.56, 17.78, 20.0]\n"
     ]
    }
   ],
   "source": [
    "# part d\n",
    "def pct(intlist, dec):\n",
    "    pct_list = []\n",
    "    for i in intlist:\n",
    "        pct_list.append(round(i / sum(intlist) * 100, dec))\n",
    "    return pct_list\n",
    "\n",
    "\n",
    "a = list(range(1, 10))\n",
    "print(pct(a, 2))"
   ]
  },
  {
   "cell_type": "markdown",
   "metadata": {},
   "source": [
    "## Practice 2:\n",
    "\n",
    "Write a Python function to print the even numbers from a given list."
   ]
  },
  {
   "cell_type": "code",
   "execution_count": 5,
   "metadata": {},
   "outputs": [
    {
     "name": "stdout",
     "output_type": "stream",
     "text": [
      "[2, 4, 6, 8]\n"
     ]
    }
   ],
   "source": [
    "def is_even_num(num):\n",
    "    enum = []\n",
    "    for n in num:\n",
    "        if n % 2 == 0:\n",
    "            enum.append(n)\n",
    "    return enum\n",
    "\n",
    "\n",
    "print(is_even_num([1, 2, 3, 4, 5, 6, 7, 8, 9]))"
   ]
  },
  {
   "cell_type": "markdown",
   "metadata": {},
   "source": [
    "## Practice 3:\n",
    "\n",
    "Write a Python program to count the number of even and odd numbers from a series of numbers."
   ]
  },
  {
   "cell_type": "code",
   "execution_count": 6,
   "metadata": {},
   "outputs": [
    {
     "name": "stdout",
     "output_type": "stream",
     "text": [
      "Number of even numbers : 4\n",
      "Number of odd numbers : 5\n"
     ]
    }
   ],
   "source": [
    "numbers = [1, 2, 3, 4, 5, 6, 7, 8, 9]\n",
    "count_odd = 0\n",
    "count_even = 0\n",
    "for x in numbers:\n",
    "    if not x % 2:\n",
    "        count_even += 1  # this is the same as count_even = count_even+1\n",
    "    else:\n",
    "        count_odd += 1\n",
    "print(\"Number of even numbers :\", count_even)\n",
    "print(\"Number of odd numbers :\", count_odd)"
   ]
  },
  {
   "cell_type": "markdown",
   "metadata": {},
   "source": [
    "##  Practice 4:\n"
   ]
  },
  {
   "cell_type": "markdown",
   "metadata": {},
   "source": [
    "Create a class called `Housing `, adding the following attributes to it. `Type`, `area`, `bedrooms`, `value`, and `yearbuilt`. Create two instances of your class. Finally create a method called `calc_rent` that calculates the estimated monthly rent for each house (supppose that monthly rent is 0.4 percent of the value of the house), and print the rent for both instances."
   ]
  },
  {
   "cell_type": "code",
   "execution_count": 7,
   "metadata": {},
   "outputs": [
    {
     "name": "stdout",
     "output_type": "stream",
     "text": [
      "House_1 rent is $ 3380.0\n",
      "House_2 rent is $ 2640.0\n"
     ]
    }
   ],
   "source": [
    "class Housing:\n",
    "    def __init__(self, Type, area, bedrooms, value, yearbuilt):\n",
    "        self.Type = Type\n",
    "        self.area = area\n",
    "        self.bedrooms = bedrooms\n",
    "        self.value = value\n",
    "        self.yearbuilt = yearbuilt\n",
    "\n",
    "    def calc_rent(self):\n",
    "        return self.value * 0.004\n",
    "\n",
    "\n",
    "House_1 = Housing(\"multi-family\", 656, 1, 845000, \"2017\")\n",
    "House_2 = Housing(\"single-family\", 2100, 5, 660000, \"1914\")\n",
    "\n",
    "print(\"House_1 rent is $\", House_1.calc_rent())\n",
    "print(\"House_2 rent is $\", House_2.calc_rent())"
   ]
  },
  {
   "cell_type": "markdown",
   "metadata": {},
   "source": [
    "## Practice 5:\n",
    "\n",
    "A prime number is any whole number greater than 1 that has no positive divisors besides 1 and itself. So, a prime number a) must be an integer, b) must be greater than 1, and c) must be divisible only by 1 and itself.\n",
    "\n",
    "Write a function `is_prime(n)` that accepts an argument `n` and returns `True` if `n` is a prime number and `False` if `n` is not prime. For example, `is_prime(11)` should return `True` and `is_prime(12)` should return `False`."
   ]
  },
  {
   "cell_type": "code",
   "execution_count": 8,
   "metadata": {},
   "outputs": [
    {
     "data": {
      "text/plain": [
       "True"
      ]
     },
     "execution_count": 8,
     "metadata": {},
     "output_type": "execute_result"
    }
   ],
   "source": [
    "def is_prime(n):\n",
    "    if n < 2:\n",
    "        return False\n",
    "    if n == 2:\n",
    "        return True\n",
    "    if n > 2:\n",
    "        for i in range(2, n):\n",
    "            if n % i == 0:\n",
    "                return False\n",
    "        return True\n",
    "\n",
    "\n",
    "is_prime(11)"
   ]
  }
 ],
 "metadata": {
  "kernelspec": {
   "display_name": "Python 3 (ipykernel)",
   "language": "python",
   "name": "python3"
  },
  "language_info": {
   "codemirror_mode": {
    "name": "ipython",
    "version": 3
   },
   "file_extension": ".py",
   "mimetype": "text/x-python",
   "name": "python",
   "nbconvert_exporter": "python",
   "pygments_lexer": "ipython3",
   "version": "3.9.2"
  }
 },
 "nbformat": 4,
 "nbformat_minor": 1
}
