{
 "cells": [
  {
   "cell_type": "markdown",
   "metadata": {},
   "source": [
    "## Assignment 3 | Programming Logic\n",
    "\n",
    "Reminder: in all the assignments this semester, the answer is not the only consideration, but also how you get to it.  Use the programming techniques you are learning and do the most programmatic way to accomplish the task. Avoid manual data entry and emphasize logic."
   ]
  },
  {
   "cell_type": "markdown",
   "metadata": {},
   "source": [
    "## Problem 1 \n",
    "Write a Python program to count the number of even and odd numbers from a list of numbers.  Pass it a list from 1 to 9 to test it. (No need to write a function on this one)"
   ]
  },
  {
   "cell_type": "code",
   "execution_count": null,
   "metadata": {
    "collapsed": true
   },
   "outputs": [],
   "source": []
  },
  {
   "cell_type": "markdown",
   "metadata": {
    "collapsed": true
   },
   "source": [
    "## Problem 2\n",
    "Write a Python function to return a list containing the even numbers from a list of integers from 1 to 9 passed into the argument."
   ]
  },
  {
   "cell_type": "code",
   "execution_count": null,
   "metadata": {},
   "outputs": [],
   "source": []
  },
  {
   "cell_type": "markdown",
   "metadata": {},
   "source": [
    "## Problem 3\n",
    "\n",
    "a. create a function that accepts a list of integers (say, 1-9) as an argument and returns a list of fractions of the total of that list.\n",
    "\n",
    "b. Next, limit the number of decimal places in the returned list to 2\n",
    "\n",
    "c. Then, make the number of decimal places a user specified argument to the function\n",
    "\n",
    "d. Make a new function that calculates percentages to two decimal places"
   ]
  },
  {
   "cell_type": "code",
   "execution_count": null,
   "metadata": {
    "collapsed": true
   },
   "outputs": [],
   "source": []
  },
  {
   "cell_type": "markdown",
   "metadata": {},
   "source": [
    "## Problem 4\n",
    "A prime number is any whole number greater than 1 that has no positive divisors besides 1 and itself. So, a prime number a) must be an integer, b) must be greater than 1, and c) must be divisible only by 1 and itself.\n",
    "\n",
    "Write a function isPrime(n) that accepts an argument n and returns boolean True if n is a prime number and boolean False if n is not prime. For example, isPrime(11) should return True and isPrime(12) should return False.\n"
   ]
  },
  {
   "cell_type": "code",
   "execution_count": null,
   "metadata": {
    "collapsed": true
   },
   "outputs": [],
   "source": []
  },
  {
   "cell_type": "markdown",
   "metadata": {},
   "source": [
    "## Problem 5"
   ]
  },
  {
   "cell_type": "markdown",
   "metadata": {},
   "source": [
    "Create a class called \" Housing \", adding the following attributes to it. Type, Area, number of bedrooms, value, and year built. Create two instances of your class. And Finally Create a method called rent that calculates the estimated monthly rent for each house (supppose that monthly rent is 0.4 percent of the value of the house), and print the rent for both instances."
   ]
  },
  {
   "cell_type": "code",
   "execution_count": null,
   "metadata": {
    "collapsed": true
   },
   "outputs": [],
   "source": []
  }
 ],
 "metadata": {
  "kernelspec": {
   "display_name": "Python 3",
   "language": "python",
   "name": "python3"
  },
  "language_info": {
   "codemirror_mode": {
    "name": "ipython",
    "version": 3
   },
   "file_extension": ".py",
   "mimetype": "text/x-python",
   "name": "python",
   "nbconvert_exporter": "python",
   "pygments_lexer": "ipython3",
   "version": "3.6.5"
  }
 },
 "nbformat": 4,
 "nbformat_minor": 2
}
