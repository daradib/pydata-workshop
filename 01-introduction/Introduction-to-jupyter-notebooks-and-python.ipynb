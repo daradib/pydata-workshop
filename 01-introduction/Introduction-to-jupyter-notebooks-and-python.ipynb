{
 "cells": [
  {
   "cell_type": "markdown",
   "metadata": {},
   "source": [
    "# Session 1: Introduction to Course, Jupyter Notebooks, and Python\n",
    "## Course Overview\n",
    "\n",
    "This course is intended to provide graduate students in city and regional planning and other disciplines with the basic skills to learn to write your own code and to extend your coding capabilities by leveraging open source software libraries for data science and web mapping.  You should learn in this course how to do your own data processing, spatial and statistical analysis, mapping and data visualization, with code you write in Python.  It is not a traditional GIS course, and relies heavily on free, open source, software.  Why?  Because the explosion of open source tools in the past decade has made it possible for anyone with a willingnes to put in a modest amount of effort to learn how to leverage these tools and build their own, without depending on expensive commercial software.  \n",
    "\n",
    "### Course Learning Objectives and Expectations\n",
    "\n",
    "Over the course of this semester, you will learn:\n",
    "\n",
    "* Fundamentals of programming with Python\n",
    "* Accessing public data from the web with APIs\n",
    "* Cleaning, manipulating, and analyzing urban data\n",
    "* Visualizing data in Python with charts and tables\n",
    "* Developing spatial indicators and mapping urban data\n",
    "\n",
    "The course is structured as a computer lab based course. In each session you will follow along with the lecture and generally also do some experimentation with what we are learning that day.  We will use these Jupyter Notebooks to share lecture notes and code to demonstrate and to experiment with in class and outside of it.  You should install the software used in the course on a computer of your own to be able to work with it outside of the computer lab.\n",
    "\n",
    "We pace the learning by scheduling approximately 10 weekly exercises, front-loaded in the semester to build up your skills and confidence.  To gain more independent skills and experience in applying these to problems that are of interest to you, we have an individual semester project assignment.  Individual projects ensure that you learn these skills with enough independence to become self-sufficient and able to continue building your skills on your own.  At the end of the semester we will have a set of lightning talks, which are optional and can be used in place of one exercise."
   ]
  },
  {
   "cell_type": "markdown",
   "metadata": {},
   "source": [
    "This course is targeted to students who want to learn to develop independent skills in programming and data analysis and visualization using Python.  It *is* appropriate for you if:\n",
    "\n",
    "* You have never done any programming before, but are not afraid to learn and to work independently\n",
    "* You are not afraid of computers and are very comfortable working with your computer.  You should be able to open a command shell and change directories and copy files from the commany line easily, for example, or have no concerns about learning that on your own in an hour. \n",
    "* You are not afraid of experimenting, and failing, and learning from that process until something works, and you get a great sense of satisfaction from figuring things out on your own. You don't want to be spoon-fed.\n",
    "* Your first instinct when something breaks on your computer is -- Google it to see if anyone else already encountered this problem and got an answer for it.  Your Plan B is to read the documentation.  You like to experiment until you figure it out. Your last resort after spending a half hour or an hour and not finding a solution is - to ask someone to help you figure it out -- not to tell you how to do it, but to give you a hint.\n",
    "\n",
    "It is *not* appropriate for you if:\n",
    "* You already have substantial experience with programming in one or more languages, especially in Python, which this course introduces.\n",
    "* You have never heard of the command line and didn't know your computer had a 'shell' you could type commands into.  The very idea of typing commands into a computer sounds horrifying.\n",
    "* You are really uncomfortable with computers and typical applications like Excel, and don't enjoy using computational tools.\n",
    "* You get very stressed out by things not working exactly like the instructions said.  And you hate reading documentation.\n",
    "* Your first instict when something breaks is to ask someone, anyone, to fix it for you.  You would never think of Googling for an answer or reading the documentation and trying to figure it out on your own."
   ]
  },
  {
   "cell_type": "markdown",
   "metadata": {},
   "source": [
    "This is *not* a data science course that introduces you to computational statistics in a rigorous way, but it does provide familiarity with a lot of the tools used for data science.  Think of it as a good foundation for learning data science.  There are other courses that get into more advanced topic in data science, and an Urban Data Science Workshop, which was done experimentally for the first time last year, will be scheduled in the spring to develop deeper skills in programming and data science.\n",
    "\n",
    "The course materials are all online in bcourses, and we will post materials in the files section, specific to each class session.  You will generally begin each class by accessing the materials for that day, downloading them to your computer (either the lab computer or your own laptop), and opening the interactive Jupyter notebook that contains the notes and code for the session.  We will try to incorporate some experimentation into the class sessions, so you can get a better grasp of the material by experimenting with it."
   ]
  },
  {
   "cell_type": "markdown",
   "metadata": {
    "slideshow": {
     "slide_type": "-"
    }
   },
   "source": [
    "\n",
    "## Jupyter Notebooks\n",
    "\n",
    "This first session will cover the basics of Python, and introduce elements that will help you get familiar with Python as an interactive computational environment for exploring data.  The material is presented in an interactive environment that runs within your web browser, called a Jupyter Notebook.  It allows presentation of text and graphics to be combined with Python code that can be run interactively, with the results appearing inline.  We are looking at a Jupyter notebook now.  Note that Jupyter is a relatively recent name for this so sometimes you may still see it referred to as an IPython noteboook.  Jupyter is just the new version of IPython notebooks, but now also supports a variety of other languages and tools.  \n",
    "\n",
    "Let's start by getting familiar with the Jupyter Notebook and how it works.\n",
    "\n",
    "### Launching a Jupyter Notebook at the Command Prompt\n",
    "\n",
    "\n",
    "To begin using a Jupyter Notebook, you need to launch a command prompt (or command shell).  If you don't know what this is, you'll need to get familiar with the command prompt and navigating around on your computer using change directory commands, in order to be able to launch the notebook. The Lab computers have been upgraded to Windows 10.  In this version of Windows, there are multiple ways to open a command prompt - nicely explained here: http://www.howtogeek.com/235101/10-ways-to-open-the-command-prompt-in-windows-10/. \n",
    "\n",
    "On a mac, you can launch the terminal app.  Once you have a shell, navigate (change directory) to whatever directory you want to work in. If you haven't learned how to use a command prompt in windows, this is a good reference for the command prompt in Windows: http://dosprompt.info/. On a mac, the syntax is a bit different since it is based on Linux.  Here is a reference for commands on the mac: http://ss64.com/osx/, or a simpler version here: http://www.dummies.com/how-to/content/how-to-use-basic-unix-commands-to-work-in-terminal.html. You'll need to use the command prompt from the beginning, so get comfortable with basic commands this week if you are not already.\n",
    "\n",
    "Download this notebook from the link in the calendar event for this session on the class bspace site.  Save it to disk somewhere, like Downloads, or some other location (but just remember where you put it).  At the command prompt, cd to that location, and type:\n",
    "\n",
    "jupyter notebook\n",
    "\n",
    "### Using Jupyter Notebooks\n",
    "\n",
    "Once you launch the Jupyter Notebook, and the Notebook opens up in your browser, you will be looking at a directory of the folder you were in when you launched the notebook.  you can either load an existing notebook if you see one in the directory, or create a new one.  If you changed directory to the correct location, you should already see this notebook in the directory in the Jupyter Notebook:\n",
    "\n",
    "**Introduction-to-jupyter-notebooks-and-python.ipynb**\n",
    "\n",
    "The ipynb is a reference to the older name of IPython Notebook for the Jupyter notebooks.\n",
    "\n",
    "If you click on this entry in the directory within the Jupyter Notebook, another tab will be created in your browser, containing this notebook, ready to use.  Go ahead and do that.\n",
    "\n",
    "Note that it has cells, that contain text (until farther down in the notebook).  These are markdown cells.  Notice the pulldown list for the cell type contains:\n",
    "\n",
    "* Code -- which we will use for Python code mainly, though it could use other languages\n",
    "* Markdown, like this cell, using a flavor of structured text like that used in Wikipedia and many other platforms\n",
    "* Other options will appear depending on what else is installed for use with Jupyter, like kernels for Scala, R, Octave, etc.\n",
    "\n",
    "You can edit the contents of a cell by double-clicking on it.  Try it on this cell.\n",
    "\n",
    "When you are ready to save it or exit edit mode, just use Shift-Enter.\n",
    "\n",
    "We will see how the code cells work next, in the context of learning a bit about the Python programming language.\n",
    "\n",
    "Before going on to that, though, just note that you can use Markdown syntax to format your text.  Documentation on the markdown syntax is available here: http://jupyter-notebook.readthedocs.io/en/latest/examples/Notebook/Working%20With%20Markdown%20Cells.html\n",
    "\n",
    "You can also use LaTeX syntax to enter math or create symbols in your Markdown cells:\n",
    "\n",
    "$y = \\alpha + \\beta X $\n",
    "\n",
    "$c = \\sqrt{a^2 + b^2}$\n",
    "\n",
    "Cells can also contain programs, or code.  We will be using Python code extensively in this course.  The next cell contains a Python command, and that command can be executed in the Notebook by clicking Shift-Enter on the cell, or selecting Cell/Run Cells from the menu, or clicking on the Run icon  (left of the black square), on the toolbar.  Notice that it executes the command and writes the output below the cell.\n"
   ]
  },
  {
   "cell_type": "code",
   "execution_count": 1,
   "metadata": {},
   "outputs": [
    {
     "data": {
      "text/plain": [
       "9.899494936611665"
      ]
     },
     "execution_count": 1,
     "metadata": {},
     "output_type": "execute_result"
    }
   ],
   "source": [
    "import math\n",
    "math.sqrt(98)"
   ]
  },
  {
   "cell_type": "markdown",
   "metadata": {},
   "source": [
    "## Python\n",
    "\n",
    "Python is an interpreted programming language, also referred to as a *high-level language*, or as a scripting language.  What this means is that when you write some commands, or statements that are meaningful in the Python language, the Python 'interpreter' reads the command, figures out what the intended computation is, and then executes it.  This differs from *low-level* languages like C or C++, in which you generally have to compile code  before you can run it, and if you find errors they have to be diagnosed and then the code re-compiled before you can run it.  Interpreted languages skip the compile step, and just execute code directly, and if there are errors, they are seen at run-time.  "
   ]
  },
  {
   "cell_type": "markdown",
   "metadata": {},
   "source": [
    "### Installing Anaconda Python Bundle with Jupyter\n",
    "\n",
    "In the computer lab we have already installed all the software you need for this course.  I recommend that you also install Python on your own computer.  Please use the following installer to make things as consistent as possible with the environment in class.\n",
    "\n",
    "The Anaconda Python installer from Continuum Analytics contains most of the libraries we will use. You can find it here:\n",
    "https://store.continuum.io/cshop/anaconda/\n",
    "\n",
    "You will find installers for each operating system, and versions for Python 2.7 and 3.6.  We **highly** recommend using 3.6, and we will be using 3.6 in class, so you will be less likely to be tripped up by small differences in syntax if you do the same.\n",
    "\n",
    "It is free - they just ask for your email address. In fact, virtually all the software we will use in this class is open source and free (as in no cost).\n",
    "\n",
    "Python runs on Windows, OSX, and Linux, so regardless of what computer you are using, it will most likely run on it.  And having Python installed on your computer is a good way to make it easier to practice on your own, without having to find time to come in to use the computer lab.  "
   ]
  },
  {
   "cell_type": "markdown",
   "metadata": {},
   "source": [
    "### Python Interpreter Environments\n",
    "\n",
    "When we write and execute Python code, we generally do that within an environment known as an Interpreter. Python interpreter and editing environments can be quite varied. Some options include:\n",
    "\n",
    "1. Starting Python at the command line, by typing 'python' at the command prompt (c:\\ on windows, for example)\n",
    "1. Starting an editor that can edit and run Python, like Idle, which comes built-in with Python,or programming editors like Scite.\n",
    "1. The way we will generally interact with Python is through Juoyter Notebooks like this one, that provide a Python environment that runs in your web browser.  This is the environment you are looking at now, with a mixture of headings, text, and code embedded in a Jupyter Notebook."
   ]
  },
  {
   "cell_type": "markdown",
   "metadata": {},
   "source": [
    "## Hello World!"
   ]
  },
  {
   "cell_type": "markdown",
   "metadata": {},
   "source": [
    "The first programming command demonstrated when you are learning a programming language is usually to make the computer print 'Hello World!'.  In Python, doing this is pretty simple:"
   ]
  },
  {
   "cell_type": "code",
   "execution_count": 2,
   "metadata": {},
   "outputs": [
    {
     "name": "stdout",
     "output_type": "stream",
     "text": [
      "Hello World!\n"
     ]
    }
   ],
   "source": [
    "print (\"Hello World!\")"
   ]
  },
  {
   "cell_type": "markdown",
   "metadata": {},
   "source": [
    "As you can see, there is not much code involved in making this happen.  The word 'print' is a command that Python knows how to process, and the text string 'Hello World!' in quotations is an *argument* being passes to the print command.  You can of course pass any kind of argument to the Python print command, and it will try to *do the right thing* without you having to micro-manage the process."
   ]
  },
  {
   "cell_type": "markdown",
   "metadata": {},
   "source": [
    "## Python as an Interactive Calculator"
   ]
  },
  {
   "cell_type": "markdown",
   "metadata": {},
   "source": [
    "Python can be used as a simple interactive calculator, by just typing in a mathematical expression as you might on a regular or scientific calculator:"
   ]
  },
  {
   "cell_type": "code",
   "execution_count": 3,
   "metadata": {},
   "outputs": [
    {
     "data": {
      "text/plain": [
       "-2"
      ]
     },
     "execution_count": 3,
     "metadata": {},
     "output_type": "execute_result"
    }
   ],
   "source": [
    "2-4"
   ]
  },
  {
   "cell_type": "markdown",
   "metadata": {},
   "source": [
    "What happened above is that Python interpreted the line '2+2' to parse that it should understand the first object it encountered as an integer, the second object as a mathematical operator for addition, and the third as another integer.  Python's interpreter mostly just tries to figure out what you mean when you write statements like this, and as long as it is unambiguous and feasible to compute, it just does it without you having to explain things in detail.\n",
    "\n",
    "You can of course use any kinds of numbers -- integers or floating point numbers with decimal places, and any standard mathematical operators, and most of the time you get what you expect:"
   ]
  },
  {
   "cell_type": "code",
   "execution_count": 4,
   "metadata": {},
   "outputs": [
    {
     "data": {
      "text/plain": [
       "12.8"
      ]
     },
     "execution_count": 4,
     "metadata": {},
     "output_type": "execute_result"
    }
   ],
   "source": [
    "3.2*4"
   ]
  },
  {
   "cell_type": "code",
   "execution_count": 5,
   "metadata": {},
   "outputs": [
    {
     "data": {
      "text/plain": [
       "81"
      ]
     },
     "execution_count": 5,
     "metadata": {},
     "output_type": "execute_result"
    }
   ],
   "source": [
    "3**4"
   ]
  },
  {
   "cell_type": "markdown",
   "metadata": {},
   "source": [
    "### A Note on Calculating with Different Data Types"
   ]
  },
  {
   "cell_type": "markdown",
   "metadata": {},
   "source": [
    "But not always.  What happens if we divide 11 by 3? "
   ]
  },
  {
   "cell_type": "code",
   "execution_count": 6,
   "metadata": {},
   "outputs": [
    {
     "data": {
      "text/plain": [
       "3.6666666666666665"
      ]
     },
     "execution_count": 6,
     "metadata": {},
     "output_type": "execute_result"
    }
   ],
   "source": [
    "11/3"
   ]
  },
  {
   "cell_type": "markdown",
   "metadata": {},
   "source": [
    "If you are using Python 3.x, you get a floating point result as you would expect.  In Python 2.x versions, you get a truncated integer division, returning a result of 3.  In Python 2 if you wanted to get the result with decimals you had to make one of the operators a floating point number like this:"
   ]
  },
  {
   "cell_type": "code",
   "execution_count": 7,
   "metadata": {},
   "outputs": [
    {
     "data": {
      "text/plain": [
       "3.6666666666666665"
      ]
     },
     "execution_count": 7,
     "metadata": {},
     "output_type": "execute_result"
    }
   ],
   "source": [
    "11./3"
   ]
  },
  {
   "cell_type": "markdown",
   "metadata": {},
   "source": [
    "## The Pylab Interactive Plotting Environment"
   ]
  },
  {
   "cell_type": "markdown",
   "metadata": {},
   "source": [
    "OK, so maybe using Python as an interactive calculator is not the most compelling case for using Python, even if it does demonstrate that Python has a very shallow learning curve for someone completely new to programming.  You can actually begin using it productively even before learning how to program in it!\n",
    "\n",
    "To give a preview of somewhat more advanced topics, let's look at the interactive plotting mode in IPython that we can invoke by using 'magic' commands, and importing some modules: "
   ]
  },
  {
   "cell_type": "code",
   "execution_count": 8,
   "metadata": {
    "collapsed": true
   },
   "outputs": [],
   "source": [
    "#magic command to display matplotlib plots inline within the Jupyter notebook webpage\n",
    "%matplotlib inline\n",
    "#import necessary modules\n",
    "import pandas as pd, numpy as np, matplotlib.pyplot as plt"
   ]
  },
  {
   "cell_type": "markdown",
   "metadata": {},
   "source": [
    "This loads pandas and numpy and the matplotlib plotting environment.  We'll come back to these libraries in more detail later, but now let's look at how they allow us to extend the range of things we can do.  Let's assign 1,000 sequential numbers to a variable labeled x, and create another variable, y, that has some transformation of x, and then plot y against x:"
   ]
  },
  {
   "cell_type": "code",
   "execution_count": 9,
   "metadata": {},
   "outputs": [
    {
     "data": {
      "text/plain": [
       "[<matplotlib.lines.Line2D at 0x1190abe80>]"
      ]
     },
     "execution_count": 9,
     "metadata": {},
     "output_type": "execute_result"
    },
    {
     "data": {
      "image/png": "[encoded data removed]",
      "text/plain": [
       "<matplotlib.figure.Figure at 0x115d0a8d0>"
      ]
     },
     "metadata": {},
     "output_type": "display_data"
    }
   ],
   "source": [
    "x=range(100)\n",
    "y=np.sin(x)\n",
    "plt.plot(x*y)"
   ]
  },
  {
   "cell_type": "markdown",
   "metadata": {},
   "source": [
    "Or here is how we could draw 1,000 random numbers from a normal distribution, and plot the results as a frequency histogram:"
   ]
  },
  {
   "cell_type": "code",
   "execution_count": 10,
   "metadata": {},
   "outputs": [
    {
     "data": {
      "text/plain": [
       "(array([   1.,    2.,    2.,    3.,    3.,    8.,   19.,   25.,   35.,\n",
       "          43.,   40.,   64.,   78.,   74.,   81.,  104.,   74.,   84.,\n",
       "          45.,   57.,   44.,   39.,   17.,   23.,    9.,    8.,    9.,\n",
       "           5.,    2.,    2.]),\n",
       " array([-3.22814779, -3.01371917, -2.79929056, -2.58486195, -2.37043334,\n",
       "        -2.15600472, -1.94157611, -1.7271475 , -1.51271889, -1.29829027,\n",
       "        -1.08386166, -0.86943305, -0.65500444, -0.44057583, -0.22614721,\n",
       "        -0.0117186 ,  0.20271001,  0.41713862,  0.63156724,  0.84599585,\n",
       "         1.06042446,  1.27485307,  1.48928168,  1.7037103 ,  1.91813891,\n",
       "         2.13256752,  2.34699613,  2.56142475,  2.77585336,  2.99028197,\n",
       "         3.20471058]),\n",
       " <a list of 30 Patch objects>)"
      ]
     },
     "execution_count": 10,
     "metadata": {},
     "output_type": "execute_result"
    },
    {
     "data": {
      "image/png": "[encoded data removed]",
      "text/plain": [
       "<matplotlib.figure.Figure at 0x119184ba8>"
      ]
     },
     "metadata": {},
     "output_type": "display_data"
    }
   ],
   "source": [
    "x = np.random.randn(1000)\n",
    "plt.hist(x, bins=30)"
   ]
  },
  {
   "cell_type": "markdown",
   "metadata": {},
   "source": [
    "## Getting Some Help"
   ]
  },
  {
   "cell_type": "markdown",
   "metadata": {},
   "source": [
    "A couple of things that IPython does to help you be more productive are useful to introduce here.  One is called tab-completion.  If you can't quite remember the full name of a function, or it is really long and you don't like to type much, you can type the first few characters, and hit the tab key, and the options that begin with those first few characters show up on a menu.\n",
    "\n",
    "The other thing you can make a lot of use of is help!  Is you want to know more about how a method or function works, type the name of the function followed by a question mark. For example, if we wanted to see how to confogure the hist command, we could do:"
   ]
  },
  {
   "cell_type": "code",
   "execution_count": 11,
   "metadata": {
    "collapsed": true
   },
   "outputs": [],
   "source": [
    "plt.hist?"
   ]
  },
  {
   "cell_type": "markdown",
   "metadata": {},
   "source": [
    "This brings up help text for this command, in a split window in the IPython Notebook.  After you read the help, you can minimize the help window by dragging the divider down to the bottom of the Notebook window."
   ]
  },
  {
   "cell_type": "markdown",
   "metadata": {},
   "source": [
    "## What is a Program?"
   ]
  },
  {
   "cell_type": "markdown",
   "metadata": {},
   "source": [
    "As Allen Downey explains in Think Python, the main elements of a program are:\n",
    "\n",
    "**input**: Get data from the keyboard, a ﬁle, or some other device.\n",
    "\n",
    "**output**: Display data on the screen or send data to a ﬁle or other device.\n",
    "\n",
    "**math**: Perform basic mathematical operations like addition and multiplication.\n",
    "\n",
    "**conditional execution**: Check for certain conditions and execute the appropriate code.\n",
    "\n",
    "**repetition**: Perform some action repeatedly, usually with some variation.\n",
    "\n",
    "These are common steps that you will find to be a generic recipe for many programs, whether written in Python or any other language."
   ]
  },
  {
   "cell_type": "markdown",
   "metadata": {},
   "source": [
    "## The Basic Data Types"
   ]
  },
  {
   "cell_type": "markdown",
   "metadata": {},
   "source": [
    "Data in Python is interpreted as having a **type**.  In low-level, compiled languages like C or C++, the programmer has to explicitly declare the type of each variable before actually using it.  In Python, the type is inferred at run time, and you can always ask Python what the type of an object is:"
   ]
  },
  {
   "cell_type": "code",
   "execution_count": 12,
   "metadata": {},
   "outputs": [
    {
     "name": "stdout",
     "output_type": "stream",
     "text": [
      "<class 'int'>\n"
     ]
    }
   ],
   "source": [
    "a = 13\n",
    "print (type(a))"
   ]
  },
  {
   "cell_type": "code",
   "execution_count": 13,
   "metadata": {},
   "outputs": [
    {
     "name": "stdout",
     "output_type": "stream",
     "text": [
      "<class 'float'>\n"
     ]
    }
   ],
   "source": [
    "a = a*1.1\n",
    "print (type(a))"
   ]
  },
  {
   "cell_type": "code",
   "execution_count": 14,
   "metadata": {},
   "outputs": [
    {
     "name": "stdout",
     "output_type": "stream",
     "text": [
      "<class 'str'>\n"
     ]
    }
   ],
   "source": [
    "a = 'Hello World!'\n",
    "print (type(a))"
   ]
  },
  {
   "cell_type": "markdown",
   "metadata": {},
   "source": [
    "Notice that when we multiply a, which was initially an integer, by a floaring point (decimal number) the result is **cast** as a float.  This is like the integer divide problem earlier -- using a floating point number in the calculation causes the result of the calculation to become a floating point number.\n",
    "\n",
    "Notice also that we can reassign any value or type to a variable.  We began with **a** being an integer, then changed its value to a float, and then to a string (text).  Variables are dynamically updated in this way based on values assigned to them."
   ]
  },
  {
   "cell_type": "markdown",
   "metadata": {},
   "source": [
    "## Variables"
   ]
  },
  {
   "cell_type": "markdown",
   "metadata": {},
   "source": [
    "Variables are objects that we want to associate some kind of values to.  They can be of any type: "
   ]
  },
  {
   "cell_type": "code",
   "execution_count": 15,
   "metadata": {},
   "outputs": [
    {
     "data": {
      "text/plain": [
       "'San Francisco'"
      ]
     },
     "execution_count": 15,
     "metadata": {},
     "output_type": "execute_result"
    }
   ],
   "source": [
    "city = 'San Francisco'\n",
    "city"
   ]
  },
  {
   "cell_type": "code",
   "execution_count": 16,
   "metadata": {},
   "outputs": [
    {
     "data": {
      "text/plain": [
       "str"
      ]
     },
     "execution_count": 16,
     "metadata": {},
     "output_type": "execute_result"
    }
   ],
   "source": [
    "type(city)"
   ]
  },
  {
   "cell_type": "code",
   "execution_count": 17,
   "metadata": {},
   "outputs": [
    {
     "data": {
      "text/plain": [
       "345"
      ]
     },
     "execution_count": 17,
     "metadata": {},
     "output_type": "execute_result"
    }
   ],
   "source": [
    "x = 345\n",
    "x"
   ]
  },
  {
   "cell_type": "code",
   "execution_count": 18,
   "metadata": {},
   "outputs": [
    {
     "data": {
      "text/plain": [
       "int"
      ]
     },
     "execution_count": 18,
     "metadata": {},
     "output_type": "execute_result"
    }
   ],
   "source": [
    "type(x)"
   ]
  },
  {
   "cell_type": "code",
   "execution_count": 19,
   "metadata": {},
   "outputs": [
    {
     "data": {
      "text/plain": [
       "2.324"
      ]
     },
     "execution_count": 19,
     "metadata": {},
     "output_type": "execute_result"
    }
   ],
   "source": [
    "y = 2.324\n",
    "y"
   ]
  },
  {
   "cell_type": "code",
   "execution_count": 20,
   "metadata": {},
   "outputs": [
    {
     "data": {
      "text/plain": [
       "float"
      ]
     },
     "execution_count": 20,
     "metadata": {},
     "output_type": "execute_result"
    }
   ],
   "source": [
    "type(y)"
   ]
  },
  {
   "cell_type": "markdown",
   "metadata": {},
   "source": [
    "You can use a lot of names for a variable, but there are exceptions (another word for error!).  Some rules apply.  You can't use Python reserved words, or start with a number, or use nonstandard characters like a copyright symbol.  You'll get an **exception** if you do:"
   ]
  },
  {
   "cell_type": "code",
   "execution_count": 21,
   "metadata": {},
   "outputs": [
    {
     "ename": "SyntaxError",
     "evalue": "invalid syntax (<ipython-input-21-c4fd6a35c330>, line 1)",
     "output_type": "error",
     "traceback": [
      "\u001b[0;36m  File \u001b[0;32m\"<ipython-input-21-c4fd6a35c330>\"\u001b[0;36m, line \u001b[0;32m1\u001b[0m\n\u001b[0;31m    2x = 24\u001b[0m\n\u001b[0m     ^\u001b[0m\n\u001b[0;31mSyntaxError\u001b[0m\u001b[0;31m:\u001b[0m invalid syntax\n"
     ]
    }
   ],
   "source": [
    "2x = 24"
   ]
  },
  {
   "cell_type": "markdown",
   "metadata": {},
   "source": [
    "And here are the 31 keywords reserved by Python (in version 2), that are ineligible for use as variable names:\n",
    "\n",
    "and, as, assert, break, class, continue, def, del, elif, else, except, exec, finally, for, from, global, if, import, in, is, lambda, not, or, pass, print, raise, return, try, while, with, yield."
   ]
  },
  {
   "cell_type": "markdown",
   "metadata": {},
   "source": [
    "## Operators, Expressions and Statements"
   ]
  },
  {
   "cell_type": "markdown",
   "metadata": {},
   "source": [
    "Operators are symbols used to indicste different operations, mostly mathematical, but some operate on strings also.\n",
    "\n",
    "The obvious ones are +,-,*,/, and \\**, indicating addition, subtraction, multiplication, division and exponentiation."
   ]
  },
  {
   "cell_type": "code",
   "execution_count": null,
   "metadata": {
    "collapsed": true
   },
   "outputs": [],
   "source": [
    "5*5"
   ]
  },
  {
   "cell_type": "code",
   "execution_count": null,
   "metadata": {
    "collapsed": true
   },
   "outputs": [],
   "source": [
    "x = 5\n",
    "x = x/2.1\n",
    "print (x)"
   ]
  },
  {
   "cell_type": "code",
   "execution_count": null,
   "metadata": {
    "collapsed": true
   },
   "outputs": [],
   "source": [
    "y = x**2\n",
    "print (y)"
   ]
  },
  {
   "cell_type": "markdown",
   "metadata": {},
   "source": [
    "Some of these operators also work on strings, but the behavior is different:"
   ]
  },
  {
   "cell_type": "code",
   "execution_count": null,
   "metadata": {
    "collapsed": true
   },
   "outputs": [],
   "source": [
    "city = 'San Francisco'\n",
    "sep = ', '\n",
    "state = 'California'\n",
    "location = city+sep+state\n",
    "print (location)"
   ]
  },
  {
   "cell_type": "code",
   "execution_count": null,
   "metadata": {
    "collapsed": true
   },
   "outputs": [],
   "source": [
    "city*4"
   ]
  },
  {
   "cell_type": "markdown",
   "metadata": {},
   "source": [
    "Expressions are combinations of values, variables and operators, like most of the lines in this section.  Statements often include expressions, but unlike expressions they do not always have a value (for example a print statement, and represent a line of code that Python can execute."
   ]
  },
  {
   "cell_type": "markdown",
   "metadata": {},
   "source": [
    "## Python Scripts"
   ]
  },
  {
   "cell_type": "markdown",
   "metadata": {},
   "source": [
    "All the examples we have typed in to the Jupyter Notebook have been statements  evaluated interactively as soon as we type them and execute them with a Shift-Enter.  While this is an excellent way to develop confidence in learning Python, and later for interactively exploring data, it is also often useful or necessary to store statements in a Python script that can be rerun at any time.\n",
    "\n",
    "Python scripts are just text files stored on disk, containing Python statements and comments.  The convention of using **.py** as the suffix for a Python script makes it easy to find and run such scripts and to have the Python interpreter parse the statements and execute them one at a time, from top to bottom, as though they had been entered interactively (there are some minor differences in how the interpreter parses interactive commands as compared to scripts, but we will ignore that for now).\n",
    "\n",
    "Comments are a good thing to add to scripts to provide some documentation of what the script is supposed to do, or how to use the script, or to remind yourself later what you had in mind when you wrote the script.  The convention is to use a # sign at the beginning of the line to indicate that that line is a comment, and not to be parsed and executed by Python.  It does not significantly slow down Python to have to step through comments and ignore them -- so use comments liberally!"
   ]
  },
  {
   "cell_type": "code",
   "execution_count": null,
   "metadata": {
    "collapsed": true
   },
   "outputs": [],
   "source": [
    "# This is a comment explaining the code below\n",
    "# which I would not remember in detail later without comments\n",
    "income = 50000.0+10000*np.random.randn(10)\n",
    "y = np.log(income)\n",
    "y"
   ]
  },
  {
   "cell_type": "markdown",
   "metadata": {},
   "source": [
    "You can import and export Python scripts from the IPython Notebook.  Once you have a notebook you want to save as a Python script, you can select 'File', 'Download as', and then 'Python (.py)'.  This will save the code as a Python script that can be reloaded in a Notebook or executed in **Batch** mode, or run from beginning to end sequentially, without waiting for you to execute each cell one by one.\n",
    "\n",
    "Python scripts can be run at the command line by typing python and then the name of the python script you want to run, as in: **c:\\python test.py**. They can also be loaded into an IPython session, such as into a Notebook, and run there."
   ]
  },
  {
   "cell_type": "markdown",
   "metadata": {},
   "source": [
    "## Exercise 1"
   ]
  },
  {
   "cell_type": "markdown",
   "metadata": {},
   "source": [
    "Exercise 1 has two parts and is due Sunday. First, sign up for an Open Computing Facility (OCF) account. Second, install Anaconda on your own personal laptop or desktop computer, then verify that IPython/Jupyter Notebook is working. If you do not have a computer, that's ok - it might be a little inconvenient, but you can use the lab computers for this course. If you will be using only the lab computers and not your own computer, email Arezoo directly to let her know.\n",
    "\n",
    "Preliminaries\n",
    "\n",
    "Read the Anaconda QuickStart guide: https://docs.continuum.io/anaconda/install (Links to an external site.)\n",
    "Read the Jupyter Notebook overview: http://jupyter-notebook.readthedocs.io/en/latest/notebook.html (Links to an external site.) (Links to an external site.)\n",
    "If you're not already comfortable with the command prompt (windows) or terminal (mac), read: http://dosprompt.info/ (Links to an external site.) or http://guides.macrumors.com/Terminal (Links to an external site.) to familiarize yourself with the basic commands (such as changing directories and listing the contents of a directory) discussed in these links so that you can use the command prompt/terminal to access Python.\n",
    "OCF\n",
    "\n",
    "Sign up for an OCF account at: https://wiki.ocf.berkeley.edu/membership/\n",
    "Do this TODAY because it can take a week+ to get your account created in the system! We will use these accounts to set up a blog to submit/publish your work in this class.\n",
    "Take a screenshot of the confirmation that you requested an account, and save it to your computer. If you don't know how, just Google it!\n",
    "Anaconda\n",
    "\n",
    "Download the Anaconda installer for Python 3.6 from https://store.continuum.io/cshop/anaconda/ (Links to an external site.)\n",
    "Make sure you download the correct installer for your operating system (Windows, Mac, Linux, etc) and architecture (32 or 64 bit). If you don't know if your operating system is 32 or 64 bit, Google for how to check it.  And make sure you download the installer for Python 3.6, not 2.7.\n",
    "Run the Anaconda installer.\n",
    "In the Anaconda installer dialog, choose to install for all users, accept the default destination folder (something like c:\\anaconda), and make sure both tick boxes are ticked for \"add anaconda to the system path\" and \"register anaconda as the system python\"\n",
    "Jupyter Notebook\n",
    "\n",
    "Open your command prompt (windows) or terminal (mac). If you don't know how, just Google it!\n",
    "run: jupyter notebook\n",
    "You should see the Jupyter server running in your browser. Click \"New\" > \"Python 3\"\n",
    "You are now in a new Jupyter notebook. In the first cell, type: print (\"Hello World!\")\n",
    "Hit shift + Enter to run the cell (it should print Hello World if things are working properly)\n",
    "Take a screenshot and save it to your computer\n",
    " \n",
    "\n",
    "All done! Now just submit your two screenshots (OCF confirmation and IPython notebook) and submit them via bcourses upload."
   ]
  },
  {
   "cell_type": "code",
   "execution_count": null,
   "metadata": {
    "collapsed": true
   },
   "outputs": [],
   "source": []
  }
 ],
 "metadata": {
  "kernelspec": {
   "display_name": "Python 3",
   "language": "python",
   "name": "python3"
  },
  "language_info": {
   "codemirror_mode": {
    "name": "ipython",
    "version": 3
   },
   "file_extension": ".py",
   "mimetype": "text/x-python",
   "name": "python",
   "nbconvert_exporter": "python",
   "pygments_lexer": "ipython3",
   "version": "3.6.1"
  }
 },
 "nbformat": 4,
 "nbformat_minor": 1
}
