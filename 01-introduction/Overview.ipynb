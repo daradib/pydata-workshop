{
 "cells": [
  {
   "cell_type": "markdown",
   "id": "a915924b",
   "metadata": {
    "slideshow": {
     "slide_type": "slide"
    }
   },
   "source": [
    "***\n",
    "# Overview\n",
    "****"
   ]
  },
  {
   "cell_type": "markdown",
   "id": "bfba5807",
   "metadata": {
    "slideshow": {
     "slide_type": "subslide"
    }
   },
   "source": [
    "## Target audience\n",
    "\n",
    " * Limited or no programming experience\n",
    " * Perhaps a spreadsheet power user\n",
    " * Willingness to learn"
   ]
  },
  {
   "cell_type": "markdown",
   "id": "26f19e23",
   "metadata": {
    "slideshow": {
     "slide_type": "subslide"
    }
   },
   "source": [
    "## Why Not Spreadsheets\n",
    "\n",
    "![spreadsheets](https://imgs.xkcd.com/comics/spreadsheets.png)\n",
    "\n",
    " - bigger data\n",
    " - more powerful computations\n",
    " - reproducibility\n",
    " - programming flexibility\n",
    " - we can have the best of both worlds!"
   ]
  },
  {
   "cell_type": "markdown",
   "id": "2f33c3ee",
   "metadata": {
    "slideshow": {
     "slide_type": "subslide"
    }
   },
   "source": [
    "## Data Science\n",
    "\n",
    "![Data_Science_VD](Data_Science_VD.png)"
   ]
  },
  {
   "cell_type": "markdown",
   "id": "0f6838d6",
   "metadata": {
    "slideshow": {
     "slide_type": "subslide"
    }
   },
   "source": [
    "![machine_learning](https://imgs.xkcd.com/comics/machine_learning.png)"
   ]
  },
  {
   "cell_type": "markdown",
   "id": "d2f9423d",
   "metadata": {
    "slideshow": {
     "slide_type": "subslide"
    }
   },
   "source": [
    "## Scope\n",
    "\n",
    " * Python programming for interactive data exploration\n",
    " * Not frontend or backend programming although there is some overlap\n",
    " * [Ten thousand hours](https://www.norvig.com/21-days.html) to be a good programmer\n",
    " * **No stupid questions**"
   ]
  },
  {
   "cell_type": "markdown",
   "id": "6e39e8af",
   "metadata": {
    "slideshow": {
     "slide_type": "subslide"
    }
   },
   "source": [
    "## Computing\n",
    "\n",
    " * 3rd millenium BC: abacus\n",
    " * 19th century: Ada Lovelace and Charles's Babbage's Analytical Engine\n",
    " * mid-20th century: ENIAC\n",
    " * today: phones, toasters, centrifuges, missiles\n",
    "\n",
    "![judgment_day](https://imgs.xkcd.com/comics/judgment_day.png)"
   ]
  },
  {
   "cell_type": "markdown",
   "id": "912f045f",
   "metadata": {
    "slideshow": {
     "slide_type": "subslide"
    }
   },
   "source": [
    "![mars-achievement](https://github.blog/wp-content/uploads/2021/04/mars-achievement.png)\n",
    "\n",
    "I may never leave the planet, but my code can fly on Mars.\n",
    "\n",
    "Take that, Elon!"
   ]
  },
  {
   "cell_type": "markdown",
   "id": "9ef355c9",
   "metadata": {
    "slideshow": {
     "slide_type": "slide"
    }
   },
   "source": [
    "## What is the Python\n",
    "\n",
    "[![zahre-mar](https://d1rteoxemrfgzl.cloudfront.net/rails/active_storage/representations/proxy/eyJfcmFpbHMiOnsiZGF0YSI6MzA1NywicHVyIjoiYmxvYl9pZCJ9fQ==--76f1db2d8e8de715dfc0873a67bc619b722afa6e/eyJfcmFpbHMiOnsiZGF0YSI6eyJmb3JtYXQiOiJqcGciLCJyZXNpemUiOiIxMjAweDEyMDBcdTAwM2UiLCJncmF2aXR5IjoiQ2VudGVyIiwicXVhbGl0eSI6NjB9LCJwdXIiOiJ2YXJpYXRpb24ifX0=--f3a0ff575ab2df965f38b832b872841565e25923/zahre-20mar.jpg)](https://www.chaiandconversation.com/2014/11-persian-sayings-make-no-sense-english)"
   ]
  },
  {
   "cell_type": "markdown",
   "id": "d8d5ef8a",
   "metadata": {
    "slideshow": {
     "slide_type": "fragment"
    }
   },
   "source": [
    "Nope, pythons don't have venom."
   ]
  }
 ],
 "metadata": {
  "kernelspec": {
   "display_name": "Python 3 (ipykernel)",
   "language": "python",
   "name": "python3"
  },
  "language_info": {
   "codemirror_mode": {
    "name": "ipython",
    "version": 3
   },
   "file_extension": ".py",
   "mimetype": "text/x-python",
   "name": "python",
   "nbconvert_exporter": "python",
   "pygments_lexer": "ipython3",
   "version": "3.9.2"
  },
  "rise": {
   "autolaunch": true,
   "theme": "night"
  }
 },
 "nbformat": 4,
 "nbformat_minor": 5
}
